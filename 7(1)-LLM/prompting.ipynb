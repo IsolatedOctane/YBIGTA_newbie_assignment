{
 "cells": [
  {
   "cell_type": "code",
   "execution_count": 2,
   "id": "53cd899e",
   "metadata": {},
   "outputs": [
    {
     "name": "stdout",
     "output_type": "stream",
     "text": [
      "Requirement already satisfied: groq in /home/woojin/miniconda3/envs/myenv/lib/python3.11/site-packages (0.30.0)\n",
      "Requirement already satisfied: python-dotenv in /home/woojin/miniconda3/envs/myenv/lib/python3.11/site-packages (1.1.1)\n",
      "Requirement already satisfied: numpy in /home/woojin/miniconda3/envs/myenv/lib/python3.11/site-packages (1.26.4)\n",
      "Requirement already satisfied: tqdm in /home/woojin/miniconda3/envs/myenv/lib/python3.11/site-packages (4.67.1)\n",
      "Requirement already satisfied: datasets in /home/woojin/miniconda3/envs/myenv/lib/python3.11/site-packages (4.0.0)\n",
      "Requirement already satisfied: anyio<5,>=3.5.0 in /home/woojin/miniconda3/envs/myenv/lib/python3.11/site-packages (from groq) (4.9.0)\n",
      "Requirement already satisfied: distro<2,>=1.7.0 in /home/woojin/miniconda3/envs/myenv/lib/python3.11/site-packages (from groq) (1.9.0)\n",
      "Requirement already satisfied: httpx<1,>=0.23.0 in /home/woojin/miniconda3/envs/myenv/lib/python3.11/site-packages (from groq) (0.28.1)\n",
      "Requirement already satisfied: pydantic<3,>=1.9.0 in /home/woojin/miniconda3/envs/myenv/lib/python3.11/site-packages (from groq) (2.11.7)\n",
      "Requirement already satisfied: sniffio in /home/woojin/miniconda3/envs/myenv/lib/python3.11/site-packages (from groq) (1.3.1)\n",
      "Requirement already satisfied: typing-extensions<5,>=4.10 in /home/woojin/miniconda3/envs/myenv/lib/python3.11/site-packages (from groq) (4.14.1)\n",
      "Requirement already satisfied: idna>=2.8 in /home/woojin/miniconda3/envs/myenv/lib/python3.11/site-packages (from anyio<5,>=3.5.0->groq) (3.10)\n",
      "Requirement already satisfied: certifi in /home/woojin/miniconda3/envs/myenv/lib/python3.11/site-packages (from httpx<1,>=0.23.0->groq) (2025.7.14)\n",
      "Requirement already satisfied: httpcore==1.* in /home/woojin/miniconda3/envs/myenv/lib/python3.11/site-packages (from httpx<1,>=0.23.0->groq) (1.0.9)\n",
      "Requirement already satisfied: h11>=0.16 in /home/woojin/miniconda3/envs/myenv/lib/python3.11/site-packages (from httpcore==1.*->httpx<1,>=0.23.0->groq) (0.16.0)\n",
      "Requirement already satisfied: annotated-types>=0.6.0 in /home/woojin/miniconda3/envs/myenv/lib/python3.11/site-packages (from pydantic<3,>=1.9.0->groq) (0.7.0)\n",
      "Requirement already satisfied: pydantic-core==2.33.2 in /home/woojin/miniconda3/envs/myenv/lib/python3.11/site-packages (from pydantic<3,>=1.9.0->groq) (2.33.2)\n",
      "Requirement already satisfied: typing-inspection>=0.4.0 in /home/woojin/miniconda3/envs/myenv/lib/python3.11/site-packages (from pydantic<3,>=1.9.0->groq) (0.4.1)\n",
      "Requirement already satisfied: filelock in /home/woojin/miniconda3/envs/myenv/lib/python3.11/site-packages (from datasets) (3.18.0)\n",
      "Requirement already satisfied: pyarrow>=15.0.0 in /home/woojin/miniconda3/envs/myenv/lib/python3.11/site-packages (from datasets) (21.0.0)\n",
      "Requirement already satisfied: dill<0.3.9,>=0.3.0 in /home/woojin/miniconda3/envs/myenv/lib/python3.11/site-packages (from datasets) (0.3.8)\n",
      "Requirement already satisfied: pandas in /home/woojin/miniconda3/envs/myenv/lib/python3.11/site-packages (from datasets) (2.2.3)\n",
      "Requirement already satisfied: requests>=2.32.2 in /home/woojin/miniconda3/envs/myenv/lib/python3.11/site-packages (from datasets) (2.32.4)\n",
      "Requirement already satisfied: xxhash in /home/woojin/miniconda3/envs/myenv/lib/python3.11/site-packages (from datasets) (3.5.0)\n",
      "Requirement already satisfied: multiprocess<0.70.17 in /home/woojin/miniconda3/envs/myenv/lib/python3.11/site-packages (from datasets) (0.70.16)\n",
      "Requirement already satisfied: fsspec<=2025.3.0,>=2023.1.0 in /home/woojin/miniconda3/envs/myenv/lib/python3.11/site-packages (from fsspec[http]<=2025.3.0,>=2023.1.0->datasets) (2025.3.0)\n",
      "Requirement already satisfied: huggingface-hub>=0.24.0 in /home/woojin/miniconda3/envs/myenv/lib/python3.11/site-packages (from datasets) (0.34.3)\n",
      "Requirement already satisfied: packaging in /home/woojin/miniconda3/envs/myenv/lib/python3.11/site-packages (from datasets) (24.2)\n",
      "Requirement already satisfied: pyyaml>=5.1 in /home/woojin/miniconda3/envs/myenv/lib/python3.11/site-packages (from datasets) (6.0.2)\n",
      "Requirement already satisfied: aiohttp!=4.0.0a0,!=4.0.0a1 in /home/woojin/miniconda3/envs/myenv/lib/python3.11/site-packages (from fsspec[http]<=2025.3.0,>=2023.1.0->datasets) (3.12.15)\n",
      "Requirement already satisfied: aiohappyeyeballs>=2.5.0 in /home/woojin/miniconda3/envs/myenv/lib/python3.11/site-packages (from aiohttp!=4.0.0a0,!=4.0.0a1->fsspec[http]<=2025.3.0,>=2023.1.0->datasets) (2.6.1)\n",
      "Requirement already satisfied: aiosignal>=1.4.0 in /home/woojin/miniconda3/envs/myenv/lib/python3.11/site-packages (from aiohttp!=4.0.0a0,!=4.0.0a1->fsspec[http]<=2025.3.0,>=2023.1.0->datasets) (1.4.0)\n",
      "Requirement already satisfied: attrs>=17.3.0 in /home/woojin/miniconda3/envs/myenv/lib/python3.11/site-packages (from aiohttp!=4.0.0a0,!=4.0.0a1->fsspec[http]<=2025.3.0,>=2023.1.0->datasets) (25.3.0)\n",
      "Requirement already satisfied: frozenlist>=1.1.1 in /home/woojin/miniconda3/envs/myenv/lib/python3.11/site-packages (from aiohttp!=4.0.0a0,!=4.0.0a1->fsspec[http]<=2025.3.0,>=2023.1.0->datasets) (1.7.0)\n",
      "Requirement already satisfied: multidict<7.0,>=4.5 in /home/woojin/miniconda3/envs/myenv/lib/python3.11/site-packages (from aiohttp!=4.0.0a0,!=4.0.0a1->fsspec[http]<=2025.3.0,>=2023.1.0->datasets) (6.6.3)\n",
      "Requirement already satisfied: propcache>=0.2.0 in /home/woojin/miniconda3/envs/myenv/lib/python3.11/site-packages (from aiohttp!=4.0.0a0,!=4.0.0a1->fsspec[http]<=2025.3.0,>=2023.1.0->datasets) (0.3.2)\n",
      "Requirement already satisfied: yarl<2.0,>=1.17.0 in /home/woojin/miniconda3/envs/myenv/lib/python3.11/site-packages (from aiohttp!=4.0.0a0,!=4.0.0a1->fsspec[http]<=2025.3.0,>=2023.1.0->datasets) (1.20.1)\n",
      "Requirement already satisfied: hf-xet<2.0.0,>=1.1.3 in /home/woojin/miniconda3/envs/myenv/lib/python3.11/site-packages (from huggingface-hub>=0.24.0->datasets) (1.1.5)\n",
      "Requirement already satisfied: charset_normalizer<4,>=2 in /home/woojin/miniconda3/envs/myenv/lib/python3.11/site-packages (from requests>=2.32.2->datasets) (3.4.2)\n",
      "Requirement already satisfied: urllib3<3,>=1.21.1 in /home/woojin/miniconda3/envs/myenv/lib/python3.11/site-packages (from requests>=2.32.2->datasets) (2.5.0)\n",
      "Requirement already satisfied: python-dateutil>=2.8.2 in /home/woojin/miniconda3/envs/myenv/lib/python3.11/site-packages (from pandas->datasets) (2.9.0.post0)\n",
      "Requirement already satisfied: pytz>=2020.1 in /home/woojin/miniconda3/envs/myenv/lib/python3.11/site-packages (from pandas->datasets) (2025.2)\n",
      "Requirement already satisfied: tzdata>=2022.7 in /home/woojin/miniconda3/envs/myenv/lib/python3.11/site-packages (from pandas->datasets) (2025.2)\n",
      "Requirement already satisfied: six>=1.5 in /home/woojin/miniconda3/envs/myenv/lib/python3.11/site-packages (from python-dateutil>=2.8.2->pandas->datasets) (1.17.0)\n"
     ]
    }
   ],
   "source": [
    "!pip install groq python-dotenv numpy tqdm datasets"
   ]
  },
  {
   "cell_type": "code",
   "execution_count": 3,
   "id": "249253df",
   "metadata": {},
   "outputs": [
    {
     "name": "stderr",
     "output_type": "stream",
     "text": [
      "/home/woojin/miniconda3/envs/myenv/lib/python3.11/site-packages/tqdm/auto.py:21: TqdmWarning: IProgress not found. Please update jupyter and ipywidgets. See https://ipywidgets.readthedocs.io/en/stable/user_install.html\n",
      "  from .autonotebook import tqdm as notebook_tqdm\n"
     ]
    }
   ],
   "source": [
    "from groq import Groq\n",
    "from dotenv import load_dotenv\n",
    "from datasets import load_dataset\n",
    "\n",
    "import os\n",
    "from tqdm import tqdm\n",
    "import re\n",
    "import random\n",
    "import pprint\n",
    "\n",
    "from typing import List, Dict, Any\n",
    "\n",
    "load_dotenv()\n",
    "random.seed(0)\n",
    "\n",
    "client = Groq()\n",
    "gsm8k_dataset = load_dataset(\"gsm8k\", \"main\")\n",
    "\n",
    "gsm8k_train = gsm8k_dataset[\"train\"]\n",
    "gsm8k_test  = gsm8k_dataset[\"test\"]"
   ]
  },
  {
   "cell_type": "code",
   "execution_count": 15,
   "id": "c4d75bad",
   "metadata": {},
   "outputs": [],
   "source": [
    "def generate_response_using_Llama(\n",
    "        prompt: str,\n",
    "        model: str = \"llama3-8b-8192\"\n",
    "    ):\n",
    "    try:\n",
    "        chat_completion = client.chat.completions.create(\n",
    "            messages=[\n",
    "                {\n",
    "                    \"role\": \"system\",\n",
    "                    \"content\": \"You are a helpful assistant that solves math problems.\"\n",
    "                },\n",
    "                {\n",
    "                    \"role\": \"user\", \n",
    "                    \"content\": prompt\n",
    "                }\n",
    "            ],\n",
    "            model=model,\n",
    "            temperature=0.3, ### 수정해도 됩니다!\n",
    "            stream=False\n",
    "        )\n",
    "        return chat_completion.choices[0].message.content\n",
    "    \n",
    "    except Exception as e:\n",
    "        print(f\"API call error: {str(e)}\")\n",
    "        return None"
   ]
  },
  {
   "cell_type": "markdown",
   "id": "0ef65ad3",
   "metadata": {},
   "source": [
    "#### 응답 잘 나오는지 확인해보기"
   ]
  },
  {
   "cell_type": "code",
   "execution_count": 9,
   "id": "a37fad9a",
   "metadata": {},
   "outputs": [
    {
     "name": "stdout",
     "output_type": "stream",
     "text": [
      "Hello! I'm excited to help you with any math problems you have. What kind of math are you working on? Do you have a specific problem you're stuck on or a concept you're trying to understand? Let me know and I'll do my best to assist you!\n"
     ]
    }
   ],
   "source": [
    "response = generate_response_using_Llama(\n",
    "    prompt=\"Hello world!\",\n",
    ")\n",
    "print(response)"
   ]
  },
  {
   "cell_type": "markdown",
   "id": "988803ae",
   "metadata": {},
   "source": [
    "#### GSM8K 데이터셋 확인해보기"
   ]
  },
  {
   "cell_type": "code",
   "execution_count": 6,
   "id": "dbd177eb",
   "metadata": {},
   "outputs": [
    {
     "name": "stdout",
     "output_type": "stream",
     "text": [
      "[Question]\n",
      "Janet’s ducks lay 16 eggs per day\n",
      " She eats three for breakfast every morning and bakes muffins for her friends every day with four\n",
      " She sells the remainder at the farmers' market daily for $2 per fresh duck egg\n",
      " How much in dollars does she make every day at the farmers' market?\n",
      "====================================================================================================\n",
      "[Answer]\n",
      "Janet sells 16 - 3 - 4 = <<16-3-4=9>>9 duck eggs a day.\n",
      "She makes 9 * 2 = $<<9*2=18>>18 every day at the farmer’s market.\n",
      "#### 18\n"
     ]
    }
   ],
   "source": [
    "print(\"[Question]\")\n",
    "for l in gsm8k_test['question'][0].split(\".\"):\n",
    "    print(l)\n",
    "print(\"=\"*100)\n",
    "print(\"[Answer]\")\n",
    "print(gsm8k_test['answer'][0])"
   ]
  },
  {
   "cell_type": "markdown",
   "id": "eaabe66c",
   "metadata": {},
   "source": [
    "#### Util 함수들\n",
    "- extract_final_answer: LLM의 응답을 parse하여 최종 결과만 추출 (정답과 비교하기 위해)\n",
    "- run_benchmark_test: 벤치마크 테스트\n",
    "- save_final_result: 결과물 제출을 위한 함수"
   ]
  },
  {
   "cell_type": "code",
   "execution_count": 12,
   "id": "40c10811",
   "metadata": {},
   "outputs": [],
   "source": [
    "### 수정해도 됩니다!\n",
    "def extract_final_answer(response: str):\n",
    "    regex = r\"(?:Answer:|Model response:)\\s*\\$?([0-9,]+)\\b|([0-9,]+)\\s*(meters|cups|miles|minutes)\"\n",
    "    matches = re.finditer(regex, response, re.MULTILINE)\n",
    "    results = [match.group(1) if match.group(1) else match.group(2).replace(\",\", \"\") for match in matches]\n",
    "\n",
    "    if len(results) == 0:\n",
    "        additional_regex = r\"\\$?([0-9,]+)\"\n",
    "        additional_matches = re.finditer(additional_regex, response, re.MULTILINE)\n",
    "        results.extend([match.group(1).replace(\",\", \"\") for match in additional_matches])\n",
    "\n",
    "    return results[-1] if results else None"
   ]
  },
  {
   "cell_type": "code",
   "execution_count": 14,
   "id": "4e3a05ef",
   "metadata": {},
   "outputs": [],
   "source": [
    "### 수정해도 됩니다!\n",
    "def run_benchmark_test(\n",
    "        dataset,\n",
    "        prompt: str,\n",
    "        model: str = \"llama3-8b-8192\",\n",
    "        num_samples: int = 50,\n",
    "        VERBOSE: bool = False\n",
    "    ):\n",
    "    correct = 0\n",
    "    total   = 0\n",
    "    results = []\n",
    "\n",
    "    for i in tqdm(range(min(num_samples, len(dataset)))):\n",
    "        question = dataset[i][\"question\"]\n",
    "        correct_answer = float(re.findall(r'\\d+(?:\\.\\d+)?', dataset[i][\"answer\"].split('####')[-1])[0])\n",
    "\n",
    "        response = generate_response_using_Llama(\n",
    "            prompt=prompt.format(question=question),\n",
    "            model=model\n",
    "        )\n",
    "\n",
    "        if response:\n",
    "            if VERBOSE:\n",
    "                print(\"=\"*50)\n",
    "                print(response)\n",
    "                print(\"=\"*50)\n",
    "            predicted_answer = extract_final_answer(response)\n",
    "\n",
    "            if isinstance(predicted_answer, str):\n",
    "                predicted_answer = float(predicted_answer.replace(\",\", \"\"))\n",
    "            \n",
    "            diff = abs(predicted_answer - correct_answer)\n",
    "            is_correct = diff < 1e-5 if predicted_answer is not None else False\n",
    "            \n",
    "            if is_correct:\n",
    "                correct += 1\n",
    "            total += 1\n",
    "            \n",
    "            results.append({\n",
    "                'question': question,\n",
    "                'correct_answer': correct_answer,\n",
    "                'predicted_answer': predicted_answer,\n",
    "                'response': response,\n",
    "                'correct': is_correct\n",
    "            })\n",
    "\n",
    "            if (i + 1) % 5 == 0:\n",
    "                current_acc = correct/total if total > 0 else 0\n",
    "                print(f\"Progress: [{i+1}/{num_samples}]\")\n",
    "                print(f\"Current Acc.: [{current_acc:.2%}]\")\n",
    "\n",
    "    return results, correct/total if total > 0 else 0"
   ]
  },
  {
   "cell_type": "code",
   "execution_count": 10,
   "id": "4e63f5d4",
   "metadata": {},
   "outputs": [],
   "source": [
    "def save_final_result(results: List[Dict[str, Any]], accuracy: float, filename: str) -> None:\n",
    "    result_str = f\"====== ACCURACY: {accuracy} ======\\n\\n\"\n",
    "    result_str += f\"[Details]\\n\"\n",
    "    \n",
    "    for idx, result in enumerate(results):\n",
    "        result_str += f\"Question {idx+1}: {result['question']}\\n\"\n",
    "        result_str += f\"Correct Answer: {result['correct_answer']}\\n\"\n",
    "        result_str += f\"Predicted Answer: {result['predicted_answer']}\\n\"\n",
    "        result_str += f\"Correct: {result['correct']}\\n\\n\"\n",
    "    \n",
    "    with open(filename, \"w\", encoding=\"utf-8\") as f:\n",
    "        f.write(result_str)"
   ]
  },
  {
   "cell_type": "markdown",
   "id": "c498f9ed",
   "metadata": {},
   "source": [
    "#### Direct prompting with few-shot example"
   ]
  },
  {
   "cell_type": "code",
   "execution_count": 1,
   "id": "f430083a",
   "metadata": {},
   "outputs": [],
   "source": [
    "def construct_direct_prompt(num_examples: int = 3) -> str:\n",
    "    train_dataset = gsm8k_train\n",
    "\n",
    "    sampled_indices = random.sample(\n",
    "        [i for i in range(len(train_dataset['question']))],\n",
    "        num_examples\n",
    "    )\n",
    "\n",
    "    prompt = \"Instruction:\\nSolve the following mathematical question and generate ONLY the answer after a tag, 'Answer:' without any rationale.\\n\"\n",
    "\n",
    "    for i in range(num_examples):\n",
    "        cur_question = train_dataset['question'][i]\n",
    "        cur_answer = train_dataset['answer'][i].split(\"####\")[-1].strip()\n",
    "\n",
    "        prompt += f\"\\n[Example {i+1}]\\n\"\n",
    "        prompt += f\"Question:\\n{cur_question}\\n\"\n",
    "        prompt += f\"Answer:{cur_answer}\\n\"\n",
    "\n",
    "    prompt += \"\\nQuestion:\\n{question}\\nAnswer:\"\n",
    "\n",
    "    return prompt"
   ]
  },
  {
   "cell_type": "code",
   "execution_count": 15,
   "id": "68a2b484",
   "metadata": {},
   "outputs": [
    {
     "name": "stderr",
     "output_type": "stream",
     "text": [
      " 50%|█████     | 5/10 [00:02<00:02,  2.12it/s]"
     ]
    },
    {
     "name": "stdout",
     "output_type": "stream",
     "text": [
      "Progress: [5/10]\n",
      "Current Acc.: [20.00%]\n"
     ]
    },
    {
     "name": "stderr",
     "output_type": "stream",
     "text": [
      "100%|██████████| 10/10 [00:04<00:00,  2.09it/s]"
     ]
    },
    {
     "name": "stdout",
     "output_type": "stream",
     "text": [
      "Progress: [10/10]\n",
      "Current Acc.: [30.00%]\n"
     ]
    },
    {
     "name": "stderr",
     "output_type": "stream",
     "text": [
      "\n"
     ]
    }
   ],
   "source": [
    "### 어떤 방식으로 저장되는지 확인해보세요!\n",
    "PROMPT = construct_direct_prompt(3)\n",
    "VERBOSE = False\n",
    "\n",
    "results, accuracy = run_benchmark_test(\n",
    "    dataset=gsm8k_test,\n",
    "    prompt=PROMPT,\n",
    "    VERBOSE=VERBOSE,\n",
    "    num_samples=10\n",
    ")\n",
    "save_final_result(results, accuracy, \"example.txt\")"
   ]
  },
  {
   "cell_type": "code",
   "execution_count": 16,
   "id": "41874896",
   "metadata": {},
   "outputs": [
    {
     "name": "stderr",
     "output_type": "stream",
     "text": [
      " 10%|█         | 5/50 [00:02<00:19,  2.32it/s]"
     ]
    },
    {
     "name": "stdout",
     "output_type": "stream",
     "text": [
      "Progress: [5/50]\n",
      "Current Acc.: [20.00%]\n"
     ]
    },
    {
     "name": "stderr",
     "output_type": "stream",
     "text": [
      " 20%|██        | 10/50 [00:05<00:25,  1.56it/s]"
     ]
    },
    {
     "name": "stdout",
     "output_type": "stream",
     "text": [
      "Progress: [10/50]\n",
      "Current Acc.: [10.00%]\n"
     ]
    },
    {
     "name": "stderr",
     "output_type": "stream",
     "text": [
      " 30%|███       | 15/50 [00:08<00:18,  1.85it/s]"
     ]
    },
    {
     "name": "stdout",
     "output_type": "stream",
     "text": [
      "Progress: [15/50]\n",
      "Current Acc.: [6.67%]\n"
     ]
    },
    {
     "name": "stderr",
     "output_type": "stream",
     "text": [
      " 40%|████      | 20/50 [00:10<00:15,  1.96it/s]"
     ]
    },
    {
     "name": "stdout",
     "output_type": "stream",
     "text": [
      "Progress: [20/50]\n",
      "Current Acc.: [20.00%]\n"
     ]
    },
    {
     "name": "stderr",
     "output_type": "stream",
     "text": [
      " 50%|█████     | 25/50 [00:16<00:35,  1.43s/it]"
     ]
    },
    {
     "name": "stdout",
     "output_type": "stream",
     "text": [
      "Progress: [25/50]\n",
      "Current Acc.: [20.00%]\n"
     ]
    },
    {
     "name": "stderr",
     "output_type": "stream",
     "text": [
      " 60%|██████    | 30/50 [00:18<00:12,  1.57it/s]"
     ]
    },
    {
     "name": "stdout",
     "output_type": "stream",
     "text": [
      "Progress: [30/50]\n",
      "Current Acc.: [16.67%]\n"
     ]
    },
    {
     "name": "stderr",
     "output_type": "stream",
     "text": [
      " 70%|███████   | 35/50 [00:32<00:35,  2.40s/it]"
     ]
    },
    {
     "name": "stdout",
     "output_type": "stream",
     "text": [
      "Progress: [35/50]\n",
      "Current Acc.: [14.29%]\n"
     ]
    },
    {
     "name": "stderr",
     "output_type": "stream",
     "text": [
      " 80%|████████  | 40/50 [00:44<00:26,  2.67s/it]"
     ]
    },
    {
     "name": "stdout",
     "output_type": "stream",
     "text": [
      "Progress: [40/50]\n",
      "Current Acc.: [15.00%]\n"
     ]
    },
    {
     "name": "stderr",
     "output_type": "stream",
     "text": [
      " 90%|█████████ | 45/50 [00:59<00:14,  2.85s/it]"
     ]
    },
    {
     "name": "stdout",
     "output_type": "stream",
     "text": [
      "Progress: [45/50]\n",
      "Current Acc.: [17.78%]\n"
     ]
    },
    {
     "name": "stderr",
     "output_type": "stream",
     "text": [
      "100%|██████████| 50/50 [01:12<00:00,  1.46s/it]\n"
     ]
    },
    {
     "name": "stdout",
     "output_type": "stream",
     "text": [
      "Progress: [50/50]\n",
      "Current Acc.: [20.00%]\n"
     ]
    },
    {
     "name": "stderr",
     "output_type": "stream",
     "text": [
      " 10%|█         | 5/50 [00:15<02:42,  3.60s/it]"
     ]
    },
    {
     "name": "stdout",
     "output_type": "stream",
     "text": [
      "Progress: [5/50]\n",
      "Current Acc.: [20.00%]\n"
     ]
    },
    {
     "name": "stderr",
     "output_type": "stream",
     "text": [
      " 20%|██        | 10/50 [00:28<01:46,  2.65s/it]"
     ]
    },
    {
     "name": "stdout",
     "output_type": "stream",
     "text": [
      "Progress: [10/50]\n",
      "Current Acc.: [30.00%]\n"
     ]
    },
    {
     "name": "stderr",
     "output_type": "stream",
     "text": [
      " 30%|███       | 15/50 [00:41<01:30,  2.59s/it]"
     ]
    },
    {
     "name": "stdout",
     "output_type": "stream",
     "text": [
      "Progress: [15/50]\n",
      "Current Acc.: [20.00%]\n"
     ]
    },
    {
     "name": "stderr",
     "output_type": "stream",
     "text": [
      " 40%|████      | 20/50 [00:57<01:31,  3.04s/it]"
     ]
    },
    {
     "name": "stdout",
     "output_type": "stream",
     "text": [
      "Progress: [20/50]\n",
      "Current Acc.: [20.00%]\n"
     ]
    },
    {
     "name": "stderr",
     "output_type": "stream",
     "text": [
      " 50%|█████     | 25/50 [01:10<01:05,  2.61s/it]"
     ]
    },
    {
     "name": "stdout",
     "output_type": "stream",
     "text": [
      "Progress: [25/50]\n",
      "Current Acc.: [20.00%]\n"
     ]
    },
    {
     "name": "stderr",
     "output_type": "stream",
     "text": [
      " 60%|██████    | 30/50 [01:28<01:17,  3.86s/it]"
     ]
    },
    {
     "name": "stdout",
     "output_type": "stream",
     "text": [
      "Progress: [30/50]\n",
      "Current Acc.: [23.33%]\n"
     ]
    },
    {
     "name": "stderr",
     "output_type": "stream",
     "text": [
      " 70%|███████   | 35/50 [01:41<00:41,  2.78s/it]"
     ]
    },
    {
     "name": "stdout",
     "output_type": "stream",
     "text": [
      "Progress: [35/50]\n",
      "Current Acc.: [20.00%]\n"
     ]
    },
    {
     "name": "stderr",
     "output_type": "stream",
     "text": [
      " 80%|████████  | 40/50 [01:54<00:26,  2.64s/it]"
     ]
    },
    {
     "name": "stdout",
     "output_type": "stream",
     "text": [
      "Progress: [40/50]\n",
      "Current Acc.: [17.50%]\n"
     ]
    },
    {
     "name": "stderr",
     "output_type": "stream",
     "text": [
      " 90%|█████████ | 45/50 [02:10<00:14,  2.90s/it]"
     ]
    },
    {
     "name": "stdout",
     "output_type": "stream",
     "text": [
      "Progress: [45/50]\n",
      "Current Acc.: [17.78%]\n"
     ]
    },
    {
     "name": "stderr",
     "output_type": "stream",
     "text": [
      "100%|██████████| 50/50 [02:22<00:00,  2.86s/it]\n"
     ]
    },
    {
     "name": "stdout",
     "output_type": "stream",
     "text": [
      "Progress: [50/50]\n",
      "Current Acc.: [20.00%]\n"
     ]
    },
    {
     "name": "stderr",
     "output_type": "stream",
     "text": [
      " 10%|█         | 5/50 [00:16<02:30,  3.34s/it]"
     ]
    },
    {
     "name": "stdout",
     "output_type": "stream",
     "text": [
      "Progress: [5/50]\n",
      "Current Acc.: [40.00%]\n"
     ]
    },
    {
     "name": "stderr",
     "output_type": "stream",
     "text": [
      " 20%|██        | 10/50 [00:29<01:49,  2.75s/it]"
     ]
    },
    {
     "name": "stdout",
     "output_type": "stream",
     "text": [
      "Progress: [10/50]\n",
      "Current Acc.: [20.00%]\n"
     ]
    },
    {
     "name": "stderr",
     "output_type": "stream",
     "text": [
      " 30%|███       | 15/50 [00:41<01:21,  2.33s/it]"
     ]
    },
    {
     "name": "stdout",
     "output_type": "stream",
     "text": [
      "Progress: [15/50]\n",
      "Current Acc.: [13.33%]\n"
     ]
    },
    {
     "name": "stderr",
     "output_type": "stream",
     "text": [
      " 40%|████      | 20/50 [00:57<01:24,  2.82s/it]"
     ]
    },
    {
     "name": "stdout",
     "output_type": "stream",
     "text": [
      "Progress: [20/50]\n",
      "Current Acc.: [20.00%]\n"
     ]
    },
    {
     "name": "stderr",
     "output_type": "stream",
     "text": [
      " 50%|█████     | 25/50 [01:10<01:07,  2.71s/it]"
     ]
    },
    {
     "name": "stdout",
     "output_type": "stream",
     "text": [
      "Progress: [25/50]\n",
      "Current Acc.: [24.00%]\n"
     ]
    },
    {
     "name": "stderr",
     "output_type": "stream",
     "text": [
      " 60%|██████    | 30/50 [01:26<00:59,  3.00s/it]"
     ]
    },
    {
     "name": "stdout",
     "output_type": "stream",
     "text": [
      "Progress: [30/50]\n",
      "Current Acc.: [23.33%]\n"
     ]
    },
    {
     "name": "stderr",
     "output_type": "stream",
     "text": [
      " 70%|███████   | 35/50 [01:40<00:40,  2.68s/it]"
     ]
    },
    {
     "name": "stdout",
     "output_type": "stream",
     "text": [
      "Progress: [35/50]\n",
      "Current Acc.: [20.00%]\n"
     ]
    },
    {
     "name": "stderr",
     "output_type": "stream",
     "text": [
      " 80%|████████  | 40/50 [02:00<00:46,  4.66s/it]"
     ]
    },
    {
     "name": "stdout",
     "output_type": "stream",
     "text": [
      "Progress: [40/50]\n",
      "Current Acc.: [17.50%]\n"
     ]
    },
    {
     "name": "stderr",
     "output_type": "stream",
     "text": [
      " 90%|█████████ | 45/50 [02:16<00:18,  3.61s/it]"
     ]
    },
    {
     "name": "stdout",
     "output_type": "stream",
     "text": [
      "Progress: [45/50]\n",
      "Current Acc.: [17.78%]\n"
     ]
    },
    {
     "name": "stderr",
     "output_type": "stream",
     "text": [
      "100%|██████████| 50/50 [02:25<00:00,  2.92s/it]"
     ]
    },
    {
     "name": "stdout",
     "output_type": "stream",
     "text": [
      "Progress: [50/50]\n",
      "Current Acc.: [18.00%]\n"
     ]
    },
    {
     "name": "stderr",
     "output_type": "stream",
     "text": [
      "\n"
     ]
    }
   ],
   "source": [
    "# TODO: 0 shot, 3 shot, 5 shot direct prompting을 통해 벤치마크 테스트를 한 후, 각각 direct_prompting_{shot: int}.txt로 저장해주세요!\n",
    "# 예시: shot이 5인 경우 direct_prompting_5.txt\n",
    "# 항상 num_samples=50 입니다!\n",
    "\n",
    "\n",
    "#0-shot\n",
    "\n",
    "PROMPT = construct_direct_prompt(0)\n",
    "VERBOSE = False\n",
    "\n",
    "results, accuracy = run_benchmark_test(\n",
    "    dataset=gsm8k_test,\n",
    "    prompt=PROMPT,\n",
    "    VERBOSE=VERBOSE,\n",
    "    num_samples=50\n",
    ")\n",
    "save_final_result(results, accuracy, \"direct_prompting_0.txt\")\n",
    "\n",
    "\n",
    "\n",
    "#3-shot\n",
    "\n",
    "PROMPT = construct_direct_prompt(3)\n",
    "VERBOSE = False\n",
    "\n",
    "results, accuracy = run_benchmark_test(\n",
    "    dataset=gsm8k_test,\n",
    "    prompt=PROMPT,\n",
    "    VERBOSE=VERBOSE,\n",
    "    num_samples=50\n",
    ")\n",
    "save_final_result(results, accuracy, \"direct_prompting_3.txt\")\n",
    "\n",
    "\n",
    "\n",
    "#5-shot\n",
    "\n",
    "PROMPT = construct_direct_prompt(5)\n",
    "VERBOSE = False\n",
    "\n",
    "results, accuracy = run_benchmark_test(\n",
    "    dataset=gsm8k_test,\n",
    "    prompt=PROMPT,\n",
    "    VERBOSE=VERBOSE,\n",
    "    num_samples=50\n",
    ")\n",
    "save_final_result(results, accuracy, \"direct_prompting_5.txt\")\n",
    "\n"
   ]
  },
  {
   "cell_type": "markdown",
   "id": "56fd21d1",
   "metadata": {},
   "source": [
    "### Chain-of-Thought prompting with few-shot example\n",
    "```text\n",
    "[Question]\n",
    "Janet’s ducks lay 16 eggs per day\n",
    " She eats three for breakfast every morning and bakes muffins for her friends every day with four\n",
    " She sells the remainder at the farmers' market daily for $2 per fresh duck egg\n",
    " How much in dollars does she make every day at the farmers' market?\n",
    "====================================================================================================\n",
    "[Answer]\n",
    "Janet sells 16 - 3 - 4 = <<16-3-4=9>>9 duck eggs a day.\n",
    "She makes 9 * 2 = $<<9*2=18>>18 every day at the farmer’s market.\n",
    "#### 18\n",
    "```\n",
    "\n",
    "[Answer] 아래의 정답을 도출하는 과정을 예시로 달아주면 CoT의 few shot이 되겠죠?"
   ]
  },
  {
   "cell_type": "code",
   "execution_count": 11,
   "id": "73a989e3",
   "metadata": {},
   "outputs": [],
   "source": [
    "def construct_CoT_prompt(num_examples: int = 3) -> str:\n",
    "    train_dataset = gsm8k_train\n",
    "\n",
    "    sampled_indices = random.sample(\n",
    "        [i for i in range(len(train_dataset['question']))],\n",
    "        num_examples\n",
    "    )\n",
    "    prompt = \"Instruction:\\nSolve the following mathematical question step by step, and then generate the final answer after a tag, 'Answer:'.\\n\" #TODO: 프롬프트를 작성해주세요!\n",
    "    \n",
    "\n",
    "    for i in range(num_examples):\n",
    "        idx = sampled_indices[i]\n",
    "        cur_question = train_dataset['question'][idx]\n",
    "        cur_answer = train_dataset['answer'][idx].strip()\n",
    "        \n",
    "        #TODO: CoT example을 만들어주세요!\n",
    "        prompt += f\"\\n[Example {i+1}]\\n\"\n",
    "        prompt += f\"Question:\\n{cur_question}\\n\"\n",
    "        prompt += f\"{cur_answer}\\n\"\n",
    "\n",
    "    prompt += \"\\nQuestion:\\n{question}\\nLet's think step by step.\"\n",
    "\n",
    "    return prompt"
   ]
  },
  {
   "cell_type": "code",
   "execution_count": null,
   "id": "9c510586",
   "metadata": {},
   "outputs": [
    {
     "name": "stderr",
     "output_type": "stream",
     "text": [
      " 10%|█         | 5/50 [00:03<00:44,  1.02it/s]"
     ]
    },
    {
     "name": "stdout",
     "output_type": "stream",
     "text": [
      "Progress: [5/50]\n",
      "Current Acc.: [60.00%]\n"
     ]
    },
    {
     "name": "stderr",
     "output_type": "stream",
     "text": [
      " 20%|██        | 10/50 [00:06<00:22,  1.78it/s]"
     ]
    },
    {
     "name": "stdout",
     "output_type": "stream",
     "text": [
      "Progress: [10/50]\n",
      "Current Acc.: [60.00%]\n"
     ]
    },
    {
     "name": "stderr",
     "output_type": "stream",
     "text": [
      " 30%|███       | 15/50 [00:08<00:17,  2.00it/s]"
     ]
    },
    {
     "name": "stdout",
     "output_type": "stream",
     "text": [
      "Progress: [15/50]\n",
      "Current Acc.: [60.00%]\n"
     ]
    },
    {
     "name": "stderr",
     "output_type": "stream",
     "text": [
      " 40%|████      | 20/50 [00:12<00:20,  1.48it/s]"
     ]
    },
    {
     "name": "stdout",
     "output_type": "stream",
     "text": [
      "Progress: [20/50]\n",
      "Current Acc.: [60.00%]\n"
     ]
    },
    {
     "name": "stderr",
     "output_type": "stream",
     "text": [
      " 50%|█████     | 25/50 [00:32<01:15,  3.01s/it]"
     ]
    },
    {
     "name": "stdout",
     "output_type": "stream",
     "text": [
      "Progress: [25/50]\n",
      "Current Acc.: [64.00%]\n"
     ]
    },
    {
     "name": "stderr",
     "output_type": "stream",
     "text": [
      " 60%|██████    | 30/50 [00:46<00:57,  2.85s/it]"
     ]
    },
    {
     "name": "stdout",
     "output_type": "stream",
     "text": [
      "Progress: [30/50]\n",
      "Current Acc.: [66.67%]\n"
     ]
    },
    {
     "name": "stderr",
     "output_type": "stream",
     "text": [
      " 70%|███████   | 35/50 [01:04<00:44,  2.96s/it]"
     ]
    },
    {
     "name": "stdout",
     "output_type": "stream",
     "text": [
      "Progress: [35/50]\n",
      "Current Acc.: [71.43%]\n"
     ]
    },
    {
     "name": "stderr",
     "output_type": "stream",
     "text": [
      " 80%|████████  | 40/50 [01:21<00:37,  3.75s/it]"
     ]
    },
    {
     "name": "stdout",
     "output_type": "stream",
     "text": [
      "Progress: [40/50]\n",
      "Current Acc.: [72.50%]\n"
     ]
    },
    {
     "name": "stderr",
     "output_type": "stream",
     "text": [
      " 90%|█████████ | 45/50 [01:45<00:22,  4.55s/it]"
     ]
    },
    {
     "name": "stdout",
     "output_type": "stream",
     "text": [
      "Progress: [45/50]\n",
      "Current Acc.: [73.33%]\n"
     ]
    },
    {
     "name": "stderr",
     "output_type": "stream",
     "text": [
      "100%|██████████| 50/50 [02:01<00:00,  2.44s/it]\n"
     ]
    },
    {
     "name": "stdout",
     "output_type": "stream",
     "text": [
      "Progress: [50/50]\n",
      "Current Acc.: [74.00%]\n"
     ]
    },
    {
     "name": "stderr",
     "output_type": "stream",
     "text": [
      " 10%|█         | 5/50 [00:47<05:26,  7.26s/it]"
     ]
    },
    {
     "name": "stdout",
     "output_type": "stream",
     "text": [
      "Progress: [5/50]\n",
      "Current Acc.: [80.00%]\n"
     ]
    },
    {
     "name": "stderr",
     "output_type": "stream",
     "text": [
      " 20%|██        | 10/50 [01:34<06:09,  9.23s/it]"
     ]
    },
    {
     "name": "stdout",
     "output_type": "stream",
     "text": [
      "Progress: [10/50]\n",
      "Current Acc.: [70.00%]\n"
     ]
    },
    {
     "name": "stderr",
     "output_type": "stream",
     "text": [
      " 30%|███       | 15/50 [02:20<05:06,  8.76s/it]"
     ]
    },
    {
     "name": "stdout",
     "output_type": "stream",
     "text": [
      "Progress: [15/50]\n",
      "Current Acc.: [66.67%]\n"
     ]
    },
    {
     "name": "stderr",
     "output_type": "stream",
     "text": [
      " 40%|████      | 20/50 [03:06<04:37,  9.24s/it]"
     ]
    },
    {
     "name": "stdout",
     "output_type": "stream",
     "text": [
      "Progress: [20/50]\n",
      "Current Acc.: [65.00%]\n"
     ]
    },
    {
     "name": "stderr",
     "output_type": "stream",
     "text": [
      " 50%|█████     | 25/50 [03:52<03:40,  8.81s/it]"
     ]
    },
    {
     "name": "stdout",
     "output_type": "stream",
     "text": [
      "Progress: [25/50]\n",
      "Current Acc.: [64.00%]\n"
     ]
    },
    {
     "name": "stderr",
     "output_type": "stream",
     "text": [
      " 60%|██████    | 30/50 [04:33<02:44,  8.20s/it]"
     ]
    },
    {
     "name": "stdout",
     "output_type": "stream",
     "text": [
      "Progress: [30/50]\n",
      "Current Acc.: [60.00%]\n"
     ]
    },
    {
     "name": "stderr",
     "output_type": "stream",
     "text": [
      " 70%|███████   | 35/50 [05:18<02:13,  8.88s/it]"
     ]
    },
    {
     "name": "stdout",
     "output_type": "stream",
     "text": [
      "Progress: [35/50]\n",
      "Current Acc.: [65.71%]\n"
     ]
    },
    {
     "name": "stderr",
     "output_type": "stream",
     "text": [
      " 80%|████████  | 40/50 [05:59<01:20,  8.09s/it]"
     ]
    },
    {
     "name": "stdout",
     "output_type": "stream",
     "text": [
      "Progress: [40/50]\n",
      "Current Acc.: [70.00%]\n"
     ]
    },
    {
     "name": "stderr",
     "output_type": "stream",
     "text": [
      " 90%|█████████ | 45/50 [06:48<00:49,  9.84s/it]"
     ]
    },
    {
     "name": "stdout",
     "output_type": "stream",
     "text": [
      "Progress: [45/50]\n",
      "Current Acc.: [68.89%]\n"
     ]
    },
    {
     "name": "stderr",
     "output_type": "stream",
     "text": [
      "100%|██████████| 50/50 [07:32<00:00,  9.04s/it]\n"
     ]
    },
    {
     "name": "stdout",
     "output_type": "stream",
     "text": [
      "Progress: [50/50]\n",
      "Current Acc.: [70.00%]\n"
     ]
    },
    {
     "name": "stderr",
     "output_type": "stream",
     "text": [
      " 10%|█         | 5/50 [01:02<09:24, 12.54s/it]"
     ]
    },
    {
     "name": "stdout",
     "output_type": "stream",
     "text": [
      "Progress: [5/50]\n",
      "Current Acc.: [80.00%]\n"
     ]
    },
    {
     "name": "stderr",
     "output_type": "stream",
     "text": [
      " 20%|██        | 10/50 [02:09<08:57, 13.45s/it]"
     ]
    },
    {
     "name": "stdout",
     "output_type": "stream",
     "text": [
      "Progress: [10/50]\n",
      "Current Acc.: [70.00%]\n"
     ]
    },
    {
     "name": "stderr",
     "output_type": "stream",
     "text": [
      " 30%|███       | 15/50 [03:18<08:09, 13.97s/it]"
     ]
    },
    {
     "name": "stdout",
     "output_type": "stream",
     "text": [
      "Progress: [15/50]\n",
      "Current Acc.: [66.67%]\n"
     ]
    },
    {
     "name": "stderr",
     "output_type": "stream",
     "text": [
      " 40%|████      | 20/50 [04:23<06:26, 12.87s/it]"
     ]
    },
    {
     "name": "stdout",
     "output_type": "stream",
     "text": [
      "Progress: [20/50]\n",
      "Current Acc.: [65.00%]\n"
     ]
    },
    {
     "name": "stderr",
     "output_type": "stream",
     "text": [
      " 50%|█████     | 25/50 [05:28<05:17, 12.70s/it]"
     ]
    },
    {
     "name": "stdout",
     "output_type": "stream",
     "text": [
      "Progress: [25/50]\n",
      "Current Acc.: [68.00%]\n"
     ]
    },
    {
     "name": "stderr",
     "output_type": "stream",
     "text": [
      " 60%|██████    | 30/50 [06:33<04:18, 12.93s/it]"
     ]
    },
    {
     "name": "stdout",
     "output_type": "stream",
     "text": [
      "Progress: [30/50]\n",
      "Current Acc.: [70.00%]\n"
     ]
    },
    {
     "name": "stderr",
     "output_type": "stream",
     "text": [
      " 70%|███████   | 35/50 [07:35<03:04, 12.28s/it]"
     ]
    },
    {
     "name": "stdout",
     "output_type": "stream",
     "text": [
      "Progress: [35/50]\n",
      "Current Acc.: [74.29%]\n"
     ]
    },
    {
     "name": "stderr",
     "output_type": "stream",
     "text": [
      " 80%|████████  | 40/50 [08:40<02:11, 13.16s/it]"
     ]
    },
    {
     "name": "stdout",
     "output_type": "stream",
     "text": [
      "Progress: [40/50]\n",
      "Current Acc.: [70.00%]\n"
     ]
    },
    {
     "name": "stderr",
     "output_type": "stream",
     "text": [
      " 90%|█████████ | 45/50 [09:44<01:04, 12.91s/it]"
     ]
    },
    {
     "name": "stdout",
     "output_type": "stream",
     "text": [
      "Progress: [45/50]\n",
      "Current Acc.: [71.11%]\n"
     ]
    },
    {
     "name": "stderr",
     "output_type": "stream",
     "text": [
      "100%|██████████| 50/50 [10:50<00:00, 13.01s/it]"
     ]
    },
    {
     "name": "stdout",
     "output_type": "stream",
     "text": [
      "Progress: [50/50]\n",
      "Current Acc.: [70.00%]\n"
     ]
    },
    {
     "name": "stderr",
     "output_type": "stream",
     "text": [
      "\n"
     ]
    }
   ],
   "source": [
    "# TODO: 0 shot, 3 shot, 5 shot CoT prompting을 통해 벤치마크 테스트를 한 후, 각각 CoT_prompting_{shot: int}.txt로 저장해주세요!\n",
    "# 예시: shot이 5인 경우 CoT_prompting_5.txt\n",
    "# 항상 num_samples=50 입니다!\n",
    "\n",
    "\n",
    "#0-shot\n",
    "\n",
    "PROMPT = construct_CoT_prompt(0)\n",
    "VERBOSE = False\n",
    "\n",
    "results, accuracy = run_benchmark_test(\n",
    "    dataset=gsm8k_test,\n",
    "    prompt=PROMPT,\n",
    "    VERBOSE=VERBOSE,\n",
    "    num_samples=50\n",
    ")\n",
    "save_final_result(results, accuracy, \"CoT_prompting_0.txt\")\n",
    "\n",
    "\n",
    "\n",
    "#3-shot\n",
    "\n",
    "PROMPT = construct_CoT_prompt(3)\n",
    "VERBOSE = False\n",
    "\n",
    "results, accuracy = run_benchmark_test(\n",
    "    dataset=gsm8k_test,\n",
    "    prompt=PROMPT,\n",
    "    VERBOSE=VERBOSE,\n",
    "    num_samples=50\n",
    ")\n",
    "save_final_result(results, accuracy, \"CoT_prompting_3.txt\")\n",
    "\n",
    "\n",
    "\n",
    "#5-shot\n",
    "\n",
    "PROMPT = construct_CoT_prompt(5)\n",
    "VERBOSE = False\n",
    "\n",
    "results, accuracy = run_benchmark_test(\n",
    "    dataset=gsm8k_test,\n",
    "    prompt=PROMPT,\n",
    "    VERBOSE=VERBOSE,\n",
    "    num_samples=50\n",
    ")\n",
    "save_final_result(results, accuracy, \"CoT_prompting_5.txt\")\n",
    "\n",
    "\n",
    "\n"
   ]
  },
  {
   "cell_type": "markdown",
   "id": "c2c45b54",
   "metadata": {},
   "source": [
    "### Construct your prompt!!\n",
    "\n",
    "목표: 본인만의 프롬프트를 통해 정답률을 더 끌어올려보기!\n",
    "- gsm8k의 train 데이터셋에서 예시를 가져온 다음 (자유롭게!)\n",
    "- 그 예시들에 대한 풀이 과정을 만들어주세요!\n",
    "- 모든 것들이 자유입니다! Direct Prompting, CoT Prompting을 한 결과보다 정답률만 높으면 돼요."
   ]
  },
  {
   "cell_type": "code",
   "execution_count": 12,
   "id": "09062c8f",
   "metadata": {},
   "outputs": [],
   "source": [
    "### 자유롭게 수정해도 됩니다! 완전히 새로 함수를 만들어도 돼요.\n",
    "#강의안에서 배웠던 CoT-SC를 구현했습니다\n",
    "\n",
    "import re\n",
    "import time\n",
    "from collections import Counter\n",
    "from tqdm import tqdm\n",
    "\n",
    "# ✅ 모델 응답에서 정답 숫자만 추출 & 정규화\n",
    "def extract_and_normalize_answer(response: str) -> str:\n",
    "    regex = r\"(?:Answer:|Model response:)\\s*\\$?([0-9,]+)\\b|([0-9,]+)\\s*(meters|cups|miles|minutes)\"\n",
    "    matches = re.finditer(regex, response, re.MULTILINE)\n",
    "\n",
    "    results = []\n",
    "    for match in matches:\n",
    "        if match.group(1):\n",
    "            results.append(match.group(1).replace(\",\", \"\"))\n",
    "        elif match.group(2):\n",
    "            results.append(match.group(2).replace(\",\", \"\"))\n",
    "\n",
    "    if not results:\n",
    "        fallback_regex = r\"\\$?([0-9,]+)\"\n",
    "        fallback_matches = re.finditer(fallback_regex, response, re.MULTILINE)\n",
    "        results.extend([m.group(1).replace(\",\", \"\") for m in fallback_matches])\n",
    "\n",
    "    return results[-1] if results else None\n",
    "\n",
    "\n",
    "def run_sc_benchmark_test(\n",
    "    dataset,\n",
    "    prompt_template: str,\n",
    "    num_samples: int = 50,\n",
    "    num_generations: int = 5,\n",
    "    VERBOSE: bool = False\n",
    "):\n",
    "    results = []\n",
    "    correct = 0\n",
    "\n",
    "    for i in tqdm(range(num_samples)):\n",
    "        example = dataset[i]\n",
    "        question = example[\"question\"]\n",
    "        gt_answer_text = example[\"answer\"]\n",
    "        gt_answer = extract_and_normalize_answer(gt_answer_text)\n",
    "\n",
    "        prompt = prompt_template.format(question=question)\n",
    "        generations = []\n",
    "        parsed_answers = []\n",
    "\n",
    "        for _ in range(num_generations):\n",
    "            # 자동 재시도\n",
    "            for attempt in range(3):\n",
    "                try:\n",
    "                    response = client.chat.completions.create(\n",
    "                        model=\"llama3-70b-8192\",\n",
    "                        messages=[{\"role\": \"user\", \"content\": prompt}],\n",
    "                        temperature=1.0\n",
    "                    )\n",
    "                    output = response.choices[0].message.content.strip()\n",
    "                    generations.append(output)\n",
    "                    final_ans = extract_and_normalize_answer(output)\n",
    "                    if final_ans is not None:\n",
    "                        parsed_answers.append(final_ans)\n",
    "                    break\n",
    "                except Exception as e:\n",
    "                    print(f\"[Attempt {attempt+1}] Error: {e}\")\n",
    "                    time.sleep(1)\n",
    "\n",
    "        if parsed_answers:\n",
    "            predicted_answer, count = Counter(parsed_answers).most_common(1)[0]\n",
    "        else:\n",
    "            predicted_answer = \"N/A\"\n",
    "\n",
    "        is_correct = (predicted_answer == gt_answer)\n",
    "\n",
    "        if is_correct:\n",
    "            correct += 1\n",
    "\n",
    "        results.append({\n",
    "            \"question\": question,\n",
    "            \"correct_answer\": gt_answer,\n",
    "            \"predicted_answer\": predicted_answer,\n",
    "            \"correct\": is_correct,\n",
    "            \"raw_generations\": generations,\n",
    "            \"parsed_answers\": parsed_answers\n",
    "        })\n",
    "\n",
    "        if VERBOSE:\n",
    "            print(f\"\\n[{i}] GT: {gt_answer} | Votes: {parsed_answers} | Majority: {predicted_answer}\")\n",
    "\n",
    "    accuracy = correct / num_samples * 100\n",
    "    return results, accuracy\n",
    "\n",
    "\n",
    "\n",
    "\n",
    "\n",
    "\n"
   ]
  },
  {
   "cell_type": "code",
   "execution_count": null,
   "id": "8ac2b0d2",
   "metadata": {},
   "outputs": [
    {
     "name": "stderr",
     "output_type": "stream",
     "text": [
      "  2%|▏         | 1/50 [00:05<04:24,  5.39s/it]"
     ]
    },
    {
     "name": "stdout",
     "output_type": "stream",
     "text": [
      "\n",
      "[0] GT: 18 | Votes: ['18', '18', '18', '18', '18'] | Majority: 18\n"
     ]
    },
    {
     "name": "stderr",
     "output_type": "stream",
     "text": [
      "  4%|▍         | 2/50 [00:15<06:21,  7.94s/it]"
     ]
    },
    {
     "name": "stdout",
     "output_type": "stream",
     "text": [
      "\n",
      "[1] GT: 3 | Votes: ['3', '3', '3', '3', '3'] | Majority: 3\n"
     ]
    },
    {
     "name": "stderr",
     "output_type": "stream",
     "text": [
      "  6%|▌         | 3/50 [00:31<09:08, 11.68s/it]"
     ]
    },
    {
     "name": "stdout",
     "output_type": "stream",
     "text": [
      "\n",
      "[2] GT: 70000 | Votes: ['70000', '70000', '70000', '70000', '70000'] | Majority: 70000\n"
     ]
    },
    {
     "name": "stderr",
     "output_type": "stream",
     "text": [
      "  8%|▊         | 4/50 [00:41<08:29, 11.08s/it]"
     ]
    },
    {
     "name": "stdout",
     "output_type": "stream",
     "text": [
      "\n",
      "[3] GT: 540 | Votes: ['540', '540', '540', '540', '540'] | Majority: 540\n"
     ]
    },
    {
     "name": "stderr",
     "output_type": "stream",
     "text": [
      " 10%|█         | 5/50 [00:59<10:07, 13.51s/it]"
     ]
    },
    {
     "name": "stdout",
     "output_type": "stream",
     "text": [
      "\n",
      "[4] GT: 20 | Votes: ['20', '20', '20', '20', '20'] | Majority: 20\n"
     ]
    },
    {
     "name": "stderr",
     "output_type": "stream",
     "text": [
      " 12%|█▏        | 6/50 [01:16<10:47, 14.72s/it]"
     ]
    },
    {
     "name": "stdout",
     "output_type": "stream",
     "text": [
      "\n",
      "[5] GT: 64 | Votes: ['64', '16', '16', '16', '16'] | Majority: 16\n"
     ]
    },
    {
     "name": "stderr",
     "output_type": "stream",
     "text": [
      " 14%|█▍        | 7/50 [01:27<09:47, 13.66s/it]"
     ]
    },
    {
     "name": "stdout",
     "output_type": "stream",
     "text": [
      "\n",
      "[6] GT: 260 | Votes: ['260', '260', '260', '260', '260'] | Majority: 260\n"
     ]
    },
    {
     "name": "stderr",
     "output_type": "stream",
     "text": [
      " 16%|█▌        | 8/50 [01:45<10:21, 14.81s/it]"
     ]
    },
    {
     "name": "stdout",
     "output_type": "stream",
     "text": [
      "\n",
      "[7] GT: 160 | Votes: ['120', '120', '160', '160', '120'] | Majority: 120\n"
     ]
    },
    {
     "name": "stderr",
     "output_type": "stream",
     "text": [
      " 18%|█▊        | 9/50 [02:08<11:58, 17.51s/it]"
     ]
    },
    {
     "name": "stdout",
     "output_type": "stream",
     "text": [
      "\n",
      "[8] GT: 45 | Votes: ['45', '45', '45', '45', '45'] | Majority: 45\n"
     ]
    },
    {
     "name": "stderr",
     "output_type": "stream",
     "text": [
      " 20%|██        | 10/50 [02:24<11:26, 17.17s/it]"
     ]
    },
    {
     "name": "stdout",
     "output_type": "stream",
     "text": [
      "\n",
      "[9] GT: 460 | Votes: ['460', '460', '460', '460', '460'] | Majority: 460\n"
     ]
    },
    {
     "name": "stderr",
     "output_type": "stream",
     "text": [
      " 22%|██▏       | 11/50 [02:40<10:46, 16.57s/it]"
     ]
    },
    {
     "name": "stdout",
     "output_type": "stream",
     "text": [
      "\n",
      "[10] GT: 366 | Votes: ['366', '366', '366', '366', '366'] | Majority: 366\n"
     ]
    },
    {
     "name": "stderr",
     "output_type": "stream",
     "text": [
      " 24%|██▍       | 12/50 [02:57<10:43, 16.94s/it]"
     ]
    },
    {
     "name": "stdout",
     "output_type": "stream",
     "text": [
      "\n",
      "[11] GT: 694 | Votes: ['694', '694', '694', '694', '694'] | Majority: 694\n"
     ]
    },
    {
     "name": "stderr",
     "output_type": "stream",
     "text": [
      " 26%|██▌       | 13/50 [03:18<11:03, 17.93s/it]"
     ]
    },
    {
     "name": "stdout",
     "output_type": "stream",
     "text": [
      "\n",
      "[12] GT: 13 | Votes: ['12', '12', '12', '12', '13'] | Majority: 12\n"
     ]
    },
    {
     "name": "stderr",
     "output_type": "stream",
     "text": [
      " 28%|██▊       | 14/50 [03:36<10:49, 18.05s/it]"
     ]
    },
    {
     "name": "stdout",
     "output_type": "stream",
     "text": [
      "\n",
      "[13] GT: 18 | Votes: ['18', '18', '9', '18', '18'] | Majority: 18\n"
     ]
    },
    {
     "name": "stderr",
     "output_type": "stream",
     "text": [
      " 30%|███       | 15/50 [03:51<10:04, 17.26s/it]"
     ]
    },
    {
     "name": "stdout",
     "output_type": "stream",
     "text": [
      "\n",
      "[14] GT: 60 | Votes: ['60', '60', '60', '60', '60'] | Majority: 60\n"
     ]
    },
    {
     "name": "stderr",
     "output_type": "stream",
     "text": [
      " 32%|███▏      | 16/50 [04:11<10:12, 18.02s/it]"
     ]
    },
    {
     "name": "stdout",
     "output_type": "stream",
     "text": [
      "\n",
      "[15] GT: 125 | Votes: ['125', '125', '125', '125', '125'] | Majority: 125\n"
     ]
    },
    {
     "name": "stderr",
     "output_type": "stream",
     "text": [
      " 34%|███▍      | 17/50 [04:25<09:11, 16.70s/it]"
     ]
    },
    {
     "name": "stdout",
     "output_type": "stream",
     "text": [
      "\n",
      "[16] GT: 230 | Votes: ['230', '230', '230', '230', '230'] | Majority: 230\n"
     ]
    },
    {
     "name": "stderr",
     "output_type": "stream",
     "text": [
      " 36%|███▌      | 18/50 [04:40<08:41, 16.30s/it]"
     ]
    },
    {
     "name": "stdout",
     "output_type": "stream",
     "text": [
      "\n",
      "[17] GT: 57500 | Votes: ['57500', '57500', '57500', '57500', '57500'] | Majority: 57500\n"
     ]
    },
    {
     "name": "stderr",
     "output_type": "stream",
     "text": [
      " 38%|███▊      | 19/50 [04:53<07:50, 15.19s/it]"
     ]
    },
    {
     "name": "stdout",
     "output_type": "stream",
     "text": [
      "\n",
      "[18] GT: 7 | Votes: ['4', '4', '4', '7', '7'] | Majority: 4\n"
     ]
    },
    {
     "name": "stderr",
     "output_type": "stream",
     "text": [
      " 40%|████      | 20/50 [05:14<08:29, 16.99s/it]"
     ]
    },
    {
     "name": "stdout",
     "output_type": "stream",
     "text": [
      "\n",
      "[19] GT: 6 | Votes: ['6', '6', '6', '6', '6'] | Majority: 6\n"
     ]
    },
    {
     "name": "stderr",
     "output_type": "stream",
     "text": [
      " 42%|████▏     | 21/50 [05:39<09:21, 19.35s/it]"
     ]
    },
    {
     "name": "stdout",
     "output_type": "stream",
     "text": [
      "\n",
      "[20] GT: 15 | Votes: ['5', '5', '15', '00', '24'] | Majority: 5\n"
     ]
    },
    {
     "name": "stderr",
     "output_type": "stream",
     "text": [
      " 44%|████▍     | 22/50 [05:51<08:04, 17.31s/it]"
     ]
    },
    {
     "name": "stdout",
     "output_type": "stream",
     "text": [
      "\n",
      "[21] GT: 14 | Votes: ['2', '14', '14', '14', '14'] | Majority: 14\n"
     ]
    },
    {
     "name": "stderr",
     "output_type": "stream",
     "text": [
      " 46%|████▌     | 23/50 [06:04<07:10, 15.93s/it]"
     ]
    },
    {
     "name": "stdout",
     "output_type": "stream",
     "text": [
      "\n",
      "[22] GT: 7 | Votes: ['7', '7', '7', '7', '7'] | Majority: 7\n"
     ]
    },
    {
     "name": "stderr",
     "output_type": "stream",
     "text": [
      " 48%|████▊     | 24/50 [06:15<06:16, 14.49s/it]"
     ]
    },
    {
     "name": "stdout",
     "output_type": "stream",
     "text": [
      "\n",
      "[23] GT: 8 | Votes: ['00', '8', '00', '8', '00'] | Majority: 00\n"
     ]
    },
    {
     "name": "stderr",
     "output_type": "stream",
     "text": [
      " 50%|█████     | 25/50 [06:28<05:47, 13.91s/it]"
     ]
    },
    {
     "name": "stdout",
     "output_type": "stream",
     "text": [
      "\n",
      "[24] GT: 26 | Votes: ['00', '00', '00', '00', '00'] | Majority: 00\n"
     ]
    },
    {
     "name": "stderr",
     "output_type": "stream",
     "text": [
      " 52%|█████▏    | 26/50 [06:43<05:41, 14.22s/it]"
     ]
    },
    {
     "name": "stdout",
     "output_type": "stream",
     "text": [
      "\n",
      "[25] GT: 2 | Votes: ['2', '2', '2', '2', '2'] | Majority: 2\n"
     ]
    },
    {
     "name": "stderr",
     "output_type": "stream",
     "text": [
      " 54%|█████▍    | 27/50 [07:00<05:47, 15.11s/it]"
     ]
    },
    {
     "name": "stdout",
     "output_type": "stream",
     "text": [
      "\n",
      "[26] GT: 243 | Votes: ['243', '243', '243', '243', '243'] | Majority: 243\n"
     ]
    },
    {
     "name": "stderr",
     "output_type": "stream",
     "text": [
      " 56%|█████▌    | 28/50 [07:14<05:27, 14.87s/it]"
     ]
    },
    {
     "name": "stdout",
     "output_type": "stream",
     "text": [
      "\n",
      "[27] GT: 16 | Votes: ['16', '16', '16', '16', '16'] | Majority: 16\n"
     ]
    },
    {
     "name": "stderr",
     "output_type": "stream",
     "text": [
      " 58%|█████▊    | 29/50 [07:26<04:55, 14.05s/it]"
     ]
    },
    {
     "name": "stdout",
     "output_type": "stream",
     "text": [
      "\n",
      "[28] GT: 25 | Votes: ['25', '25', '25', '25', '25'] | Majority: 25\n"
     ]
    },
    {
     "name": "stderr",
     "output_type": "stream",
     "text": [
      " 60%|██████    | 30/50 [07:39<04:31, 13.58s/it]"
     ]
    },
    {
     "name": "stdout",
     "output_type": "stream",
     "text": [
      "\n",
      "[29] GT: 104 | Votes: ['104', '104', '104', '104', '104'] | Majority: 104\n"
     ]
    },
    {
     "name": "stderr",
     "output_type": "stream",
     "text": [
      " 62%|██████▏   | 31/50 [07:54<04:25, 14.00s/it]"
     ]
    },
    {
     "name": "stdout",
     "output_type": "stream",
     "text": [
      "\n",
      "[30] GT: 109 | Votes: ['109', '109', '109', '109', '109'] | Majority: 109\n"
     ]
    },
    {
     "name": "stderr",
     "output_type": "stream",
     "text": [
      " 64%|██████▍   | 32/50 [08:09<04:18, 14.37s/it]"
     ]
    },
    {
     "name": "stdout",
     "output_type": "stream",
     "text": [
      "\n",
      "[31] GT: 80 | Votes: ['80', '80', '80', '80', '80'] | Majority: 80\n"
     ]
    },
    {
     "name": "stderr",
     "output_type": "stream",
     "text": [
      " 66%|██████▌   | 33/50 [08:20<03:49, 13.49s/it]"
     ]
    },
    {
     "name": "stdout",
     "output_type": "stream",
     "text": [
      "\n",
      "[32] GT: 35 | Votes: ['35', '35', '35', '35', '35'] | Majority: 35\n"
     ]
    },
    {
     "name": "stderr",
     "output_type": "stream",
     "text": [
      " 68%|██████▊   | 34/50 [08:34<03:38, 13.64s/it]"
     ]
    },
    {
     "name": "stdout",
     "output_type": "stream",
     "text": [
      "\n",
      "[33] GT: 70 | Votes: ['70', '70', '70', '70', '70'] | Majority: 70\n"
     ]
    },
    {
     "name": "stderr",
     "output_type": "stream",
     "text": [
      " 70%|███████   | 35/50 [08:45<03:12, 12.80s/it]"
     ]
    },
    {
     "name": "stdout",
     "output_type": "stream",
     "text": [
      "\n",
      "[34] GT: 23 | Votes: ['23', '23', '23', '23', '23'] | Majority: 23\n"
     ]
    },
    {
     "name": "stderr",
     "output_type": "stream",
     "text": [
      " 72%|███████▏  | 36/50 [08:59<03:03, 13.13s/it]"
     ]
    },
    {
     "name": "stdout",
     "output_type": "stream",
     "text": [
      "\n",
      "[35] GT: 40 | Votes: ['20', '20', '9', '9', '20'] | Majority: 20\n"
     ]
    },
    {
     "name": "stderr",
     "output_type": "stream",
     "text": [
      " 74%|███████▍  | 37/50 [09:14<02:56, 13.60s/it]"
     ]
    },
    {
     "name": "stdout",
     "output_type": "stream",
     "text": [
      "\n",
      "[36] GT: 75 | Votes: ['00', '00', '75', '75', '00'] | Majority: 00\n"
     ]
    },
    {
     "name": "stderr",
     "output_type": "stream",
     "text": [
      " 76%|███████▌  | 38/50 [09:33<03:01, 15.15s/it]"
     ]
    },
    {
     "name": "stdout",
     "output_type": "stream",
     "text": [
      "\n",
      "[37] GT: 2 | Votes: ['0', '11', '2', '0', '2'] | Majority: 0\n"
     ]
    },
    {
     "name": "stderr",
     "output_type": "stream",
     "text": [
      " 78%|███████▊  | 39/50 [09:49<02:51, 15.60s/it]"
     ]
    },
    {
     "name": "stdout",
     "output_type": "stream",
     "text": [
      "\n",
      "[38] GT: 10 | Votes: ['10', '10', '10', '10', '10'] | Majority: 10\n"
     ]
    },
    {
     "name": "stderr",
     "output_type": "stream",
     "text": [
      " 80%|████████  | 40/50 [10:10<02:52, 17.24s/it]"
     ]
    },
    {
     "name": "stdout",
     "output_type": "stream",
     "text": [
      "\n",
      "[39] GT: 18 | Votes: ['18', '18', '18', '18', '18'] | Majority: 18\n"
     ]
    },
    {
     "name": "stderr",
     "output_type": "stream",
     "text": [
      " 82%|████████▏ | 41/50 [10:22<02:19, 15.52s/it]"
     ]
    },
    {
     "name": "stdout",
     "output_type": "stream",
     "text": [
      "\n",
      "[40] GT: 8 | Votes: ['8', '8', '8', '8', '8'] | Majority: 8\n"
     ]
    },
    {
     "name": "stderr",
     "output_type": "stream",
     "text": [
      " 84%|████████▍ | 42/50 [10:39<02:07, 15.97s/it]"
     ]
    },
    {
     "name": "stdout",
     "output_type": "stream",
     "text": [
      "\n",
      "[41] GT: 200 | Votes: ['200', '200', '200', '200', '200'] | Majority: 200\n"
     ]
    },
    {
     "name": "stderr",
     "output_type": "stream",
     "text": [
      " 86%|████████▌ | 43/50 [10:52<01:45, 15.12s/it]"
     ]
    },
    {
     "name": "stdout",
     "output_type": "stream",
     "text": [
      "\n",
      "[42] GT: 26 | Votes: ['26', '26', '26', '26', '26'] | Majority: 26\n"
     ]
    },
    {
     "name": "stderr",
     "output_type": "stream",
     "text": [
      " 88%|████████▊ | 44/50 [11:10<01:35, 15.93s/it]"
     ]
    },
    {
     "name": "stdout",
     "output_type": "stream",
     "text": [
      "\n",
      "[43] GT: 48 | Votes: ['48', '48', '48', '48', '48'] | Majority: 48\n"
     ]
    },
    {
     "name": "stderr",
     "output_type": "stream",
     "text": [
      " 90%|█████████ | 45/50 [11:27<01:22, 16.42s/it]"
     ]
    },
    {
     "name": "stdout",
     "output_type": "stream",
     "text": [
      "\n",
      "[44] GT: 20 | Votes: ['20', '20', '20', '20', '20'] | Majority: 20\n"
     ]
    },
    {
     "name": "stderr",
     "output_type": "stream",
     "text": [
      " 92%|█████████▏| 46/50 [11:48<01:10, 17.65s/it]"
     ]
    },
    {
     "name": "stdout",
     "output_type": "stream",
     "text": [
      "\n",
      "[45] GT: 104 | Votes: ['104', '104', '104', '104', '104'] | Majority: 104\n"
     ]
    },
    {
     "name": "stderr",
     "output_type": "stream",
     "text": [
      " 94%|█████████▍| 47/50 [12:08<00:54, 18.29s/it]"
     ]
    },
    {
     "name": "stdout",
     "output_type": "stream",
     "text": [
      "\n",
      "[46] GT: 163 | Votes: ['163', '37', '163', '163', '163'] | Majority: 163\n"
     ]
    },
    {
     "name": "stderr",
     "output_type": "stream",
     "text": [
      " 96%|█████████▌| 48/50 [12:25<00:36, 18.07s/it]"
     ]
    },
    {
     "name": "stdout",
     "output_type": "stream",
     "text": [
      "\n",
      "[47] GT: 800 | Votes: ['800', '800', '800', '800', '800'] | Majority: 800\n"
     ]
    },
    {
     "name": "stderr",
     "output_type": "stream",
     "text": [
      " 98%|█████████▊| 49/50 [12:37<00:16, 16.30s/it]"
     ]
    },
    {
     "name": "stdout",
     "output_type": "stream",
     "text": [
      "\n",
      "[48] GT: 8 | Votes: ['8', '8', '8', '8', '8'] | Majority: 8\n"
     ]
    },
    {
     "name": "stderr",
     "output_type": "stream",
     "text": [
      "100%|██████████| 50/50 [12:51<00:00, 15.43s/it]\n"
     ]
    },
    {
     "name": "stdout",
     "output_type": "stream",
     "text": [
      "\n",
      "[49] GT: 30 | Votes: ['30', '30', '30', '30', '30'] | Majority: 30\n"
     ]
    },
    {
     "name": "stderr",
     "output_type": "stream",
     "text": [
      "  2%|▏         | 1/50 [00:39<32:10, 39.39s/it]"
     ]
    },
    {
     "name": "stdout",
     "output_type": "stream",
     "text": [
      "\n",
      "[0] GT: 18 | Votes: ['18', '18', '18', '18', '18'] | Majority: 18\n"
     ]
    },
    {
     "name": "stderr",
     "output_type": "stream",
     "text": [
      "  4%|▍         | 2/50 [01:15<30:11, 37.74s/it]"
     ]
    },
    {
     "name": "stdout",
     "output_type": "stream",
     "text": [
      "\n",
      "[1] GT: 3 | Votes: ['3', '3', '3', '3', '3'] | Majority: 3\n"
     ]
    },
    {
     "name": "stderr",
     "output_type": "stream",
     "text": [
      "  6%|▌         | 3/50 [01:57<31:04, 39.67s/it]"
     ]
    },
    {
     "name": "stdout",
     "output_type": "stream",
     "text": [
      "\n",
      "[2] GT: 70000 | Votes: ['70000', '70000', '70000', '70000', '70000'] | Majority: 70000\n"
     ]
    },
    {
     "name": "stderr",
     "output_type": "stream",
     "text": [
      "  8%|▊         | 4/50 [02:35<29:37, 38.64s/it]"
     ]
    },
    {
     "name": "stdout",
     "output_type": "stream",
     "text": [
      "\n",
      "[3] GT: 540 | Votes: ['540', '540', '540', '540', '540'] | Majority: 540\n"
     ]
    },
    {
     "name": "stderr",
     "output_type": "stream",
     "text": [
      " 10%|█         | 5/50 [03:19<30:29, 40.65s/it]"
     ]
    },
    {
     "name": "stdout",
     "output_type": "stream",
     "text": [
      "\n",
      "[4] GT: 20 | Votes: ['20', '20', '20', '20', '20'] | Majority: 20\n"
     ]
    },
    {
     "name": "stderr",
     "output_type": "stream",
     "text": [
      " 12%|█▏        | 6/50 [04:01<30:18, 41.33s/it]"
     ]
    },
    {
     "name": "stdout",
     "output_type": "stream",
     "text": [
      "\n",
      "[5] GT: 64 | Votes: ['64', '64', '64', '64', '64'] | Majority: 64\n"
     ]
    },
    {
     "name": "stderr",
     "output_type": "stream",
     "text": [
      " 14%|█▍        | 7/50 [04:40<29:00, 40.47s/it]"
     ]
    },
    {
     "name": "stdout",
     "output_type": "stream",
     "text": [
      "\n",
      "[6] GT: 260 | Votes: ['260', '260', '260', '260', '260'] | Majority: 260\n"
     ]
    },
    {
     "name": "stderr",
     "output_type": "stream",
     "text": [
      " 16%|█▌        | 8/50 [05:25<29:16, 41.81s/it]"
     ]
    },
    {
     "name": "stdout",
     "output_type": "stream",
     "text": [
      "\n",
      "[7] GT: 160 | Votes: ['80', '160', '120', '120', '120'] | Majority: 120\n"
     ]
    },
    {
     "name": "stderr",
     "output_type": "stream",
     "text": [
      " 18%|█▊        | 9/50 [06:13<30:03, 43.98s/it]"
     ]
    },
    {
     "name": "stdout",
     "output_type": "stream",
     "text": [
      "\n",
      "[8] GT: 45 | Votes: ['135', '45', '45', '45', '45'] | Majority: 45\n"
     ]
    },
    {
     "name": "stderr",
     "output_type": "stream",
     "text": [
      " 20%|██        | 10/50 [06:55<28:53, 43.33s/it]"
     ]
    },
    {
     "name": "stdout",
     "output_type": "stream",
     "text": [
      "\n",
      "[9] GT: 460 | Votes: ['460', '460', '460', '460', '460'] | Majority: 460\n"
     ]
    },
    {
     "name": "stderr",
     "output_type": "stream",
     "text": [
      " 22%|██▏       | 11/50 [07:37<27:50, 42.83s/it]"
     ]
    },
    {
     "name": "stdout",
     "output_type": "stream",
     "text": [
      "\n",
      "[10] GT: 366 | Votes: ['366', '366', '366', '366', '366'] | Majority: 366\n"
     ]
    },
    {
     "name": "stderr",
     "output_type": "stream",
     "text": [
      " 24%|██▍       | 12/50 [08:19<27:00, 42.65s/it]"
     ]
    },
    {
     "name": "stdout",
     "output_type": "stream",
     "text": [
      "\n",
      "[11] GT: 694 | Votes: ['694', '694', '694', '694', '694'] | Majority: 694\n"
     ]
    },
    {
     "name": "stderr",
     "output_type": "stream",
     "text": [
      " 26%|██▌       | 13/50 [09:07<27:18, 44.27s/it]"
     ]
    },
    {
     "name": "stdout",
     "output_type": "stream",
     "text": [
      "\n",
      "[12] GT: 13 | Votes: ['5', '11', '12', '13', '12'] | Majority: 12\n"
     ]
    },
    {
     "name": "stderr",
     "output_type": "stream",
     "text": [
      " 28%|██▊       | 14/50 [10:05<29:02, 48.41s/it]"
     ]
    },
    {
     "name": "stdout",
     "output_type": "stream",
     "text": [
      "\n",
      "[13] GT: 18 | Votes: ['18', '18', '18', '12', '18'] | Majority: 18\n"
     ]
    },
    {
     "name": "stderr",
     "output_type": "stream",
     "text": [
      " 30%|███       | 15/50 [10:47<27:06, 46.48s/it]"
     ]
    },
    {
     "name": "stdout",
     "output_type": "stream",
     "text": [
      "\n",
      "[14] GT: 60 | Votes: ['60', '60', '60', '60', '60'] | Majority: 60\n"
     ]
    },
    {
     "name": "stderr",
     "output_type": "stream",
     "text": [
      " 32%|███▏      | 16/50 [11:35<26:31, 46.80s/it]"
     ]
    },
    {
     "name": "stdout",
     "output_type": "stream",
     "text": [
      "\n",
      "[15] GT: 125 | Votes: ['125', '125', '29', '125', '125'] | Majority: 125\n"
     ]
    },
    {
     "name": "stderr",
     "output_type": "stream",
     "text": [
      " 34%|███▍      | 17/50 [12:15<24:37, 44.78s/it]"
     ]
    },
    {
     "name": "stdout",
     "output_type": "stream",
     "text": [
      "\n",
      "[16] GT: 230 | Votes: ['230', '230', '230', '170', '230'] | Majority: 230\n"
     ]
    },
    {
     "name": "stderr",
     "output_type": "stream",
     "text": [
      " 36%|███▌      | 18/50 [12:57<23:24, 43.88s/it]"
     ]
    },
    {
     "name": "stdout",
     "output_type": "stream",
     "text": [
      "\n",
      "[17] GT: 57500 | Votes: ['57500', '57500', '57500', '57500', '57500'] | Majority: 57500\n"
     ]
    },
    {
     "name": "stderr",
     "output_type": "stream",
     "text": [
      " 38%|███▊      | 19/50 [13:36<21:54, 42.40s/it]"
     ]
    },
    {
     "name": "stdout",
     "output_type": "stream",
     "text": [
      "\n",
      "[18] GT: 7 | Votes: ['7', '7', '7', '7', '7'] | Majority: 7\n"
     ]
    },
    {
     "name": "stderr",
     "output_type": "stream",
     "text": [
      " 40%|████      | 20/50 [14:20<21:29, 42.98s/it]"
     ]
    },
    {
     "name": "stdout",
     "output_type": "stream",
     "text": [
      "\n",
      "[19] GT: 6 | Votes: ['6', '6', '6', '6', '6'] | Majority: 6\n"
     ]
    },
    {
     "name": "stderr",
     "output_type": "stream",
     "text": [
      " 42%|████▏     | 21/50 [15:05<21:02, 43.52s/it]"
     ]
    },
    {
     "name": "stdout",
     "output_type": "stream",
     "text": [
      "\n",
      "[20] GT: 15 | Votes: ['15', '14', '15', '15', '15'] | Majority: 15\n"
     ]
    },
    {
     "name": "stderr",
     "output_type": "stream",
     "text": [
      " 44%|████▍     | 22/50 [15:45<19:48, 42.44s/it]"
     ]
    },
    {
     "name": "stdout",
     "output_type": "stream",
     "text": [
      "\n",
      "[21] GT: 14 | Votes: ['14', '14', '14', '14', '14'] | Majority: 14\n"
     ]
    },
    {
     "name": "stderr",
     "output_type": "stream",
     "text": [
      " 46%|████▌     | 23/50 [16:25<18:50, 41.88s/it]"
     ]
    },
    {
     "name": "stdout",
     "output_type": "stream",
     "text": [
      "\n",
      "[22] GT: 7 | Votes: ['7', '7', '7', '7', '7'] | Majority: 7\n"
     ]
    },
    {
     "name": "stderr",
     "output_type": "stream",
     "text": [
      " 48%|████▊     | 24/50 [17:03<17:32, 40.49s/it]"
     ]
    },
    {
     "name": "stdout",
     "output_type": "stream",
     "text": [
      "\n",
      "[23] GT: 8 | Votes: ['8', '8', '8', '8', '8'] | Majority: 8\n"
     ]
    },
    {
     "name": "stderr",
     "output_type": "stream",
     "text": [
      " 50%|█████     | 25/50 [17:43<16:55, 40.63s/it]"
     ]
    },
    {
     "name": "stdout",
     "output_type": "stream",
     "text": [
      "\n",
      "[24] GT: 26 | Votes: ['26', '26', '26', '26', '26'] | Majority: 26\n"
     ]
    },
    {
     "name": "stderr",
     "output_type": "stream",
     "text": [
      " 52%|█████▏    | 26/50 [18:26<16:29, 41.22s/it]"
     ]
    },
    {
     "name": "stdout",
     "output_type": "stream",
     "text": [
      "\n",
      "[25] GT: 2 | Votes: ['2', '2', '2', '2', '2'] | Majority: 2\n"
     ]
    },
    {
     "name": "stderr",
     "output_type": "stream",
     "text": [
      " 54%|█████▍    | 27/50 [19:10<16:07, 42.05s/it]"
     ]
    },
    {
     "name": "stdout",
     "output_type": "stream",
     "text": [
      "\n",
      "[26] GT: 243 | Votes: ['243', '243', '243', '243', '243'] | Majority: 243\n"
     ]
    },
    {
     "name": "stderr",
     "output_type": "stream",
     "text": [
      " 56%|█████▌    | 28/50 [19:50<15:09, 41.34s/it]"
     ]
    },
    {
     "name": "stdout",
     "output_type": "stream",
     "text": [
      "\n",
      "[27] GT: 16 | Votes: ['16', '16', '16', '16', '16'] | Majority: 16\n"
     ]
    },
    {
     "name": "stderr",
     "output_type": "stream",
     "text": [
      " 58%|█████▊    | 29/50 [20:29<14:14, 40.67s/it]"
     ]
    },
    {
     "name": "stdout",
     "output_type": "stream",
     "text": [
      "\n",
      "[28] GT: 25 | Votes: ['25', '15', '25', '25', '25'] | Majority: 25\n"
     ]
    },
    {
     "name": "stderr",
     "output_type": "stream",
     "text": [
      " 60%|██████    | 30/50 [21:08<13:23, 40.18s/it]"
     ]
    },
    {
     "name": "stdout",
     "output_type": "stream",
     "text": [
      "\n",
      "[29] GT: 104 | Votes: ['104', '104', '104', '104', '104'] | Majority: 104\n"
     ]
    },
    {
     "name": "stderr",
     "output_type": "stream",
     "text": [
      " 62%|██████▏   | 31/50 [21:49<12:46, 40.34s/it]"
     ]
    },
    {
     "name": "stdout",
     "output_type": "stream",
     "text": [
      "\n",
      "[30] GT: 109 | Votes: ['109', '109', '109', '109', '109'] | Majority: 109\n"
     ]
    },
    {
     "name": "stderr",
     "output_type": "stream",
     "text": [
      " 64%|██████▍   | 32/50 [22:31<12:17, 40.98s/it]"
     ]
    },
    {
     "name": "stdout",
     "output_type": "stream",
     "text": [
      "\n",
      "[31] GT: 80 | Votes: ['80', '80', '80', '80', '80'] | Majority: 80\n"
     ]
    },
    {
     "name": "stderr",
     "output_type": "stream",
     "text": [
      " 66%|██████▌   | 33/50 [23:09<11:19, 40.00s/it]"
     ]
    },
    {
     "name": "stdout",
     "output_type": "stream",
     "text": [
      "\n",
      "[32] GT: 35 | Votes: ['35', '35', '35', '35', '35'] | Majority: 35\n"
     ]
    },
    {
     "name": "stderr",
     "output_type": "stream",
     "text": [
      " 68%|██████▊   | 34/50 [23:48<10:37, 39.85s/it]"
     ]
    },
    {
     "name": "stdout",
     "output_type": "stream",
     "text": [
      "\n",
      "[33] GT: 70 | Votes: ['70', '70', '70', '70', '70'] | Majority: 70\n"
     ]
    },
    {
     "name": "stderr",
     "output_type": "stream",
     "text": [
      " 70%|███████   | 35/50 [24:26<09:50, 39.35s/it]"
     ]
    },
    {
     "name": "stdout",
     "output_type": "stream",
     "text": [
      "\n",
      "[34] GT: 23 | Votes: ['23', '23', '23', '23', '23'] | Majority: 23\n"
     ]
    },
    {
     "name": "stderr",
     "output_type": "stream",
     "text": [
      " 72%|███████▏  | 36/50 [25:07<09:17, 39.81s/it]"
     ]
    },
    {
     "name": "stdout",
     "output_type": "stream",
     "text": [
      "\n",
      "[35] GT: 40 | Votes: ['9', '9', '9', '9', '9'] | Majority: 9\n"
     ]
    },
    {
     "name": "stderr",
     "output_type": "stream",
     "text": [
      " 74%|███████▍  | 37/50 [25:47<08:35, 39.68s/it]"
     ]
    },
    {
     "name": "stdout",
     "output_type": "stream",
     "text": [
      "\n",
      "[36] GT: 75 | Votes: ['75', '75', '75', '75', '75'] | Majority: 75\n"
     ]
    },
    {
     "name": "stderr",
     "output_type": "stream",
     "text": [
      " 76%|███████▌  | 38/50 [26:30<08:08, 40.70s/it]"
     ]
    },
    {
     "name": "stdout",
     "output_type": "stream",
     "text": [
      "\n",
      "[37] GT: 2 | Votes: ['2', '11', '2', '2', '2'] | Majority: 2\n"
     ]
    },
    {
     "name": "stderr",
     "output_type": "stream",
     "text": [
      " 78%|███████▊  | 39/50 [27:12<07:33, 41.26s/it]"
     ]
    },
    {
     "name": "stdout",
     "output_type": "stream",
     "text": [
      "\n",
      "[38] GT: 10 | Votes: ['10', '11', '10', '10', '67'] | Majority: 10\n"
     ]
    },
    {
     "name": "stderr",
     "output_type": "stream",
     "text": [
      " 80%|████████  | 40/50 [27:59<07:09, 42.93s/it]"
     ]
    },
    {
     "name": "stdout",
     "output_type": "stream",
     "text": [
      "\n",
      "[39] GT: 18 | Votes: ['18', '18', '18', '18', '18'] | Majority: 18\n"
     ]
    },
    {
     "name": "stderr",
     "output_type": "stream",
     "text": [
      " 82%|████████▏ | 41/50 [28:37<06:13, 41.51s/it]"
     ]
    },
    {
     "name": "stdout",
     "output_type": "stream",
     "text": [
      "\n",
      "[40] GT: 8 | Votes: ['8', '8', '8', '8', '8'] | Majority: 8\n"
     ]
    },
    {
     "name": "stderr",
     "output_type": "stream",
     "text": [
      " 84%|████████▍ | 42/50 [29:20<05:33, 41.70s/it]"
     ]
    },
    {
     "name": "stdout",
     "output_type": "stream",
     "text": [
      "\n",
      "[41] GT: 200 | Votes: ['200', '200', '200', '200', '200'] | Majority: 200\n"
     ]
    },
    {
     "name": "stderr",
     "output_type": "stream",
     "text": [
      " 86%|████████▌ | 43/50 [30:01<04:51, 41.59s/it]"
     ]
    },
    {
     "name": "stdout",
     "output_type": "stream",
     "text": [
      "\n",
      "[42] GT: 26 | Votes: ['26', '26', '26', '26', '26'] | Majority: 26\n"
     ]
    },
    {
     "name": "stderr",
     "output_type": "stream",
     "text": [
      " 88%|████████▊ | 44/50 [30:45<04:14, 42.34s/it]"
     ]
    },
    {
     "name": "stdout",
     "output_type": "stream",
     "text": [
      "\n",
      "[43] GT: 48 | Votes: ['48', '48', '240', '48', '48'] | Majority: 48\n"
     ]
    },
    {
     "name": "stderr",
     "output_type": "stream",
     "text": [
      " 90%|█████████ | 45/50 [31:27<03:31, 42.34s/it]"
     ]
    },
    {
     "name": "stdout",
     "output_type": "stream",
     "text": [
      "\n",
      "[44] GT: 20 | Votes: ['20', '20', '20', '20', '20'] | Majority: 20\n"
     ]
    },
    {
     "name": "stderr",
     "output_type": "stream",
     "text": [
      " 92%|█████████▏| 46/50 [32:12<02:51, 42.97s/it]"
     ]
    },
    {
     "name": "stdout",
     "output_type": "stream",
     "text": [
      "\n",
      "[45] GT: 104 | Votes: ['104', '104', '104', '104', '104'] | Majority: 104\n"
     ]
    },
    {
     "name": "stderr",
     "output_type": "stream",
     "text": [
      " 94%|█████████▍| 47/50 [32:55<02:09, 43.01s/it]"
     ]
    },
    {
     "name": "stdout",
     "output_type": "stream",
     "text": [
      "\n",
      "[46] GT: 163 | Votes: ['163', '163', '163', '163', '163'] | Majority: 163\n"
     ]
    },
    {
     "name": "stderr",
     "output_type": "stream",
     "text": [
      " 96%|█████████▌| 48/50 [33:37<01:25, 42.86s/it]"
     ]
    },
    {
     "name": "stdout",
     "output_type": "stream",
     "text": [
      "\n",
      "[47] GT: 800 | Votes: ['800', '800', '800', '800', '800'] | Majority: 800\n"
     ]
    },
    {
     "name": "stderr",
     "output_type": "stream",
     "text": [
      " 98%|█████████▊| 49/50 [34:15<00:41, 41.30s/it]"
     ]
    },
    {
     "name": "stdout",
     "output_type": "stream",
     "text": [
      "\n",
      "[48] GT: 8 | Votes: ['8', '8', '8', '8', '8'] | Majority: 8\n"
     ]
    },
    {
     "name": "stderr",
     "output_type": "stream",
     "text": [
      "100%|██████████| 50/50 [34:55<00:00, 41.90s/it]\n"
     ]
    },
    {
     "name": "stdout",
     "output_type": "stream",
     "text": [
      "\n",
      "[49] GT: 30 | Votes: ['30', '30', '30', '30', '30'] | Majority: 30\n"
     ]
    },
    {
     "name": "stderr",
     "output_type": "stream",
     "text": [
      "  2%|▏         | 1/50 [00:44<36:08, 44.25s/it]"
     ]
    },
    {
     "name": "stdout",
     "output_type": "stream",
     "text": [
      "\n",
      "[0] GT: 18 | Votes: ['18', '18', '18', '18', '18'] | Majority: 18\n"
     ]
    },
    {
     "name": "stderr",
     "output_type": "stream",
     "text": [
      "  4%|▍         | 2/50 [01:24<33:29, 41.86s/it]"
     ]
    },
    {
     "name": "stdout",
     "output_type": "stream",
     "text": [
      "\n",
      "[1] GT: 3 | Votes: ['3', '3', '3', '3', '3'] | Majority: 3\n"
     ]
    },
    {
     "name": "stderr",
     "output_type": "stream",
     "text": [
      "  6%|▌         | 3/50 [02:08<33:32, 42.82s/it]"
     ]
    },
    {
     "name": "stdout",
     "output_type": "stream",
     "text": [
      "\n",
      "[2] GT: 70000 | Votes: ['70000', '70000', '70000', '65000', '54000'] | Majority: 70000\n"
     ]
    },
    {
     "name": "stderr",
     "output_type": "stream",
     "text": [
      "  8%|▊         | 4/50 [02:50<32:38, 42.58s/it]"
     ]
    },
    {
     "name": "stdout",
     "output_type": "stream",
     "text": [
      "\n",
      "[3] GT: 540 | Votes: ['540', '540', '540', '540', '540'] | Majority: 540\n"
     ]
    },
    {
     "name": "stderr",
     "output_type": "stream",
     "text": [
      " 10%|█         | 5/50 [03:38<33:28, 44.63s/it]"
     ]
    },
    {
     "name": "stdout",
     "output_type": "stream",
     "text": [
      "\n",
      "[4] GT: 20 | Votes: ['20', '20', '20', '20', '20'] | Majority: 20\n"
     ]
    },
    {
     "name": "stderr",
     "output_type": "stream",
     "text": [
      " 12%|█▏        | 6/50 [04:28<33:58, 46.33s/it]"
     ]
    },
    {
     "name": "stdout",
     "output_type": "stream",
     "text": [
      "\n",
      "[5] GT: 64 | Votes: ['64', '64', '64', '64', '128'] | Majority: 64\n"
     ]
    },
    {
     "name": "stderr",
     "output_type": "stream",
     "text": [
      " 14%|█▍        | 7/50 [05:10<32:15, 45.02s/it]"
     ]
    },
    {
     "name": "stdout",
     "output_type": "stream",
     "text": [
      "\n",
      "[6] GT: 260 | Votes: ['260', '260', '260', '260', '260'] | Majority: 260\n",
      "[Attempt 1] Error: Error code: 429 - {'error': {'message': 'Rate limit reached for model `llama3-70b-8192` in organization `org_01k1gtn3fcfkw95b53fvs24h2z` service tier `on_demand` on tokens per day (TPD): Limit 500000, Used 500223, Requested 641. Please try again in 2m29.4028s. Need more tokens? Upgrade to Dev Tier today at https://console.groq.com/settings/billing', 'type': 'tokens', 'code': 'rate_limit_exceeded'}}\n",
      "[Attempt 2] Error: Error code: 429 - {'error': {'message': 'Rate limit reached for model `llama3-70b-8192` in organization `org_01k1gtn3fcfkw95b53fvs24h2z` service tier `on_demand` on tokens per day (TPD): Limit 500000, Used 500216, Requested 641. Please try again in 2m28.1948s. Need more tokens? Upgrade to Dev Tier today at https://console.groq.com/settings/billing', 'type': 'tokens', 'code': 'rate_limit_exceeded'}}\n",
      "[Attempt 3] Error: Error code: 429 - {'error': {'message': 'Rate limit reached for model `llama3-70b-8192` in organization `org_01k1gtn3fcfkw95b53fvs24h2z` service tier `on_demand` on tokens per day (TPD): Limit 500000, Used 500209, Requested 641. Please try again in 2m26.9398s. Need more tokens? Upgrade to Dev Tier today at https://console.groq.com/settings/billing', 'type': 'tokens', 'code': 'rate_limit_exceeded'}}\n",
      "[Attempt 1] Error: Error code: 429 - {'error': {'message': 'Rate limit reached for model `llama3-70b-8192` in organization `org_01k1gtn3fcfkw95b53fvs24h2z` service tier `on_demand` on tokens per day (TPD): Limit 500000, Used 500202, Requested 641. Please try again in 2m25.7138s. Need more tokens? Upgrade to Dev Tier today at https://console.groq.com/settings/billing', 'type': 'tokens', 'code': 'rate_limit_exceeded'}}\n",
      "[Attempt 2] Error: Error code: 429 - {'error': {'message': 'Rate limit reached for model `llama3-70b-8192` in organization `org_01k1gtn3fcfkw95b53fvs24h2z` service tier `on_demand` on tokens per day (TPD): Limit 500000, Used 500195, Requested 641. Please try again in 2m24.4878s. Need more tokens? Upgrade to Dev Tier today at https://console.groq.com/settings/billing', 'type': 'tokens', 'code': 'rate_limit_exceeded'}}\n",
      "[Attempt 3] Error: Error code: 429 - {'error': {'message': 'Rate limit reached for model `llama3-70b-8192` in organization `org_01k1gtn3fcfkw95b53fvs24h2z` service tier `on_demand` on tokens per day (TPD): Limit 500000, Used 500188, Requested 641. Please try again in 2m23.253799999s. Need more tokens? Upgrade to Dev Tier today at https://console.groq.com/settings/billing', 'type': 'tokens', 'code': 'rate_limit_exceeded'}}\n",
      "[Attempt 1] Error: Error code: 429 - {'error': {'message': 'Rate limit reached for model `llama3-70b-8192` in organization `org_01k1gtn3fcfkw95b53fvs24h2z` service tier `on_demand` on tokens per day (TPD): Limit 500000, Used 500181, Requested 641. Please try again in 2m22.0628s. Need more tokens? Upgrade to Dev Tier today at https://console.groq.com/settings/billing', 'type': 'tokens', 'code': 'rate_limit_exceeded'}}\n",
      "[Attempt 2] Error: Error code: 429 - {'error': {'message': 'Rate limit reached for model `llama3-70b-8192` in organization `org_01k1gtn3fcfkw95b53fvs24h2z` service tier `on_demand` on tokens per day (TPD): Limit 500000, Used 500173, Requested 641. Please try again in 2m20.8008s. Need more tokens? Upgrade to Dev Tier today at https://console.groq.com/settings/billing', 'type': 'tokens', 'code': 'rate_limit_exceeded'}}\n",
      "[Attempt 3] Error: Error code: 429 - {'error': {'message': 'Rate limit reached for model `llama3-70b-8192` in organization `org_01k1gtn3fcfkw95b53fvs24h2z` service tier `on_demand` on tokens per day (TPD): Limit 500000, Used 500166, Requested 641. Please try again in 2m19.4518s. Need more tokens? Upgrade to Dev Tier today at https://console.groq.com/settings/billing', 'type': 'tokens', 'code': 'rate_limit_exceeded'}}\n",
      "[Attempt 1] Error: Error code: 429 - {'error': {'message': 'Rate limit reached for model `llama3-70b-8192` in organization `org_01k1gtn3fcfkw95b53fvs24h2z` service tier `on_demand` on tokens per day (TPD): Limit 500000, Used 500158, Requested 641. Please try again in 2m18.2088s. Need more tokens? Upgrade to Dev Tier today at https://console.groq.com/settings/billing', 'type': 'tokens', 'code': 'rate_limit_exceeded'}}\n",
      "[Attempt 2] Error: Error code: 429 - {'error': {'message': 'Rate limit reached for model `llama3-70b-8192` in organization `org_01k1gtn3fcfkw95b53fvs24h2z` service tier `on_demand` on tokens per day (TPD): Limit 500000, Used 500149, Requested 641. Please try again in 2m16.5508s. Need more tokens? Upgrade to Dev Tier today at https://console.groq.com/settings/billing', 'type': 'tokens', 'code': 'rate_limit_exceeded'}}\n",
      "[Attempt 3] Error: Error code: 429 - {'error': {'message': 'Rate limit reached for model `llama3-70b-8192` in organization `org_01k1gtn3fcfkw95b53fvs24h2z` service tier `on_demand` on tokens per day (TPD): Limit 500000, Used 500142, Requested 641. Please try again in 2m15.3288s. Need more tokens? Upgrade to Dev Tier today at https://console.groq.com/settings/billing', 'type': 'tokens', 'code': 'rate_limit_exceeded'}}\n"
     ]
    },
    {
     "name": "stderr",
     "output_type": "stream",
     "text": [
      " 16%|█▌        | 8/50 [05:35<26:55, 38.46s/it]"
     ]
    },
    {
     "name": "stdout",
     "output_type": "stream",
     "text": [
      "\n",
      "[7] GT: 160 | Votes: ['160'] | Majority: 160\n",
      "[Attempt 1] Error: Error code: 429 - {'error': {'message': 'Rate limit reached for model `llama3-70b-8192` in organization `org_01k1gtn3fcfkw95b53fvs24h2z` service tier `on_demand` on tokens per day (TPD): Limit 500000, Used 500135, Requested 671. Please try again in 2m19.2868s. Need more tokens? Upgrade to Dev Tier today at https://console.groq.com/settings/billing', 'type': 'tokens', 'code': 'rate_limit_exceeded'}}\n",
      "[Attempt 2] Error: Error code: 429 - {'error': {'message': 'Rate limit reached for model `llama3-70b-8192` in organization `org_01k1gtn3fcfkw95b53fvs24h2z` service tier `on_demand` on tokens per day (TPD): Limit 500000, Used 500127, Requested 671. Please try again in 2m18.0498s. Need more tokens? Upgrade to Dev Tier today at https://console.groq.com/settings/billing', 'type': 'tokens', 'code': 'rate_limit_exceeded'}}\n",
      "[Attempt 3] Error: Error code: 429 - {'error': {'message': 'Rate limit reached for model `llama3-70b-8192` in organization `org_01k1gtn3fcfkw95b53fvs24h2z` service tier `on_demand` on tokens per day (TPD): Limit 500000, Used 500120, Requested 671. Please try again in 2m16.760799999s. Need more tokens? Upgrade to Dev Tier today at https://console.groq.com/settings/billing', 'type': 'tokens', 'code': 'rate_limit_exceeded'}}\n",
      "[Attempt 1] Error: Error code: 429 - {'error': {'message': 'Rate limit reached for model `llama3-70b-8192` in organization `org_01k1gtn3fcfkw95b53fvs24h2z` service tier `on_demand` on tokens per day (TPD): Limit 500000, Used 500113, Requested 671. Please try again in 2m15.5538s. Need more tokens? Upgrade to Dev Tier today at https://console.groq.com/settings/billing', 'type': 'tokens', 'code': 'rate_limit_exceeded'}}\n",
      "[Attempt 2] Error: Error code: 429 - {'error': {'message': 'Rate limit reached for model `llama3-70b-8192` in organization `org_01k1gtn3fcfkw95b53fvs24h2z` service tier `on_demand` on tokens per day (TPD): Limit 500000, Used 500106, Requested 671. Please try again in 2m14.3248s. Need more tokens? Upgrade to Dev Tier today at https://console.groq.com/settings/billing', 'type': 'tokens', 'code': 'rate_limit_exceeded'}}\n",
      "[Attempt 3] Error: Error code: 429 - {'error': {'message': 'Rate limit reached for model `llama3-70b-8192` in organization `org_01k1gtn3fcfkw95b53fvs24h2z` service tier `on_demand` on tokens per day (TPD): Limit 500000, Used 500098, Requested 671. Please try again in 2m13.051799999s. Need more tokens? Upgrade to Dev Tier today at https://console.groq.com/settings/billing', 'type': 'tokens', 'code': 'rate_limit_exceeded'}}\n",
      "[Attempt 1] Error: Error code: 429 - {'error': {'message': 'Rate limit reached for model `llama3-70b-8192` in organization `org_01k1gtn3fcfkw95b53fvs24h2z` service tier `on_demand` on tokens per day (TPD): Limit 500000, Used 500091, Requested 671. Please try again in 2m11.8338s. Need more tokens? Upgrade to Dev Tier today at https://console.groq.com/settings/billing', 'type': 'tokens', 'code': 'rate_limit_exceeded'}}\n",
      "[Attempt 2] Error: Error code: 429 - {'error': {'message': 'Rate limit reached for model `llama3-70b-8192` in organization `org_01k1gtn3fcfkw95b53fvs24h2z` service tier `on_demand` on tokens per day (TPD): Limit 500000, Used 500084, Requested 671. Please try again in 2m10.604799999s. Need more tokens? Upgrade to Dev Tier today at https://console.groq.com/settings/billing', 'type': 'tokens', 'code': 'rate_limit_exceeded'}}\n",
      "[Attempt 3] Error: Error code: 429 - {'error': {'message': 'Rate limit reached for model `llama3-70b-8192` in organization `org_01k1gtn3fcfkw95b53fvs24h2z` service tier `on_demand` on tokens per day (TPD): Limit 500000, Used 500077, Requested 671. Please try again in 2m9.4068s. Need more tokens? Upgrade to Dev Tier today at https://console.groq.com/settings/billing', 'type': 'tokens', 'code': 'rate_limit_exceeded'}}\n",
      "[Attempt 1] Error: Error code: 429 - {'error': {'message': 'Rate limit reached for model `llama3-70b-8192` in organization `org_01k1gtn3fcfkw95b53fvs24h2z` service tier `on_demand` on tokens per day (TPD): Limit 500000, Used 500070, Requested 671. Please try again in 2m8.2028s. Need more tokens? Upgrade to Dev Tier today at https://console.groq.com/settings/billing', 'type': 'tokens', 'code': 'rate_limit_exceeded'}}\n",
      "[Attempt 2] Error: Error code: 429 - {'error': {'message': 'Rate limit reached for model `llama3-70b-8192` in organization `org_01k1gtn3fcfkw95b53fvs24h2z` service tier `on_demand` on tokens per day (TPD): Limit 500000, Used 500063, Requested 671. Please try again in 2m7.0078s. Need more tokens? Upgrade to Dev Tier today at https://console.groq.com/settings/billing', 'type': 'tokens', 'code': 'rate_limit_exceeded'}}\n",
      "[Attempt 3] Error: Error code: 429 - {'error': {'message': 'Rate limit reached for model `llama3-70b-8192` in organization `org_01k1gtn3fcfkw95b53fvs24h2z` service tier `on_demand` on tokens per day (TPD): Limit 500000, Used 500056, Requested 671. Please try again in 2m5.7948s. Need more tokens? Upgrade to Dev Tier today at https://console.groq.com/settings/billing', 'type': 'tokens', 'code': 'rate_limit_exceeded'}}\n",
      "[Attempt 1] Error: Error code: 429 - {'error': {'message': 'Rate limit reached for model `llama3-70b-8192` in organization `org_01k1gtn3fcfkw95b53fvs24h2z` service tier `on_demand` on tokens per day (TPD): Limit 500000, Used 500049, Requested 671. Please try again in 2m4.575799999s. Need more tokens? Upgrade to Dev Tier today at https://console.groq.com/settings/billing', 'type': 'tokens', 'code': 'rate_limit_exceeded'}}\n",
      "[Attempt 2] Error: Error code: 429 - {'error': {'message': 'Rate limit reached for model `llama3-70b-8192` in organization `org_01k1gtn3fcfkw95b53fvs24h2z` service tier `on_demand` on tokens per day (TPD): Limit 500000, Used 500042, Requested 671. Please try again in 2m3.3348s. Need more tokens? Upgrade to Dev Tier today at https://console.groq.com/settings/billing', 'type': 'tokens', 'code': 'rate_limit_exceeded'}}\n",
      "[Attempt 3] Error: Error code: 429 - {'error': {'message': 'Rate limit reached for model `llama3-70b-8192` in organization `org_01k1gtn3fcfkw95b53fvs24h2z` service tier `on_demand` on tokens per day (TPD): Limit 500000, Used 500035, Requested 671. Please try again in 2m2.1098s. Need more tokens? Upgrade to Dev Tier today at https://console.groq.com/settings/billing', 'type': 'tokens', 'code': 'rate_limit_exceeded'}}\n"
     ]
    },
    {
     "name": "stderr",
     "output_type": "stream",
     "text": [
      " 18%|█▊        | 9/50 [05:54<22:05, 32.33s/it]"
     ]
    },
    {
     "name": "stdout",
     "output_type": "stream",
     "text": [
      "\n",
      "[8] GT: 45 | Votes: [] | Majority: N/A\n",
      "[Attempt 1] Error: Error code: 429 - {'error': {'message': 'Rate limit reached for model `llama3-70b-8192` in organization `org_01k1gtn3fcfkw95b53fvs24h2z` service tier `on_demand` on tokens per day (TPD): Limit 500000, Used 500028, Requested 626. Please try again in 1m53.1348s. Need more tokens? Upgrade to Dev Tier today at https://console.groq.com/settings/billing', 'type': 'tokens', 'code': 'rate_limit_exceeded'}}\n",
      "[Attempt 2] Error: Error code: 429 - {'error': {'message': 'Rate limit reached for model `llama3-70b-8192` in organization `org_01k1gtn3fcfkw95b53fvs24h2z` service tier `on_demand` on tokens per day (TPD): Limit 500000, Used 500021, Requested 626. Please try again in 1m51.8738s. Need more tokens? Upgrade to Dev Tier today at https://console.groq.com/settings/billing', 'type': 'tokens', 'code': 'rate_limit_exceeded'}}\n",
      "[Attempt 3] Error: Error code: 429 - {'error': {'message': 'Rate limit reached for model `llama3-70b-8192` in organization `org_01k1gtn3fcfkw95b53fvs24h2z` service tier `on_demand` on tokens per day (TPD): Limit 500000, Used 500014, Requested 626. Please try again in 1m50.6768s. Need more tokens? Upgrade to Dev Tier today at https://console.groq.com/settings/billing', 'type': 'tokens', 'code': 'rate_limit_exceeded'}}\n",
      "[Attempt 1] Error: Error code: 429 - {'error': {'message': 'Rate limit reached for model `llama3-70b-8192` in organization `org_01k1gtn3fcfkw95b53fvs24h2z` service tier `on_demand` on tokens per day (TPD): Limit 500000, Used 500007, Requested 626. Please try again in 1m49.4498s. Need more tokens? Upgrade to Dev Tier today at https://console.groq.com/settings/billing', 'type': 'tokens', 'code': 'rate_limit_exceeded'}}\n",
      "[Attempt 2] Error: Error code: 429 - {'error': {'message': 'Rate limit reached for model `llama3-70b-8192` in organization `org_01k1gtn3fcfkw95b53fvs24h2z` service tier `on_demand` on tokens per day (TPD): Limit 500000, Used 500000, Requested 626. Please try again in 1m48.2558s. Need more tokens? Upgrade to Dev Tier today at https://console.groq.com/settings/billing', 'type': 'tokens', 'code': 'rate_limit_exceeded'}}\n",
      "[Attempt 3] Error: Error code: 429 - {'error': {'message': 'Rate limit reached for model `llama3-70b-8192` in organization `org_01k1gtn3fcfkw95b53fvs24h2z` service tier `on_demand` on tokens per day (TPD): Limit 500000, Used 499994, Requested 626. Please try again in 1m46.969799999s. Need more tokens? Upgrade to Dev Tier today at https://console.groq.com/settings/billing', 'type': 'tokens', 'code': 'rate_limit_exceeded'}}\n",
      "[Attempt 1] Error: Error code: 429 - {'error': {'message': 'Rate limit reached for model `llama3-70b-8192` in organization `org_01k1gtn3fcfkw95b53fvs24h2z` service tier `on_demand` on tokens per day (TPD): Limit 500000, Used 499987, Requested 626. Please try again in 1m45.7828s. Need more tokens? Upgrade to Dev Tier today at https://console.groq.com/settings/billing', 'type': 'tokens', 'code': 'rate_limit_exceeded'}}\n",
      "[Attempt 2] Error: Error code: 429 - {'error': {'message': 'Rate limit reached for model `llama3-70b-8192` in organization `org_01k1gtn3fcfkw95b53fvs24h2z` service tier `on_demand` on tokens per day (TPD): Limit 500000, Used 499979, Requested 626. Please try again in 1m44.4888s. Need more tokens? Upgrade to Dev Tier today at https://console.groq.com/settings/billing', 'type': 'tokens', 'code': 'rate_limit_exceeded'}}\n",
      "[Attempt 3] Error: Error code: 429 - {'error': {'message': 'Rate limit reached for model `llama3-70b-8192` in organization `org_01k1gtn3fcfkw95b53fvs24h2z` service tier `on_demand` on tokens per day (TPD): Limit 500000, Used 499972, Requested 626. Please try again in 1m43.281799999s. Need more tokens? Upgrade to Dev Tier today at https://console.groq.com/settings/billing', 'type': 'tokens', 'code': 'rate_limit_exceeded'}}\n",
      "[Attempt 1] Error: Error code: 429 - {'error': {'message': 'Rate limit reached for model `llama3-70b-8192` in organization `org_01k1gtn3fcfkw95b53fvs24h2z` service tier `on_demand` on tokens per day (TPD): Limit 500000, Used 499965, Requested 626. Please try again in 1m42.0518s. Need more tokens? Upgrade to Dev Tier today at https://console.groq.com/settings/billing', 'type': 'tokens', 'code': 'rate_limit_exceeded'}}\n",
      "[Attempt 2] Error: Error code: 429 - {'error': {'message': 'Rate limit reached for model `llama3-70b-8192` in organization `org_01k1gtn3fcfkw95b53fvs24h2z` service tier `on_demand` on tokens per day (TPD): Limit 500000, Used 499958, Requested 626. Please try again in 1m40.8248s. Need more tokens? Upgrade to Dev Tier today at https://console.groq.com/settings/billing', 'type': 'tokens', 'code': 'rate_limit_exceeded'}}\n",
      "[Attempt 3] Error: Error code: 429 - {'error': {'message': 'Rate limit reached for model `llama3-70b-8192` in organization `org_01k1gtn3fcfkw95b53fvs24h2z` service tier `on_demand` on tokens per day (TPD): Limit 500000, Used 499951, Requested 626. Please try again in 1m39.593799999s. Need more tokens? Upgrade to Dev Tier today at https://console.groq.com/settings/billing', 'type': 'tokens', 'code': 'rate_limit_exceeded'}}\n",
      "[Attempt 1] Error: Error code: 429 - {'error': {'message': 'Rate limit reached for model `llama3-70b-8192` in organization `org_01k1gtn3fcfkw95b53fvs24h2z` service tier `on_demand` on tokens per day (TPD): Limit 500000, Used 499944, Requested 626. Please try again in 1m38.3598s. Need more tokens? Upgrade to Dev Tier today at https://console.groq.com/settings/billing', 'type': 'tokens', 'code': 'rate_limit_exceeded'}}\n",
      "[Attempt 2] Error: Error code: 429 - {'error': {'message': 'Rate limit reached for model `llama3-70b-8192` in organization `org_01k1gtn3fcfkw95b53fvs24h2z` service tier `on_demand` on tokens per day (TPD): Limit 500000, Used 499937, Requested 626. Please try again in 1m37.1238s. Need more tokens? Upgrade to Dev Tier today at https://console.groq.com/settings/billing', 'type': 'tokens', 'code': 'rate_limit_exceeded'}}\n",
      "[Attempt 3] Error: Error code: 429 - {'error': {'message': 'Rate limit reached for model `llama3-70b-8192` in organization `org_01k1gtn3fcfkw95b53fvs24h2z` service tier `on_demand` on tokens per day (TPD): Limit 500000, Used 499930, Requested 626. Please try again in 1m35.9288s. Need more tokens? Upgrade to Dev Tier today at https://console.groq.com/settings/billing', 'type': 'tokens', 'code': 'rate_limit_exceeded'}}\n"
     ]
    },
    {
     "name": "stderr",
     "output_type": "stream",
     "text": [
      " 20%|██        | 10/50 [06:11<18:34, 27.87s/it]"
     ]
    },
    {
     "name": "stdout",
     "output_type": "stream",
     "text": [
      "\n",
      "[9] GT: 460 | Votes: [] | Majority: N/A\n",
      "[Attempt 1] Error: Error code: 429 - {'error': {'message': 'Rate limit reached for model `llama3-70b-8192` in organization `org_01k1gtn3fcfkw95b53fvs24h2z` service tier `on_demand` on tokens per day (TPD): Limit 500000, Used 499922, Requested 637. Please try again in 1m36.5696s. Need more tokens? Upgrade to Dev Tier today at https://console.groq.com/settings/billing', 'type': 'tokens', 'code': 'rate_limit_exceeded'}}\n",
      "[Attempt 2] Error: Error code: 429 - {'error': {'message': 'Rate limit reached for model `llama3-70b-8192` in organization `org_01k1gtn3fcfkw95b53fvs24h2z` service tier `on_demand` on tokens per day (TPD): Limit 500000, Used 499915, Requested 637. Please try again in 1m35.3516s. Need more tokens? Upgrade to Dev Tier today at https://console.groq.com/settings/billing', 'type': 'tokens', 'code': 'rate_limit_exceeded'}}\n",
      "[Attempt 3] Error: Error code: 429 - {'error': {'message': 'Rate limit reached for model `llama3-70b-8192` in organization `org_01k1gtn3fcfkw95b53fvs24h2z` service tier `on_demand` on tokens per day (TPD): Limit 500000, Used 499908, Requested 637. Please try again in 1m34.090599999s. Need more tokens? Upgrade to Dev Tier today at https://console.groq.com/settings/billing', 'type': 'tokens', 'code': 'rate_limit_exceeded'}}\n",
      "[Attempt 1] Error: Error code: 429 - {'error': {'message': 'Rate limit reached for model `llama3-70b-8192` in organization `org_01k1gtn3fcfkw95b53fvs24h2z` service tier `on_demand` on tokens per day (TPD): Limit 500000, Used 499901, Requested 637. Please try again in 1m32.8976s. Need more tokens? Upgrade to Dev Tier today at https://console.groq.com/settings/billing', 'type': 'tokens', 'code': 'rate_limit_exceeded'}}\n",
      "[Attempt 2] Error: Error code: 429 - {'error': {'message': 'Rate limit reached for model `llama3-70b-8192` in organization `org_01k1gtn3fcfkw95b53fvs24h2z` service tier `on_demand` on tokens per day (TPD): Limit 500000, Used 499894, Requested 637. Please try again in 1m31.6676s. Need more tokens? Upgrade to Dev Tier today at https://console.groq.com/settings/billing', 'type': 'tokens', 'code': 'rate_limit_exceeded'}}\n",
      "[Attempt 3] Error: Error code: 429 - {'error': {'message': 'Rate limit reached for model `llama3-70b-8192` in organization `org_01k1gtn3fcfkw95b53fvs24h2z` service tier `on_demand` on tokens per day (TPD): Limit 500000, Used 499887, Requested 637. Please try again in 1m30.426599999s. Need more tokens? Upgrade to Dev Tier today at https://console.groq.com/settings/billing', 'type': 'tokens', 'code': 'rate_limit_exceeded'}}\n",
      "[Attempt 1] Error: Error code: 429 - {'error': {'message': 'Rate limit reached for model `llama3-70b-8192` in organization `org_01k1gtn3fcfkw95b53fvs24h2z` service tier `on_demand` on tokens per day (TPD): Limit 500000, Used 499880, Requested 637. Please try again in 1m29.1876s. Need more tokens? Upgrade to Dev Tier today at https://console.groq.com/settings/billing', 'type': 'tokens', 'code': 'rate_limit_exceeded'}}\n",
      "[Attempt 2] Error: Error code: 429 - {'error': {'message': 'Rate limit reached for model `llama3-70b-8192` in organization `org_01k1gtn3fcfkw95b53fvs24h2z` service tier `on_demand` on tokens per day (TPD): Limit 500000, Used 499873, Requested 637. Please try again in 1m27.9656s. Need more tokens? Upgrade to Dev Tier today at https://console.groq.com/settings/billing', 'type': 'tokens', 'code': 'rate_limit_exceeded'}}\n",
      "[Attempt 3] Error: Error code: 429 - {'error': {'message': 'Rate limit reached for model `llama3-70b-8192` in organization `org_01k1gtn3fcfkw95b53fvs24h2z` service tier `on_demand` on tokens per day (TPD): Limit 500000, Used 499866, Requested 637. Please try again in 1m26.7766s. Need more tokens? Upgrade to Dev Tier today at https://console.groq.com/settings/billing', 'type': 'tokens', 'code': 'rate_limit_exceeded'}}\n",
      "[Attempt 1] Error: Error code: 429 - {'error': {'message': 'Rate limit reached for model `llama3-70b-8192` in organization `org_01k1gtn3fcfkw95b53fvs24h2z` service tier `on_demand` on tokens per day (TPD): Limit 500000, Used 499859, Requested 637. Please try again in 1m25.574599999s. Need more tokens? Upgrade to Dev Tier today at https://console.groq.com/settings/billing', 'type': 'tokens', 'code': 'rate_limit_exceeded'}}\n",
      "[Attempt 2] Error: Error code: 429 - {'error': {'message': 'Rate limit reached for model `llama3-70b-8192` in organization `org_01k1gtn3fcfkw95b53fvs24h2z` service tier `on_demand` on tokens per day (TPD): Limit 500000, Used 499852, Requested 637. Please try again in 1m24.351599999s. Need more tokens? Upgrade to Dev Tier today at https://console.groq.com/settings/billing', 'type': 'tokens', 'code': 'rate_limit_exceeded'}}\n",
      "[Attempt 3] Error: Error code: 429 - {'error': {'message': 'Rate limit reached for model `llama3-70b-8192` in organization `org_01k1gtn3fcfkw95b53fvs24h2z` service tier `on_demand` on tokens per day (TPD): Limit 500000, Used 499844, Requested 637. Please try again in 1m23.059599999s. Need more tokens? Upgrade to Dev Tier today at https://console.groq.com/settings/billing', 'type': 'tokens', 'code': 'rate_limit_exceeded'}}\n",
      "[Attempt 1] Error: Error code: 429 - {'error': {'message': 'Rate limit reached for model `llama3-70b-8192` in organization `org_01k1gtn3fcfkw95b53fvs24h2z` service tier `on_demand` on tokens per day (TPD): Limit 500000, Used 499837, Requested 637. Please try again in 1m21.8226s. Need more tokens? Upgrade to Dev Tier today at https://console.groq.com/settings/billing', 'type': 'tokens', 'code': 'rate_limit_exceeded'}}\n",
      "[Attempt 2] Error: Error code: 429 - {'error': {'message': 'Rate limit reached for model `llama3-70b-8192` in organization `org_01k1gtn3fcfkw95b53fvs24h2z` service tier `on_demand` on tokens per day (TPD): Limit 500000, Used 499830, Requested 637. Please try again in 1m20.6096s. Need more tokens? Upgrade to Dev Tier today at https://console.groq.com/settings/billing', 'type': 'tokens', 'code': 'rate_limit_exceeded'}}\n",
      "[Attempt 3] Error: Error code: 429 - {'error': {'message': 'Rate limit reached for model `llama3-70b-8192` in organization `org_01k1gtn3fcfkw95b53fvs24h2z` service tier `on_demand` on tokens per day (TPD): Limit 500000, Used 499823, Requested 637. Please try again in 1m19.3716s. Need more tokens? Upgrade to Dev Tier today at https://console.groq.com/settings/billing', 'type': 'tokens', 'code': 'rate_limit_exceeded'}}\n"
     ]
    },
    {
     "name": "stderr",
     "output_type": "stream",
     "text": [
      " 22%|██▏       | 11/50 [06:30<16:18, 25.10s/it]"
     ]
    },
    {
     "name": "stdout",
     "output_type": "stream",
     "text": [
      "\n",
      "[10] GT: 366 | Votes: [] | Majority: N/A\n",
      "[Attempt 1] Error: Error code: 429 - {'error': {'message': 'Rate limit reached for model `llama3-70b-8192` in organization `org_01k1gtn3fcfkw95b53fvs24h2z` service tier `on_demand` on tokens per day (TPD): Limit 500000, Used 499816, Requested 629. Please try again in 1m16.7622s. Need more tokens? Upgrade to Dev Tier today at https://console.groq.com/settings/billing', 'type': 'tokens', 'code': 'rate_limit_exceeded'}}\n",
      "[Attempt 2] Error: Error code: 429 - {'error': {'message': 'Rate limit reached for model `llama3-70b-8192` in organization `org_01k1gtn3fcfkw95b53fvs24h2z` service tier `on_demand` on tokens per day (TPD): Limit 500000, Used 499809, Requested 629. Please try again in 1m15.5352s. Need more tokens? Upgrade to Dev Tier today at https://console.groq.com/settings/billing', 'type': 'tokens', 'code': 'rate_limit_exceeded'}}\n",
      "[Attempt 3] Error: Error code: 429 - {'error': {'message': 'Rate limit reached for model `llama3-70b-8192` in organization `org_01k1gtn3fcfkw95b53fvs24h2z` service tier `on_demand` on tokens per day (TPD): Limit 500000, Used 499802, Requested 629. Please try again in 1m14.3162s. Need more tokens? Upgrade to Dev Tier today at https://console.groq.com/settings/billing', 'type': 'tokens', 'code': 'rate_limit_exceeded'}}\n",
      "[Attempt 1] Error: Error code: 429 - {'error': {'message': 'Rate limit reached for model `llama3-70b-8192` in organization `org_01k1gtn3fcfkw95b53fvs24h2z` service tier `on_demand` on tokens per day (TPD): Limit 500000, Used 499794, Requested 629. Please try again in 1m13.0802s. Need more tokens? Upgrade to Dev Tier today at https://console.groq.com/settings/billing', 'type': 'tokens', 'code': 'rate_limit_exceeded'}}\n",
      "[Attempt 2] Error: Error code: 429 - {'error': {'message': 'Rate limit reached for model `llama3-70b-8192` in organization `org_01k1gtn3fcfkw95b53fvs24h2z` service tier `on_demand` on tokens per day (TPD): Limit 500000, Used 499787, Requested 629. Please try again in 1m11.8522s. Need more tokens? Upgrade to Dev Tier today at https://console.groq.com/settings/billing', 'type': 'tokens', 'code': 'rate_limit_exceeded'}}\n",
      "[Attempt 3] Error: Error code: 429 - {'error': {'message': 'Rate limit reached for model `llama3-70b-8192` in organization `org_01k1gtn3fcfkw95b53fvs24h2z` service tier `on_demand` on tokens per day (TPD): Limit 500000, Used 499780, Requested 629. Please try again in 1m10.6602s. Need more tokens? Upgrade to Dev Tier today at https://console.groq.com/settings/billing', 'type': 'tokens', 'code': 'rate_limit_exceeded'}}\n",
      "[Attempt 1] Error: Error code: 429 - {'error': {'message': 'Rate limit reached for model `llama3-70b-8192` in organization `org_01k1gtn3fcfkw95b53fvs24h2z` service tier `on_demand` on tokens per day (TPD): Limit 500000, Used 499773, Requested 629. Please try again in 1m9.4532s. Need more tokens? Upgrade to Dev Tier today at https://console.groq.com/settings/billing', 'type': 'tokens', 'code': 'rate_limit_exceeded'}}\n",
      "[Attempt 2] Error: Error code: 429 - {'error': {'message': 'Rate limit reached for model `llama3-70b-8192` in organization `org_01k1gtn3fcfkw95b53fvs24h2z` service tier `on_demand` on tokens per day (TPD): Limit 500000, Used 499766, Requested 629. Please try again in 1m8.1292s. Need more tokens? Upgrade to Dev Tier today at https://console.groq.com/settings/billing', 'type': 'tokens', 'code': 'rate_limit_exceeded'}}\n",
      "[Attempt 3] Error: Error code: 429 - {'error': {'message': 'Rate limit reached for model `llama3-70b-8192` in organization `org_01k1gtn3fcfkw95b53fvs24h2z` service tier `on_demand` on tokens per day (TPD): Limit 500000, Used 499759, Requested 629. Please try again in 1m6.9162s. Need more tokens? Upgrade to Dev Tier today at https://console.groq.com/settings/billing', 'type': 'tokens', 'code': 'rate_limit_exceeded'}}\n",
      "[Attempt 1] Error: Error code: 429 - {'error': {'message': 'Rate limit reached for model `llama3-70b-8192` in organization `org_01k1gtn3fcfkw95b53fvs24h2z` service tier `on_demand` on tokens per day (TPD): Limit 500000, Used 499752, Requested 629. Please try again in 1m5.715199999s. Need more tokens? Upgrade to Dev Tier today at https://console.groq.com/settings/billing', 'type': 'tokens', 'code': 'rate_limit_exceeded'}}\n",
      "[Attempt 2] Error: Error code: 429 - {'error': {'message': 'Rate limit reached for model `llama3-70b-8192` in organization `org_01k1gtn3fcfkw95b53fvs24h2z` service tier `on_demand` on tokens per day (TPD): Limit 500000, Used 499745, Requested 629. Please try again in 1m4.4582s. Need more tokens? Upgrade to Dev Tier today at https://console.groq.com/settings/billing', 'type': 'tokens', 'code': 'rate_limit_exceeded'}}\n",
      "[Attempt 3] Error: Error code: 429 - {'error': {'message': 'Rate limit reached for model `llama3-70b-8192` in organization `org_01k1gtn3fcfkw95b53fvs24h2z` service tier `on_demand` on tokens per day (TPD): Limit 500000, Used 499738, Requested 629. Please try again in 1m3.2452s. Need more tokens? Upgrade to Dev Tier today at https://console.groq.com/settings/billing', 'type': 'tokens', 'code': 'rate_limit_exceeded'}}\n",
      "[Attempt 1] Error: Error code: 429 - {'error': {'message': 'Rate limit reached for model `llama3-70b-8192` in organization `org_01k1gtn3fcfkw95b53fvs24h2z` service tier `on_demand` on tokens per day (TPD): Limit 500000, Used 499730, Requested 629. Please try again in 1m2.0242s. Need more tokens? Upgrade to Dev Tier today at https://console.groq.com/settings/billing', 'type': 'tokens', 'code': 'rate_limit_exceeded'}}\n",
      "[Attempt 2] Error: Error code: 429 - {'error': {'message': 'Rate limit reached for model `llama3-70b-8192` in organization `org_01k1gtn3fcfkw95b53fvs24h2z` service tier `on_demand` on tokens per day (TPD): Limit 500000, Used 499723, Requested 629. Please try again in 1m0.7922s. Need more tokens? Upgrade to Dev Tier today at https://console.groq.com/settings/billing', 'type': 'tokens', 'code': 'rate_limit_exceeded'}}\n"
     ]
    },
    {
     "name": "stderr",
     "output_type": "stream",
     "text": [
      " 24%|██▍       | 12/50 [07:51<26:31, 41.89s/it]"
     ]
    },
    {
     "name": "stdout",
     "output_type": "stream",
     "text": [
      "\n",
      "[11] GT: 694 | Votes: ['694'] | Majority: 694\n",
      "[Attempt 1] Error: Error code: 429 - {'error': {'message': 'Rate limit reached for model `llama3-70b-8192` in organization `org_01k1gtn3fcfkw95b53fvs24h2z` service tier `on_demand` on tokens per day (TPD): Limit 500000, Used 500266, Requested 634. Please try again in 2m35.653599999s. Need more tokens? Upgrade to Dev Tier today at https://console.groq.com/settings/billing', 'type': 'tokens', 'code': 'rate_limit_exceeded'}}\n",
      "[Attempt 2] Error: Error code: 429 - {'error': {'message': 'Rate limit reached for model `llama3-70b-8192` in organization `org_01k1gtn3fcfkw95b53fvs24h2z` service tier `on_demand` on tokens per day (TPD): Limit 500000, Used 500259, Requested 634. Please try again in 2m34.3866s. Need more tokens? Upgrade to Dev Tier today at https://console.groq.com/settings/billing', 'type': 'tokens', 'code': 'rate_limit_exceeded'}}\n",
      "[Attempt 3] Error: Error code: 429 - {'error': {'message': 'Rate limit reached for model `llama3-70b-8192` in organization `org_01k1gtn3fcfkw95b53fvs24h2z` service tier `on_demand` on tokens per day (TPD): Limit 500000, Used 500252, Requested 634. Please try again in 2m33.1196s. Need more tokens? Upgrade to Dev Tier today at https://console.groq.com/settings/billing', 'type': 'tokens', 'code': 'rate_limit_exceeded'}}\n",
      "[Attempt 1] Error: Error code: 429 - {'error': {'message': 'Rate limit reached for model `llama3-70b-8192` in organization `org_01k1gtn3fcfkw95b53fvs24h2z` service tier `on_demand` on tokens per day (TPD): Limit 500000, Used 500244, Requested 634. Please try again in 2m31.849599999s. Need more tokens? Upgrade to Dev Tier today at https://console.groq.com/settings/billing', 'type': 'tokens', 'code': 'rate_limit_exceeded'}}\n",
      "[Attempt 2] Error: Error code: 429 - {'error': {'message': 'Rate limit reached for model `llama3-70b-8192` in organization `org_01k1gtn3fcfkw95b53fvs24h2z` service tier `on_demand` on tokens per day (TPD): Limit 500000, Used 500237, Requested 634. Please try again in 2m30.6456s. Need more tokens? Upgrade to Dev Tier today at https://console.groq.com/settings/billing', 'type': 'tokens', 'code': 'rate_limit_exceeded'}}\n",
      "[Attempt 3] Error: Error code: 429 - {'error': {'message': 'Rate limit reached for model `llama3-70b-8192` in organization `org_01k1gtn3fcfkw95b53fvs24h2z` service tier `on_demand` on tokens per day (TPD): Limit 500000, Used 500230, Requested 634. Please try again in 2m29.4356s. Need more tokens? Upgrade to Dev Tier today at https://console.groq.com/settings/billing', 'type': 'tokens', 'code': 'rate_limit_exceeded'}}\n",
      "[Attempt 1] Error: Error code: 429 - {'error': {'message': 'Rate limit reached for model `llama3-70b-8192` in organization `org_01k1gtn3fcfkw95b53fvs24h2z` service tier `on_demand` on tokens per day (TPD): Limit 500000, Used 500223, Requested 634. Please try again in 2m28.2316s. Need more tokens? Upgrade to Dev Tier today at https://console.groq.com/settings/billing', 'type': 'tokens', 'code': 'rate_limit_exceeded'}}\n",
      "[Attempt 2] Error: Error code: 429 - {'error': {'message': 'Rate limit reached for model `llama3-70b-8192` in organization `org_01k1gtn3fcfkw95b53fvs24h2z` service tier `on_demand` on tokens per day (TPD): Limit 500000, Used 500216, Requested 634. Please try again in 2m26.9436s. Need more tokens? Upgrade to Dev Tier today at https://console.groq.com/settings/billing', 'type': 'tokens', 'code': 'rate_limit_exceeded'}}\n",
      "[Attempt 3] Error: Error code: 429 - {'error': {'message': 'Rate limit reached for model `llama3-70b-8192` in organization `org_01k1gtn3fcfkw95b53fvs24h2z` service tier `on_demand` on tokens per day (TPD): Limit 500000, Used 500209, Requested 634. Please try again in 2m25.7046s. Need more tokens? Upgrade to Dev Tier today at https://console.groq.com/settings/billing', 'type': 'tokens', 'code': 'rate_limit_exceeded'}}\n",
      "[Attempt 1] Error: Error code: 429 - {'error': {'message': 'Rate limit reached for model `llama3-70b-8192` in organization `org_01k1gtn3fcfkw95b53fvs24h2z` service tier `on_demand` on tokens per day (TPD): Limit 500000, Used 500201, Requested 634. Please try again in 2m24.3826s. Need more tokens? Upgrade to Dev Tier today at https://console.groq.com/settings/billing', 'type': 'tokens', 'code': 'rate_limit_exceeded'}}\n",
      "[Attempt 2] Error: Error code: 429 - {'error': {'message': 'Rate limit reached for model `llama3-70b-8192` in organization `org_01k1gtn3fcfkw95b53fvs24h2z` service tier `on_demand` on tokens per day (TPD): Limit 500000, Used 500194, Requested 634. Please try again in 2m23.1796s. Need more tokens? Upgrade to Dev Tier today at https://console.groq.com/settings/billing', 'type': 'tokens', 'code': 'rate_limit_exceeded'}}\n",
      "[Attempt 3] Error: Error code: 429 - {'error': {'message': 'Rate limit reached for model `llama3-70b-8192` in organization `org_01k1gtn3fcfkw95b53fvs24h2z` service tier `on_demand` on tokens per day (TPD): Limit 500000, Used 500187, Requested 634. Please try again in 2m21.9196s. Need more tokens? Upgrade to Dev Tier today at https://console.groq.com/settings/billing', 'type': 'tokens', 'code': 'rate_limit_exceeded'}}\n",
      "[Attempt 1] Error: Error code: 429 - {'error': {'message': 'Rate limit reached for model `llama3-70b-8192` in organization `org_01k1gtn3fcfkw95b53fvs24h2z` service tier `on_demand` on tokens per day (TPD): Limit 500000, Used 500180, Requested 634. Please try again in 2m20.7276s. Need more tokens? Upgrade to Dev Tier today at https://console.groq.com/settings/billing', 'type': 'tokens', 'code': 'rate_limit_exceeded'}}\n",
      "[Attempt 2] Error: Error code: 429 - {'error': {'message': 'Rate limit reached for model `llama3-70b-8192` in organization `org_01k1gtn3fcfkw95b53fvs24h2z` service tier `on_demand` on tokens per day (TPD): Limit 500000, Used 500173, Requested 634. Please try again in 2m19.4606s. Need more tokens? Upgrade to Dev Tier today at https://console.groq.com/settings/billing', 'type': 'tokens', 'code': 'rate_limit_exceeded'}}\n",
      "[Attempt 3] Error: Error code: 429 - {'error': {'message': 'Rate limit reached for model `llama3-70b-8192` in organization `org_01k1gtn3fcfkw95b53fvs24h2z` service tier `on_demand` on tokens per day (TPD): Limit 500000, Used 500166, Requested 634. Please try again in 2m18.2696s. Need more tokens? Upgrade to Dev Tier today at https://console.groq.com/settings/billing', 'type': 'tokens', 'code': 'rate_limit_exceeded'}}\n"
     ]
    },
    {
     "name": "stderr",
     "output_type": "stream",
     "text": [
      " 26%|██▌       | 13/50 [08:10<21:34, 34.98s/it]"
     ]
    },
    {
     "name": "stdout",
     "output_type": "stream",
     "text": [
      "\n",
      "[12] GT: 13 | Votes: [] | Majority: N/A\n",
      "[Attempt 1] Error: Error code: 429 - {'error': {'message': 'Rate limit reached for model `llama3-70b-8192` in organization `org_01k1gtn3fcfkw95b53fvs24h2z` service tier `on_demand` on tokens per day (TPD): Limit 500000, Used 500159, Requested 629. Please try again in 2m16.1856s. Need more tokens? Upgrade to Dev Tier today at https://console.groq.com/settings/billing', 'type': 'tokens', 'code': 'rate_limit_exceeded'}}\n",
      "[Attempt 2] Error: Error code: 429 - {'error': {'message': 'Rate limit reached for model `llama3-70b-8192` in organization `org_01k1gtn3fcfkw95b53fvs24h2z` service tier `on_demand` on tokens per day (TPD): Limit 500000, Used 500152, Requested 629. Please try again in 2m14.9786s. Need more tokens? Upgrade to Dev Tier today at https://console.groq.com/settings/billing', 'type': 'tokens', 'code': 'rate_limit_exceeded'}}\n",
      "[Attempt 3] Error: Error code: 429 - {'error': {'message': 'Rate limit reached for model `llama3-70b-8192` in organization `org_01k1gtn3fcfkw95b53fvs24h2z` service tier `on_demand` on tokens per day (TPD): Limit 500000, Used 500145, Requested 629. Please try again in 2m13.749599999s. Need more tokens? Upgrade to Dev Tier today at https://console.groq.com/settings/billing', 'type': 'tokens', 'code': 'rate_limit_exceeded'}}\n",
      "[Attempt 1] Error: Error code: 429 - {'error': {'message': 'Rate limit reached for model `llama3-70b-8192` in organization `org_01k1gtn3fcfkw95b53fvs24h2z` service tier `on_demand` on tokens per day (TPD): Limit 500000, Used 500137, Requested 629. Please try again in 2m12.510599999s. Need more tokens? Upgrade to Dev Tier today at https://console.groq.com/settings/billing', 'type': 'tokens', 'code': 'rate_limit_exceeded'}}\n",
      "[Attempt 2] Error: Error code: 429 - {'error': {'message': 'Rate limit reached for model `llama3-70b-8192` in organization `org_01k1gtn3fcfkw95b53fvs24h2z` service tier `on_demand` on tokens per day (TPD): Limit 500000, Used 500130, Requested 629. Please try again in 2m11.2396s. Need more tokens? Upgrade to Dev Tier today at https://console.groq.com/settings/billing', 'type': 'tokens', 'code': 'rate_limit_exceeded'}}\n",
      "[Attempt 3] Error: Error code: 429 - {'error': {'message': 'Rate limit reached for model `llama3-70b-8192` in organization `org_01k1gtn3fcfkw95b53fvs24h2z` service tier `on_demand` on tokens per day (TPD): Limit 500000, Used 500123, Requested 629. Please try again in 2m10.0426s. Need more tokens? Upgrade to Dev Tier today at https://console.groq.com/settings/billing', 'type': 'tokens', 'code': 'rate_limit_exceeded'}}\n",
      "[Attempt 1] Error: Error code: 429 - {'error': {'message': 'Rate limit reached for model `llama3-70b-8192` in organization `org_01k1gtn3fcfkw95b53fvs24h2z` service tier `on_demand` on tokens per day (TPD): Limit 500000, Used 500116, Requested 629. Please try again in 2m8.8126s. Need more tokens? Upgrade to Dev Tier today at https://console.groq.com/settings/billing', 'type': 'tokens', 'code': 'rate_limit_exceeded'}}\n",
      "[Attempt 2] Error: Error code: 429 - {'error': {'message': 'Rate limit reached for model `llama3-70b-8192` in organization `org_01k1gtn3fcfkw95b53fvs24h2z` service tier `on_demand` on tokens per day (TPD): Limit 500000, Used 500109, Requested 629. Please try again in 2m7.5346s. Need more tokens? Upgrade to Dev Tier today at https://console.groq.com/settings/billing', 'type': 'tokens', 'code': 'rate_limit_exceeded'}}\n",
      "[Attempt 3] Error: Error code: 429 - {'error': {'message': 'Rate limit reached for model `llama3-70b-8192` in organization `org_01k1gtn3fcfkw95b53fvs24h2z` service tier `on_demand` on tokens per day (TPD): Limit 500000, Used 500102, Requested 629. Please try again in 2m6.3246s. Need more tokens? Upgrade to Dev Tier today at https://console.groq.com/settings/billing', 'type': 'tokens', 'code': 'rate_limit_exceeded'}}\n",
      "[Attempt 1] Error: Error code: 429 - {'error': {'message': 'Rate limit reached for model `llama3-70b-8192` in organization `org_01k1gtn3fcfkw95b53fvs24h2z` service tier `on_demand` on tokens per day (TPD): Limit 500000, Used 500094, Requested 629. Please try again in 2m5.0876s. Need more tokens? Upgrade to Dev Tier today at https://console.groq.com/settings/billing', 'type': 'tokens', 'code': 'rate_limit_exceeded'}}\n",
      "[Attempt 2] Error: Error code: 429 - {'error': {'message': 'Rate limit reached for model `llama3-70b-8192` in organization `org_01k1gtn3fcfkw95b53fvs24h2z` service tier `on_demand` on tokens per day (TPD): Limit 500000, Used 500085, Requested 629. Please try again in 2m3.4036s. Need more tokens? Upgrade to Dev Tier today at https://console.groq.com/settings/billing', 'type': 'tokens', 'code': 'rate_limit_exceeded'}}\n",
      "[Attempt 3] Error: Error code: 429 - {'error': {'message': 'Rate limit reached for model `llama3-70b-8192` in organization `org_01k1gtn3fcfkw95b53fvs24h2z` service tier `on_demand` on tokens per day (TPD): Limit 500000, Used 500077, Requested 629. Please try again in 2m2.1206s. Need more tokens? Upgrade to Dev Tier today at https://console.groq.com/settings/billing', 'type': 'tokens', 'code': 'rate_limit_exceeded'}}\n",
      "[Attempt 1] Error: Error code: 429 - {'error': {'message': 'Rate limit reached for model `llama3-70b-8192` in organization `org_01k1gtn3fcfkw95b53fvs24h2z` service tier `on_demand` on tokens per day (TPD): Limit 500000, Used 500070, Requested 629. Please try again in 2m0.880599999s. Need more tokens? Upgrade to Dev Tier today at https://console.groq.com/settings/billing', 'type': 'tokens', 'code': 'rate_limit_exceeded'}}\n",
      "[Attempt 2] Error: Error code: 429 - {'error': {'message': 'Rate limit reached for model `llama3-70b-8192` in organization `org_01k1gtn3fcfkw95b53fvs24h2z` service tier `on_demand` on tokens per day (TPD): Limit 500000, Used 500063, Requested 629. Please try again in 1m59.6536s. Need more tokens? Upgrade to Dev Tier today at https://console.groq.com/settings/billing', 'type': 'tokens', 'code': 'rate_limit_exceeded'}}\n",
      "[Attempt 3] Error: Error code: 429 - {'error': {'message': 'Rate limit reached for model `llama3-70b-8192` in organization `org_01k1gtn3fcfkw95b53fvs24h2z` service tier `on_demand` on tokens per day (TPD): Limit 500000, Used 500056, Requested 629. Please try again in 1m58.4656s. Need more tokens? Upgrade to Dev Tier today at https://console.groq.com/settings/billing', 'type': 'tokens', 'code': 'rate_limit_exceeded'}}\n"
     ]
    },
    {
     "name": "stderr",
     "output_type": "stream",
     "text": [
      " 28%|██▊       | 14/50 [08:29<18:09, 30.27s/it]"
     ]
    },
    {
     "name": "stdout",
     "output_type": "stream",
     "text": [
      "\n",
      "[13] GT: 18 | Votes: [] | Majority: N/A\n",
      "[Attempt 1] Error: Error code: 429 - {'error': {'message': 'Rate limit reached for model `llama3-70b-8192` in organization `org_01k1gtn3fcfkw95b53fvs24h2z` service tier `on_demand` on tokens per day (TPD): Limit 500000, Used 500049, Requested 624. Please try again in 1m56.3386s. Need more tokens? Upgrade to Dev Tier today at https://console.groq.com/settings/billing', 'type': 'tokens', 'code': 'rate_limit_exceeded'}}\n",
      "[Attempt 2] Error: Error code: 429 - {'error': {'message': 'Rate limit reached for model `llama3-70b-8192` in organization `org_01k1gtn3fcfkw95b53fvs24h2z` service tier `on_demand` on tokens per day (TPD): Limit 500000, Used 500042, Requested 624. Please try again in 1m55.1466s. Need more tokens? Upgrade to Dev Tier today at https://console.groq.com/settings/billing', 'type': 'tokens', 'code': 'rate_limit_exceeded'}}\n",
      "[Attempt 3] Error: Error code: 429 - {'error': {'message': 'Rate limit reached for model `llama3-70b-8192` in organization `org_01k1gtn3fcfkw95b53fvs24h2z` service tier `on_demand` on tokens per day (TPD): Limit 500000, Used 500034, Requested 624. Please try again in 1m53.8546s. Need more tokens? Upgrade to Dev Tier today at https://console.groq.com/settings/billing', 'type': 'tokens', 'code': 'rate_limit_exceeded'}}\n",
      "[Attempt 1] Error: Error code: 429 - {'error': {'message': 'Rate limit reached for model `llama3-70b-8192` in organization `org_01k1gtn3fcfkw95b53fvs24h2z` service tier `on_demand` on tokens per day (TPD): Limit 500000, Used 500027, Requested 624. Please try again in 1m52.5406s. Need more tokens? Upgrade to Dev Tier today at https://console.groq.com/settings/billing', 'type': 'tokens', 'code': 'rate_limit_exceeded'}}\n",
      "[Attempt 2] Error: Error code: 429 - {'error': {'message': 'Rate limit reached for model `llama3-70b-8192` in organization `org_01k1gtn3fcfkw95b53fvs24h2z` service tier `on_demand` on tokens per day (TPD): Limit 500000, Used 500020, Requested 624. Please try again in 1m51.3126s. Need more tokens? Upgrade to Dev Tier today at https://console.groq.com/settings/billing', 'type': 'tokens', 'code': 'rate_limit_exceeded'}}\n",
      "[Attempt 3] Error: Error code: 429 - {'error': {'message': 'Rate limit reached for model `llama3-70b-8192` in organization `org_01k1gtn3fcfkw95b53fvs24h2z` service tier `on_demand` on tokens per day (TPD): Limit 500000, Used 500013, Requested 624. Please try again in 1m50.090599999s. Need more tokens? Upgrade to Dev Tier today at https://console.groq.com/settings/billing', 'type': 'tokens', 'code': 'rate_limit_exceeded'}}\n",
      "[Attempt 1] Error: Error code: 429 - {'error': {'message': 'Rate limit reached for model `llama3-70b-8192` in organization `org_01k1gtn3fcfkw95b53fvs24h2z` service tier `on_demand` on tokens per day (TPD): Limit 500000, Used 500005, Requested 624. Please try again in 1m48.859599999s. Need more tokens? Upgrade to Dev Tier today at https://console.groq.com/settings/billing', 'type': 'tokens', 'code': 'rate_limit_exceeded'}}\n",
      "[Attempt 2] Error: Error code: 429 - {'error': {'message': 'Rate limit reached for model `llama3-70b-8192` in organization `org_01k1gtn3fcfkw95b53fvs24h2z` service tier `on_demand` on tokens per day (TPD): Limit 500000, Used 499999, Requested 624. Please try again in 1m47.6376s. Need more tokens? Upgrade to Dev Tier today at https://console.groq.com/settings/billing', 'type': 'tokens', 'code': 'rate_limit_exceeded'}}\n",
      "[Attempt 3] Error: Error code: 429 - {'error': {'message': 'Rate limit reached for model `llama3-70b-8192` in organization `org_01k1gtn3fcfkw95b53fvs24h2z` service tier `on_demand` on tokens per day (TPD): Limit 500000, Used 499992, Requested 624. Please try again in 1m46.443599999s. Need more tokens? Upgrade to Dev Tier today at https://console.groq.com/settings/billing', 'type': 'tokens', 'code': 'rate_limit_exceeded'}}\n",
      "[Attempt 1] Error: Error code: 429 - {'error': {'message': 'Rate limit reached for model `llama3-70b-8192` in organization `org_01k1gtn3fcfkw95b53fvs24h2z` service tier `on_demand` on tokens per day (TPD): Limit 500000, Used 499986, Requested 624. Please try again in 1m45.259599999s. Need more tokens? Upgrade to Dev Tier today at https://console.groq.com/settings/billing', 'type': 'tokens', 'code': 'rate_limit_exceeded'}}\n",
      "[Attempt 2] Error: Error code: 429 - {'error': {'message': 'Rate limit reached for model `llama3-70b-8192` in organization `org_01k1gtn3fcfkw95b53fvs24h2z` service tier `on_demand` on tokens per day (TPD): Limit 500000, Used 499979, Requested 624. Please try again in 1m44.0726s. Need more tokens? Upgrade to Dev Tier today at https://console.groq.com/settings/billing', 'type': 'tokens', 'code': 'rate_limit_exceeded'}}\n",
      "[Attempt 3] Error: Error code: 429 - {'error': {'message': 'Rate limit reached for model `llama3-70b-8192` in organization `org_01k1gtn3fcfkw95b53fvs24h2z` service tier `on_demand` on tokens per day (TPD): Limit 500000, Used 499972, Requested 624. Please try again in 1m42.824599999s. Need more tokens? Upgrade to Dev Tier today at https://console.groq.com/settings/billing', 'type': 'tokens', 'code': 'rate_limit_exceeded'}}\n",
      "[Attempt 1] Error: Error code: 429 - {'error': {'message': 'Rate limit reached for model `llama3-70b-8192` in organization `org_01k1gtn3fcfkw95b53fvs24h2z` service tier `on_demand` on tokens per day (TPD): Limit 500000, Used 499964, Requested 624. Please try again in 1m41.6056s. Need more tokens? Upgrade to Dev Tier today at https://console.groq.com/settings/billing', 'type': 'tokens', 'code': 'rate_limit_exceeded'}}\n",
      "[Attempt 2] Error: Error code: 429 - {'error': {'message': 'Rate limit reached for model `llama3-70b-8192` in organization `org_01k1gtn3fcfkw95b53fvs24h2z` service tier `on_demand` on tokens per day (TPD): Limit 500000, Used 499957, Requested 624. Please try again in 1m40.370599999s. Need more tokens? Upgrade to Dev Tier today at https://console.groq.com/settings/billing', 'type': 'tokens', 'code': 'rate_limit_exceeded'}}\n",
      "[Attempt 3] Error: Error code: 429 - {'error': {'message': 'Rate limit reached for model `llama3-70b-8192` in organization `org_01k1gtn3fcfkw95b53fvs24h2z` service tier `on_demand` on tokens per day (TPD): Limit 500000, Used 499950, Requested 624. Please try again in 1m39.1806s. Need more tokens? Upgrade to Dev Tier today at https://console.groq.com/settings/billing', 'type': 'tokens', 'code': 'rate_limit_exceeded'}}\n"
     ]
    },
    {
     "name": "stderr",
     "output_type": "stream",
     "text": [
      " 30%|███       | 15/50 [08:47<15:27, 26.51s/it]"
     ]
    },
    {
     "name": "stdout",
     "output_type": "stream",
     "text": [
      "\n",
      "[14] GT: 60 | Votes: [] | Majority: N/A\n",
      "[Attempt 1] Error: Error code: 429 - {'error': {'message': 'Rate limit reached for model `llama3-70b-8192` in organization `org_01k1gtn3fcfkw95b53fvs24h2z` service tier `on_demand` on tokens per day (TPD): Limit 500000, Used 499943, Requested 669. Please try again in 1m45.7236s. Need more tokens? Upgrade to Dev Tier today at https://console.groq.com/settings/billing', 'type': 'tokens', 'code': 'rate_limit_exceeded'}}\n",
      "[Attempt 2] Error: Error code: 429 - {'error': {'message': 'Rate limit reached for model `llama3-70b-8192` in organization `org_01k1gtn3fcfkw95b53fvs24h2z` service tier `on_demand` on tokens per day (TPD): Limit 500000, Used 499936, Requested 669. Please try again in 1m44.4616s. Need more tokens? Upgrade to Dev Tier today at https://console.groq.com/settings/billing', 'type': 'tokens', 'code': 'rate_limit_exceeded'}}\n",
      "[Attempt 3] Error: Error code: 429 - {'error': {'message': 'Rate limit reached for model `llama3-70b-8192` in organization `org_01k1gtn3fcfkw95b53fvs24h2z` service tier `on_demand` on tokens per day (TPD): Limit 500000, Used 499929, Requested 669. Please try again in 1m43.2286s. Need more tokens? Upgrade to Dev Tier today at https://console.groq.com/settings/billing', 'type': 'tokens', 'code': 'rate_limit_exceeded'}}\n",
      "[Attempt 1] Error: Error code: 429 - {'error': {'message': 'Rate limit reached for model `llama3-70b-8192` in organization `org_01k1gtn3fcfkw95b53fvs24h2z` service tier `on_demand` on tokens per day (TPD): Limit 500000, Used 499922, Requested 669. Please try again in 1m42.0276s. Need more tokens? Upgrade to Dev Tier today at https://console.groq.com/settings/billing', 'type': 'tokens', 'code': 'rate_limit_exceeded'}}\n",
      "[Attempt 2] Error: Error code: 429 - {'error': {'message': 'Rate limit reached for model `llama3-70b-8192` in organization `org_01k1gtn3fcfkw95b53fvs24h2z` service tier `on_demand` on tokens per day (TPD): Limit 500000, Used 499915, Requested 669. Please try again in 1m40.842599999s. Need more tokens? Upgrade to Dev Tier today at https://console.groq.com/settings/billing', 'type': 'tokens', 'code': 'rate_limit_exceeded'}}\n",
      "[Attempt 3] Error: Error code: 429 - {'error': {'message': 'Rate limit reached for model `llama3-70b-8192` in organization `org_01k1gtn3fcfkw95b53fvs24h2z` service tier `on_demand` on tokens per day (TPD): Limit 500000, Used 499908, Requested 669. Please try again in 1m39.595599999s. Need more tokens? Upgrade to Dev Tier today at https://console.groq.com/settings/billing', 'type': 'tokens', 'code': 'rate_limit_exceeded'}}\n",
      "[Attempt 1] Error: Error code: 429 - {'error': {'message': 'Rate limit reached for model `llama3-70b-8192` in organization `org_01k1gtn3fcfkw95b53fvs24h2z` service tier `on_demand` on tokens per day (TPD): Limit 500000, Used 499900, Requested 669. Please try again in 1m38.3036s. Need more tokens? Upgrade to Dev Tier today at https://console.groq.com/settings/billing', 'type': 'tokens', 'code': 'rate_limit_exceeded'}}\n",
      "[Attempt 2] Error: Error code: 429 - {'error': {'message': 'Rate limit reached for model `llama3-70b-8192` in organization `org_01k1gtn3fcfkw95b53fvs24h2z` service tier `on_demand` on tokens per day (TPD): Limit 500000, Used 499893, Requested 669. Please try again in 1m37.041599999s. Need more tokens? Upgrade to Dev Tier today at https://console.groq.com/settings/billing', 'type': 'tokens', 'code': 'rate_limit_exceeded'}}\n",
      "[Attempt 3] Error: Error code: 429 - {'error': {'message': 'Rate limit reached for model `llama3-70b-8192` in organization `org_01k1gtn3fcfkw95b53fvs24h2z` service tier `on_demand` on tokens per day (TPD): Limit 500000, Used 499886, Requested 669. Please try again in 1m35.7906s. Need more tokens? Upgrade to Dev Tier today at https://console.groq.com/settings/billing', 'type': 'tokens', 'code': 'rate_limit_exceeded'}}\n",
      "[Attempt 1] Error: Error code: 429 - {'error': {'message': 'Rate limit reached for model `llama3-70b-8192` in organization `org_01k1gtn3fcfkw95b53fvs24h2z` service tier `on_demand` on tokens per day (TPD): Limit 500000, Used 499879, Requested 669. Please try again in 1m34.5556s. Need more tokens? Upgrade to Dev Tier today at https://console.groq.com/settings/billing', 'type': 'tokens', 'code': 'rate_limit_exceeded'}}\n",
      "[Attempt 2] Error: Error code: 429 - {'error': {'message': 'Rate limit reached for model `llama3-70b-8192` in organization `org_01k1gtn3fcfkw95b53fvs24h2z` service tier `on_demand` on tokens per day (TPD): Limit 500000, Used 499871, Requested 669. Please try again in 1m33.3036s. Need more tokens? Upgrade to Dev Tier today at https://console.groq.com/settings/billing', 'type': 'tokens', 'code': 'rate_limit_exceeded'}}\n",
      "[Attempt 3] Error: Error code: 429 - {'error': {'message': 'Rate limit reached for model `llama3-70b-8192` in organization `org_01k1gtn3fcfkw95b53fvs24h2z` service tier `on_demand` on tokens per day (TPD): Limit 500000, Used 499864, Requested 669. Please try again in 1m32.0966s. Need more tokens? Upgrade to Dev Tier today at https://console.groq.com/settings/billing', 'type': 'tokens', 'code': 'rate_limit_exceeded'}}\n",
      "[Attempt 1] Error: Error code: 429 - {'error': {'message': 'Rate limit reached for model `llama3-70b-8192` in organization `org_01k1gtn3fcfkw95b53fvs24h2z` service tier `on_demand` on tokens per day (TPD): Limit 500000, Used 499857, Requested 669. Please try again in 1m30.779599999s. Need more tokens? Upgrade to Dev Tier today at https://console.groq.com/settings/billing', 'type': 'tokens', 'code': 'rate_limit_exceeded'}}\n",
      "[Attempt 2] Error: Error code: 429 - {'error': {'message': 'Rate limit reached for model `llama3-70b-8192` in organization `org_01k1gtn3fcfkw95b53fvs24h2z` service tier `on_demand` on tokens per day (TPD): Limit 500000, Used 499850, Requested 669. Please try again in 1m29.5576s. Need more tokens? Upgrade to Dev Tier today at https://console.groq.com/settings/billing', 'type': 'tokens', 'code': 'rate_limit_exceeded'}}\n",
      "[Attempt 3] Error: Error code: 429 - {'error': {'message': 'Rate limit reached for model `llama3-70b-8192` in organization `org_01k1gtn3fcfkw95b53fvs24h2z` service tier `on_demand` on tokens per day (TPD): Limit 500000, Used 499842, Requested 669. Please try again in 1m28.2836s. Need more tokens? Upgrade to Dev Tier today at https://console.groq.com/settings/billing', 'type': 'tokens', 'code': 'rate_limit_exceeded'}}\n"
     ]
    },
    {
     "name": "stderr",
     "output_type": "stream",
     "text": [
      " 32%|███▏      | 16/50 [09:06<13:44, 24.26s/it]"
     ]
    },
    {
     "name": "stdout",
     "output_type": "stream",
     "text": [
      "\n",
      "[15] GT: 125 | Votes: [] | Majority: N/A\n",
      "[Attempt 1] Error: Error code: 429 - {'error': {'message': 'Rate limit reached for model `llama3-70b-8192` in organization `org_01k1gtn3fcfkw95b53fvs24h2z` service tier `on_demand` on tokens per day (TPD): Limit 500000, Used 499835, Requested 625. Please try again in 1m19.4864s. Need more tokens? Upgrade to Dev Tier today at https://console.groq.com/settings/billing', 'type': 'tokens', 'code': 'rate_limit_exceeded'}}\n",
      "[Attempt 2] Error: Error code: 429 - {'error': {'message': 'Rate limit reached for model `llama3-70b-8192` in organization `org_01k1gtn3fcfkw95b53fvs24h2z` service tier `on_demand` on tokens per day (TPD): Limit 500000, Used 499828, Requested 625. Please try again in 1m18.2154s. Need more tokens? Upgrade to Dev Tier today at https://console.groq.com/settings/billing', 'type': 'tokens', 'code': 'rate_limit_exceeded'}}\n",
      "[Attempt 3] Error: Error code: 429 - {'error': {'message': 'Rate limit reached for model `llama3-70b-8192` in organization `org_01k1gtn3fcfkw95b53fvs24h2z` service tier `on_demand` on tokens per day (TPD): Limit 500000, Used 499821, Requested 625. Please try again in 1m16.9874s. Need more tokens? Upgrade to Dev Tier today at https://console.groq.com/settings/billing', 'type': 'tokens', 'code': 'rate_limit_exceeded'}}\n",
      "[Attempt 1] Error: Error code: 429 - {'error': {'message': 'Rate limit reached for model `llama3-70b-8192` in organization `org_01k1gtn3fcfkw95b53fvs24h2z` service tier `on_demand` on tokens per day (TPD): Limit 500000, Used 499814, Requested 625. Please try again in 1m15.796399999s. Need more tokens? Upgrade to Dev Tier today at https://console.groq.com/settings/billing', 'type': 'tokens', 'code': 'rate_limit_exceeded'}}\n",
      "[Attempt 2] Error: Error code: 429 - {'error': {'message': 'Rate limit reached for model `llama3-70b-8192` in organization `org_01k1gtn3fcfkw95b53fvs24h2z` service tier `on_demand` on tokens per day (TPD): Limit 500000, Used 499807, Requested 625. Please try again in 1m14.5934s. Need more tokens? Upgrade to Dev Tier today at https://console.groq.com/settings/billing', 'type': 'tokens', 'code': 'rate_limit_exceeded'}}\n",
      "[Attempt 3] Error: Error code: 429 - {'error': {'message': 'Rate limit reached for model `llama3-70b-8192` in organization `org_01k1gtn3fcfkw95b53fvs24h2z` service tier `on_demand` on tokens per day (TPD): Limit 500000, Used 499800, Requested 625. Please try again in 1m13.3954s. Need more tokens? Upgrade to Dev Tier today at https://console.groq.com/settings/billing', 'type': 'tokens', 'code': 'rate_limit_exceeded'}}\n",
      "[Attempt 1] Error: Error code: 429 - {'error': {'message': 'Rate limit reached for model `llama3-70b-8192` in organization `org_01k1gtn3fcfkw95b53fvs24h2z` service tier `on_demand` on tokens per day (TPD): Limit 500000, Used 499793, Requested 625. Please try again in 1m12.177399999s. Need more tokens? Upgrade to Dev Tier today at https://console.groq.com/settings/billing', 'type': 'tokens', 'code': 'rate_limit_exceeded'}}\n",
      "[Attempt 2] Error: Error code: 429 - {'error': {'message': 'Rate limit reached for model `llama3-70b-8192` in organization `org_01k1gtn3fcfkw95b53fvs24h2z` service tier `on_demand` on tokens per day (TPD): Limit 500000, Used 499786, Requested 625. Please try again in 1m10.968399999s. Need more tokens? Upgrade to Dev Tier today at https://console.groq.com/settings/billing', 'type': 'tokens', 'code': 'rate_limit_exceeded'}}\n",
      "[Attempt 3] Error: Error code: 429 - {'error': {'message': 'Rate limit reached for model `llama3-70b-8192` in organization `org_01k1gtn3fcfkw95b53fvs24h2z` service tier `on_demand` on tokens per day (TPD): Limit 500000, Used 499779, Requested 625. Please try again in 1m9.7774s. Need more tokens? Upgrade to Dev Tier today at https://console.groq.com/settings/billing', 'type': 'tokens', 'code': 'rate_limit_exceeded'}}\n",
      "[Attempt 1] Error: Error code: 429 - {'error': {'message': 'Rate limit reached for model `llama3-70b-8192` in organization `org_01k1gtn3fcfkw95b53fvs24h2z` service tier `on_demand` on tokens per day (TPD): Limit 500000, Used 499772, Requested 625. Please try again in 1m8.4894s. Need more tokens? Upgrade to Dev Tier today at https://console.groq.com/settings/billing', 'type': 'tokens', 'code': 'rate_limit_exceeded'}}\n",
      "[Attempt 2] Error: Error code: 429 - {'error': {'message': 'Rate limit reached for model `llama3-70b-8192` in organization `org_01k1gtn3fcfkw95b53fvs24h2z` service tier `on_demand` on tokens per day (TPD): Limit 500000, Used 499765, Requested 625. Please try again in 1m7.3054s. Need more tokens? Upgrade to Dev Tier today at https://console.groq.com/settings/billing', 'type': 'tokens', 'code': 'rate_limit_exceeded'}}\n",
      "[Attempt 3] Error: Error code: 429 - {'error': {'message': 'Rate limit reached for model `llama3-70b-8192` in organization `org_01k1gtn3fcfkw95b53fvs24h2z` service tier `on_demand` on tokens per day (TPD): Limit 500000, Used 499758, Requested 625. Please try again in 1m6.038399999s. Need more tokens? Upgrade to Dev Tier today at https://console.groq.com/settings/billing', 'type': 'tokens', 'code': 'rate_limit_exceeded'}}\n",
      "[Attempt 1] Error: Error code: 429 - {'error': {'message': 'Rate limit reached for model `llama3-70b-8192` in organization `org_01k1gtn3fcfkw95b53fvs24h2z` service tier `on_demand` on tokens per day (TPD): Limit 500000, Used 499751, Requested 625. Please try again in 1m4.8454s. Need more tokens? Upgrade to Dev Tier today at https://console.groq.com/settings/billing', 'type': 'tokens', 'code': 'rate_limit_exceeded'}}\n",
      "[Attempt 2] Error: Error code: 429 - {'error': {'message': 'Rate limit reached for model `llama3-70b-8192` in organization `org_01k1gtn3fcfkw95b53fvs24h2z` service tier `on_demand` on tokens per day (TPD): Limit 500000, Used 499744, Requested 625. Please try again in 1m3.651399999s. Need more tokens? Upgrade to Dev Tier today at https://console.groq.com/settings/billing', 'type': 'tokens', 'code': 'rate_limit_exceeded'}}\n",
      "[Attempt 3] Error: Error code: 429 - {'error': {'message': 'Rate limit reached for model `llama3-70b-8192` in organization `org_01k1gtn3fcfkw95b53fvs24h2z` service tier `on_demand` on tokens per day (TPD): Limit 500000, Used 499737, Requested 625. Please try again in 1m2.4384s. Need more tokens? Upgrade to Dev Tier today at https://console.groq.com/settings/billing', 'type': 'tokens', 'code': 'rate_limit_exceeded'}}\n"
     ]
    },
    {
     "name": "stderr",
     "output_type": "stream",
     "text": [
      " 34%|███▍      | 17/50 [09:24<12:14, 22.27s/it]"
     ]
    },
    {
     "name": "stdout",
     "output_type": "stream",
     "text": [
      "\n",
      "[16] GT: 230 | Votes: [] | Majority: N/A\n",
      "[Attempt 1] Error: Error code: 429 - {'error': {'message': 'Rate limit reached for model `llama3-70b-8192` in organization `org_01k1gtn3fcfkw95b53fvs24h2z` service tier `on_demand` on tokens per day (TPD): Limit 500000, Used 500266, Requested 617. Please try again in 2m32.662s. Need more tokens? Upgrade to Dev Tier today at https://console.groq.com/settings/billing', 'type': 'tokens', 'code': 'rate_limit_exceeded'}}\n",
      "[Attempt 2] Error: Error code: 429 - {'error': {'message': 'Rate limit reached for model `llama3-70b-8192` in organization `org_01k1gtn3fcfkw95b53fvs24h2z` service tier `on_demand` on tokens per day (TPD): Limit 500000, Used 500259, Requested 617. Please try again in 2m31.462s. Need more tokens? Upgrade to Dev Tier today at https://console.groq.com/settings/billing', 'type': 'tokens', 'code': 'rate_limit_exceeded'}}\n",
      "[Attempt 3] Error: Error code: 429 - {'error': {'message': 'Rate limit reached for model `llama3-70b-8192` in organization `org_01k1gtn3fcfkw95b53fvs24h2z` service tier `on_demand` on tokens per day (TPD): Limit 500000, Used 500252, Requested 617. Please try again in 2m30.191999999s. Need more tokens? Upgrade to Dev Tier today at https://console.groq.com/settings/billing', 'type': 'tokens', 'code': 'rate_limit_exceeded'}}\n",
      "[Attempt 1] Error: Error code: 429 - {'error': {'message': 'Rate limit reached for model `llama3-70b-8192` in organization `org_01k1gtn3fcfkw95b53fvs24h2z` service tier `on_demand` on tokens per day (TPD): Limit 500000, Used 500245, Requested 617. Please try again in 2m28.99s. Need more tokens? Upgrade to Dev Tier today at https://console.groq.com/settings/billing', 'type': 'tokens', 'code': 'rate_limit_exceeded'}}\n",
      "[Attempt 2] Error: Error code: 429 - {'error': {'message': 'Rate limit reached for model `llama3-70b-8192` in organization `org_01k1gtn3fcfkw95b53fvs24h2z` service tier `on_demand` on tokens per day (TPD): Limit 500000, Used 500237, Requested 617. Please try again in 2m27.742s. Need more tokens? Upgrade to Dev Tier today at https://console.groq.com/settings/billing', 'type': 'tokens', 'code': 'rate_limit_exceeded'}}\n",
      "[Attempt 3] Error: Error code: 429 - {'error': {'message': 'Rate limit reached for model `llama3-70b-8192` in organization `org_01k1gtn3fcfkw95b53fvs24h2z` service tier `on_demand` on tokens per day (TPD): Limit 500000, Used 500231, Requested 617. Please try again in 2m26.546s. Need more tokens? Upgrade to Dev Tier today at https://console.groq.com/settings/billing', 'type': 'tokens', 'code': 'rate_limit_exceeded'}}\n",
      "[Attempt 1] Error: Error code: 429 - {'error': {'message': 'Rate limit reached for model `llama3-70b-8192` in organization `org_01k1gtn3fcfkw95b53fvs24h2z` service tier `on_demand` on tokens per day (TPD): Limit 500000, Used 500224, Requested 617. Please try again in 2m25.343s. Need more tokens? Upgrade to Dev Tier today at https://console.groq.com/settings/billing', 'type': 'tokens', 'code': 'rate_limit_exceeded'}}\n",
      "[Attempt 2] Error: Error code: 429 - {'error': {'message': 'Rate limit reached for model `llama3-70b-8192` in organization `org_01k1gtn3fcfkw95b53fvs24h2z` service tier `on_demand` on tokens per day (TPD): Limit 500000, Used 500217, Requested 617. Please try again in 2m24.146s. Need more tokens? Upgrade to Dev Tier today at https://console.groq.com/settings/billing', 'type': 'tokens', 'code': 'rate_limit_exceeded'}}\n",
      "[Attempt 3] Error: Error code: 429 - {'error': {'message': 'Rate limit reached for model `llama3-70b-8192` in organization `org_01k1gtn3fcfkw95b53fvs24h2z` service tier `on_demand` on tokens per day (TPD): Limit 500000, Used 500210, Requested 617. Please try again in 2m22.951s. Need more tokens? Upgrade to Dev Tier today at https://console.groq.com/settings/billing', 'type': 'tokens', 'code': 'rate_limit_exceeded'}}\n",
      "[Attempt 1] Error: Error code: 429 - {'error': {'message': 'Rate limit reached for model `llama3-70b-8192` in organization `org_01k1gtn3fcfkw95b53fvs24h2z` service tier `on_demand` on tokens per day (TPD): Limit 500000, Used 500203, Requested 617. Please try again in 2m21.756s. Need more tokens? Upgrade to Dev Tier today at https://console.groq.com/settings/billing', 'type': 'tokens', 'code': 'rate_limit_exceeded'}}\n",
      "[Attempt 2] Error: Error code: 429 - {'error': {'message': 'Rate limit reached for model `llama3-70b-8192` in organization `org_01k1gtn3fcfkw95b53fvs24h2z` service tier `on_demand` on tokens per day (TPD): Limit 500000, Used 500196, Requested 617. Please try again in 2m20.548999999s. Need more tokens? Upgrade to Dev Tier today at https://console.groq.com/settings/billing', 'type': 'tokens', 'code': 'rate_limit_exceeded'}}\n",
      "[Attempt 3] Error: Error code: 429 - {'error': {'message': 'Rate limit reached for model `llama3-70b-8192` in organization `org_01k1gtn3fcfkw95b53fvs24h2z` service tier `on_demand` on tokens per day (TPD): Limit 500000, Used 500189, Requested 617. Please try again in 2m19.331s. Need more tokens? Upgrade to Dev Tier today at https://console.groq.com/settings/billing', 'type': 'tokens', 'code': 'rate_limit_exceeded'}}\n"
     ]
    },
    {
     "name": "stderr",
     "output_type": "stream",
     "text": [
      " 36%|███▌      | 18/50 [10:42<20:51, 39.12s/it]"
     ]
    },
    {
     "name": "stdout",
     "output_type": "stream",
     "text": [
      "\n",
      "[17] GT: 57500 | Votes: ['57500'] | Majority: 57500\n",
      "[Attempt 1] Error: Error code: 429 - {'error': {'message': 'Rate limit reached for model `llama3-70b-8192` in organization `org_01k1gtn3fcfkw95b53fvs24h2z` service tier `on_demand` on tokens per day (TPD): Limit 500000, Used 500182, Requested 596. Please try again in 2m14.4812s. Need more tokens? Upgrade to Dev Tier today at https://console.groq.com/settings/billing', 'type': 'tokens', 'code': 'rate_limit_exceeded'}}\n",
      "[Attempt 2] Error: Error code: 429 - {'error': {'message': 'Rate limit reached for model `llama3-70b-8192` in organization `org_01k1gtn3fcfkw95b53fvs24h2z` service tier `on_demand` on tokens per day (TPD): Limit 500000, Used 500174, Requested 596. Please try again in 2m13.156199999s. Need more tokens? Upgrade to Dev Tier today at https://console.groq.com/settings/billing', 'type': 'tokens', 'code': 'rate_limit_exceeded'}}\n",
      "[Attempt 3] Error: Error code: 429 - {'error': {'message': 'Rate limit reached for model `llama3-70b-8192` in organization `org_01k1gtn3fcfkw95b53fvs24h2z` service tier `on_demand` on tokens per day (TPD): Limit 500000, Used 500167, Requested 596. Please try again in 2m11.9272s. Need more tokens? Upgrade to Dev Tier today at https://console.groq.com/settings/billing', 'type': 'tokens', 'code': 'rate_limit_exceeded'}}\n",
      "[Attempt 1] Error: Error code: 429 - {'error': {'message': 'Rate limit reached for model `llama3-70b-8192` in organization `org_01k1gtn3fcfkw95b53fvs24h2z` service tier `on_demand` on tokens per day (TPD): Limit 500000, Used 500160, Requested 596. Please try again in 2m10.7332s. Need more tokens? Upgrade to Dev Tier today at https://console.groq.com/settings/billing', 'type': 'tokens', 'code': 'rate_limit_exceeded'}}\n",
      "[Attempt 2] Error: Error code: 429 - {'error': {'message': 'Rate limit reached for model `llama3-70b-8192` in organization `org_01k1gtn3fcfkw95b53fvs24h2z` service tier `on_demand` on tokens per day (TPD): Limit 500000, Used 500152, Requested 596. Please try again in 2m9.399199999s. Need more tokens? Upgrade to Dev Tier today at https://console.groq.com/settings/billing', 'type': 'tokens', 'code': 'rate_limit_exceeded'}}\n",
      "[Attempt 3] Error: Error code: 429 - {'error': {'message': 'Rate limit reached for model `llama3-70b-8192` in organization `org_01k1gtn3fcfkw95b53fvs24h2z` service tier `on_demand` on tokens per day (TPD): Limit 500000, Used 500145, Requested 596. Please try again in 2m8.199199999s. Need more tokens? Upgrade to Dev Tier today at https://console.groq.com/settings/billing', 'type': 'tokens', 'code': 'rate_limit_exceeded'}}\n",
      "[Attempt 1] Error: Error code: 429 - {'error': {'message': 'Rate limit reached for model `llama3-70b-8192` in organization `org_01k1gtn3fcfkw95b53fvs24h2z` service tier `on_demand` on tokens per day (TPD): Limit 500000, Used 500138, Requested 596. Please try again in 2m6.9532s. Need more tokens? Upgrade to Dev Tier today at https://console.groq.com/settings/billing', 'type': 'tokens', 'code': 'rate_limit_exceeded'}}\n",
      "[Attempt 2] Error: Error code: 429 - {'error': {'message': 'Rate limit reached for model `llama3-70b-8192` in organization `org_01k1gtn3fcfkw95b53fvs24h2z` service tier `on_demand` on tokens per day (TPD): Limit 500000, Used 500131, Requested 596. Please try again in 2m5.669199999s. Need more tokens? Upgrade to Dev Tier today at https://console.groq.com/settings/billing', 'type': 'tokens', 'code': 'rate_limit_exceeded'}}\n",
      "[Attempt 3] Error: Error code: 429 - {'error': {'message': 'Rate limit reached for model `llama3-70b-8192` in organization `org_01k1gtn3fcfkw95b53fvs24h2z` service tier `on_demand` on tokens per day (TPD): Limit 500000, Used 500124, Requested 596. Please try again in 2m4.458199999s. Need more tokens? Upgrade to Dev Tier today at https://console.groq.com/settings/billing', 'type': 'tokens', 'code': 'rate_limit_exceeded'}}\n",
      "[Attempt 1] Error: Error code: 429 - {'error': {'message': 'Rate limit reached for model `llama3-70b-8192` in organization `org_01k1gtn3fcfkw95b53fvs24h2z` service tier `on_demand` on tokens per day (TPD): Limit 500000, Used 500117, Requested 596. Please try again in 2m3.2682s. Need more tokens? Upgrade to Dev Tier today at https://console.groq.com/settings/billing', 'type': 'tokens', 'code': 'rate_limit_exceeded'}}\n",
      "[Attempt 2] Error: Error code: 429 - {'error': {'message': 'Rate limit reached for model `llama3-70b-8192` in organization `org_01k1gtn3fcfkw95b53fvs24h2z` service tier `on_demand` on tokens per day (TPD): Limit 500000, Used 500110, Requested 596. Please try again in 2m2.0752s. Need more tokens? Upgrade to Dev Tier today at https://console.groq.com/settings/billing', 'type': 'tokens', 'code': 'rate_limit_exceeded'}}\n",
      "[Attempt 3] Error: Error code: 429 - {'error': {'message': 'Rate limit reached for model `llama3-70b-8192` in organization `org_01k1gtn3fcfkw95b53fvs24h2z` service tier `on_demand` on tokens per day (TPD): Limit 500000, Used 500103, Requested 596. Please try again in 2m0.872199999s. Need more tokens? Upgrade to Dev Tier today at https://console.groq.com/settings/billing', 'type': 'tokens', 'code': 'rate_limit_exceeded'}}\n",
      "[Attempt 1] Error: Error code: 429 - {'error': {'message': 'Rate limit reached for model `llama3-70b-8192` in organization `org_01k1gtn3fcfkw95b53fvs24h2z` service tier `on_demand` on tokens per day (TPD): Limit 500000, Used 500096, Requested 596. Please try again in 1m59.6742s. Need more tokens? Upgrade to Dev Tier today at https://console.groq.com/settings/billing', 'type': 'tokens', 'code': 'rate_limit_exceeded'}}\n",
      "[Attempt 2] Error: Error code: 429 - {'error': {'message': 'Rate limit reached for model `llama3-70b-8192` in organization `org_01k1gtn3fcfkw95b53fvs24h2z` service tier `on_demand` on tokens per day (TPD): Limit 500000, Used 500089, Requested 596. Please try again in 1m58.473199999s. Need more tokens? Upgrade to Dev Tier today at https://console.groq.com/settings/billing', 'type': 'tokens', 'code': 'rate_limit_exceeded'}}\n",
      "[Attempt 3] Error: Error code: 429 - {'error': {'message': 'Rate limit reached for model `llama3-70b-8192` in organization `org_01k1gtn3fcfkw95b53fvs24h2z` service tier `on_demand` on tokens per day (TPD): Limit 500000, Used 500082, Requested 596. Please try again in 1m57.276199999s. Need more tokens? Upgrade to Dev Tier today at https://console.groq.com/settings/billing', 'type': 'tokens', 'code': 'rate_limit_exceeded'}}\n"
     ]
    },
    {
     "name": "stderr",
     "output_type": "stream",
     "text": [
      " 38%|███▊      | 19/50 [11:00<16:55, 32.76s/it]"
     ]
    },
    {
     "name": "stdout",
     "output_type": "stream",
     "text": [
      "\n",
      "[18] GT: 7 | Votes: [] | Majority: N/A\n",
      "[Attempt 1] Error: Error code: 429 - {'error': {'message': 'Rate limit reached for model `llama3-70b-8192` in organization `org_01k1gtn3fcfkw95b53fvs24h2z` service tier `on_demand` on tokens per day (TPD): Limit 500000, Used 500075, Requested 633. Please try again in 2m2.345799999s. Need more tokens? Upgrade to Dev Tier today at https://console.groq.com/settings/billing', 'type': 'tokens', 'code': 'rate_limit_exceeded'}}\n",
      "[Attempt 2] Error: Error code: 429 - {'error': {'message': 'Rate limit reached for model `llama3-70b-8192` in organization `org_01k1gtn3fcfkw95b53fvs24h2z` service tier `on_demand` on tokens per day (TPD): Limit 500000, Used 500067, Requested 633. Please try again in 2m1.122799999s. Need more tokens? Upgrade to Dev Tier today at https://console.groq.com/settings/billing', 'type': 'tokens', 'code': 'rate_limit_exceeded'}}\n",
      "[Attempt 3] Error: Error code: 429 - {'error': {'message': 'Rate limit reached for model `llama3-70b-8192` in organization `org_01k1gtn3fcfkw95b53fvs24h2z` service tier `on_demand` on tokens per day (TPD): Limit 500000, Used 500060, Requested 633. Please try again in 1m59.8908s. Need more tokens? Upgrade to Dev Tier today at https://console.groq.com/settings/billing', 'type': 'tokens', 'code': 'rate_limit_exceeded'}}\n",
      "[Attempt 1] Error: Error code: 429 - {'error': {'message': 'Rate limit reached for model `llama3-70b-8192` in organization `org_01k1gtn3fcfkw95b53fvs24h2z` service tier `on_demand` on tokens per day (TPD): Limit 500000, Used 500053, Requested 633. Please try again in 1m58.7038s. Need more tokens? Upgrade to Dev Tier today at https://console.groq.com/settings/billing', 'type': 'tokens', 'code': 'rate_limit_exceeded'}}\n",
      "[Attempt 2] Error: Error code: 429 - {'error': {'message': 'Rate limit reached for model `llama3-70b-8192` in organization `org_01k1gtn3fcfkw95b53fvs24h2z` service tier `on_demand` on tokens per day (TPD): Limit 500000, Used 500046, Requested 633. Please try again in 1m57.423799999s. Need more tokens? Upgrade to Dev Tier today at https://console.groq.com/settings/billing', 'type': 'tokens', 'code': 'rate_limit_exceeded'}}\n",
      "[Attempt 3] Error: Error code: 429 - {'error': {'message': 'Rate limit reached for model `llama3-70b-8192` in organization `org_01k1gtn3fcfkw95b53fvs24h2z` service tier `on_demand` on tokens per day (TPD): Limit 500000, Used 500039, Requested 633. Please try again in 1m56.2288s. Need more tokens? Upgrade to Dev Tier today at https://console.groq.com/settings/billing', 'type': 'tokens', 'code': 'rate_limit_exceeded'}}\n",
      "[Attempt 1] Error: Error code: 429 - {'error': {'message': 'Rate limit reached for model `llama3-70b-8192` in organization `org_01k1gtn3fcfkw95b53fvs24h2z` service tier `on_demand` on tokens per day (TPD): Limit 500000, Used 500032, Requested 633. Please try again in 1m55.0008s. Need more tokens? Upgrade to Dev Tier today at https://console.groq.com/settings/billing', 'type': 'tokens', 'code': 'rate_limit_exceeded'}}\n",
      "[Attempt 2] Error: Error code: 429 - {'error': {'message': 'Rate limit reached for model `llama3-70b-8192` in organization `org_01k1gtn3fcfkw95b53fvs24h2z` service tier `on_demand` on tokens per day (TPD): Limit 500000, Used 500025, Requested 633. Please try again in 1m53.8048s. Need more tokens? Upgrade to Dev Tier today at https://console.groq.com/settings/billing', 'type': 'tokens', 'code': 'rate_limit_exceeded'}}\n",
      "[Attempt 3] Error: Error code: 429 - {'error': {'message': 'Rate limit reached for model `llama3-70b-8192` in organization `org_01k1gtn3fcfkw95b53fvs24h2z` service tier `on_demand` on tokens per day (TPD): Limit 500000, Used 500018, Requested 633. Please try again in 1m52.6128s. Need more tokens? Upgrade to Dev Tier today at https://console.groq.com/settings/billing', 'type': 'tokens', 'code': 'rate_limit_exceeded'}}\n",
      "[Attempt 1] Error: Error code: 429 - {'error': {'message': 'Rate limit reached for model `llama3-70b-8192` in organization `org_01k1gtn3fcfkw95b53fvs24h2z` service tier `on_demand` on tokens per day (TPD): Limit 500000, Used 500011, Requested 633. Please try again in 1m51.3958s. Need more tokens? Upgrade to Dev Tier today at https://console.groq.com/settings/billing', 'type': 'tokens', 'code': 'rate_limit_exceeded'}}\n",
      "[Attempt 2] Error: Error code: 429 - {'error': {'message': 'Rate limit reached for model `llama3-70b-8192` in organization `org_01k1gtn3fcfkw95b53fvs24h2z` service tier `on_demand` on tokens per day (TPD): Limit 500000, Used 500004, Requested 633. Please try again in 1m50.1038s. Need more tokens? Upgrade to Dev Tier today at https://console.groq.com/settings/billing', 'type': 'tokens', 'code': 'rate_limit_exceeded'}}\n",
      "[Attempt 3] Error: Error code: 429 - {'error': {'message': 'Rate limit reached for model `llama3-70b-8192` in organization `org_01k1gtn3fcfkw95b53fvs24h2z` service tier `on_demand` on tokens per day (TPD): Limit 500000, Used 499998, Requested 633. Please try again in 1m48.910799999s. Need more tokens? Upgrade to Dev Tier today at https://console.groq.com/settings/billing', 'type': 'tokens', 'code': 'rate_limit_exceeded'}}\n",
      "[Attempt 1] Error: Error code: 429 - {'error': {'message': 'Rate limit reached for model `llama3-70b-8192` in organization `org_01k1gtn3fcfkw95b53fvs24h2z` service tier `on_demand` on tokens per day (TPD): Limit 500000, Used 499991, Requested 633. Please try again in 1m47.7108s. Need more tokens? Upgrade to Dev Tier today at https://console.groq.com/settings/billing', 'type': 'tokens', 'code': 'rate_limit_exceeded'}}\n",
      "[Attempt 2] Error: Error code: 429 - {'error': {'message': 'Rate limit reached for model `llama3-70b-8192` in organization `org_01k1gtn3fcfkw95b53fvs24h2z` service tier `on_demand` on tokens per day (TPD): Limit 500000, Used 499984, Requested 633. Please try again in 1m46.5178s. Need more tokens? Upgrade to Dev Tier today at https://console.groq.com/settings/billing', 'type': 'tokens', 'code': 'rate_limit_exceeded'}}\n",
      "[Attempt 3] Error: Error code: 429 - {'error': {'message': 'Rate limit reached for model `llama3-70b-8192` in organization `org_01k1gtn3fcfkw95b53fvs24h2z` service tier `on_demand` on tokens per day (TPD): Limit 500000, Used 499977, Requested 633. Please try again in 1m45.2728s. Need more tokens? Upgrade to Dev Tier today at https://console.groq.com/settings/billing', 'type': 'tokens', 'code': 'rate_limit_exceeded'}}\n"
     ]
    },
    {
     "name": "stderr",
     "output_type": "stream",
     "text": [
      " 40%|████      | 20/50 [11:18<14:15, 28.52s/it]"
     ]
    },
    {
     "name": "stdout",
     "output_type": "stream",
     "text": [
      "\n",
      "[19] GT: 6 | Votes: [] | Majority: N/A\n",
      "[Attempt 1] Error: Error code: 429 - {'error': {'message': 'Rate limit reached for model `llama3-70b-8192` in organization `org_01k1gtn3fcfkw95b53fvs24h2z` service tier `on_demand` on tokens per day (TPD): Limit 500000, Used 499970, Requested 630. Please try again in 1m43.5224s. Need more tokens? Upgrade to Dev Tier today at https://console.groq.com/settings/billing', 'type': 'tokens', 'code': 'rate_limit_exceeded'}}\n",
      "[Attempt 2] Error: Error code: 429 - {'error': {'message': 'Rate limit reached for model `llama3-70b-8192` in organization `org_01k1gtn3fcfkw95b53fvs24h2z` service tier `on_demand` on tokens per day (TPD): Limit 500000, Used 499962, Requested 630. Please try again in 1m42.2624s. Need more tokens? Upgrade to Dev Tier today at https://console.groq.com/settings/billing', 'type': 'tokens', 'code': 'rate_limit_exceeded'}}\n",
      "[Attempt 3] Error: Error code: 429 - {'error': {'message': 'Rate limit reached for model `llama3-70b-8192` in organization `org_01k1gtn3fcfkw95b53fvs24h2z` service tier `on_demand` on tokens per day (TPD): Limit 500000, Used 499955, Requested 630. Please try again in 1m41.0604s. Need more tokens? Upgrade to Dev Tier today at https://console.groq.com/settings/billing', 'type': 'tokens', 'code': 'rate_limit_exceeded'}}\n",
      "[Attempt 1] Error: Error code: 429 - {'error': {'message': 'Rate limit reached for model `llama3-70b-8192` in organization `org_01k1gtn3fcfkw95b53fvs24h2z` service tier `on_demand` on tokens per day (TPD): Limit 500000, Used 499948, Requested 630. Please try again in 1m39.7974s. Need more tokens? Upgrade to Dev Tier today at https://console.groq.com/settings/billing', 'type': 'tokens', 'code': 'rate_limit_exceeded'}}\n",
      "[Attempt 2] Error: Error code: 429 - {'error': {'message': 'Rate limit reached for model `llama3-70b-8192` in organization `org_01k1gtn3fcfkw95b53fvs24h2z` service tier `on_demand` on tokens per day (TPD): Limit 500000, Used 499941, Requested 630. Please try again in 1m38.558399999s. Need more tokens? Upgrade to Dev Tier today at https://console.groq.com/settings/billing', 'type': 'tokens', 'code': 'rate_limit_exceeded'}}\n",
      "[Attempt 3] Error: Error code: 429 - {'error': {'message': 'Rate limit reached for model `llama3-70b-8192` in organization `org_01k1gtn3fcfkw95b53fvs24h2z` service tier `on_demand` on tokens per day (TPD): Limit 500000, Used 499934, Requested 630. Please try again in 1m37.3644s. Need more tokens? Upgrade to Dev Tier today at https://console.groq.com/settings/billing', 'type': 'tokens', 'code': 'rate_limit_exceeded'}}\n",
      "[Attempt 1] Error: Error code: 429 - {'error': {'message': 'Rate limit reached for model `llama3-70b-8192` in organization `org_01k1gtn3fcfkw95b53fvs24h2z` service tier `on_demand` on tokens per day (TPD): Limit 500000, Used 499927, Requested 630. Please try again in 1m36.174399999s. Need more tokens? Upgrade to Dev Tier today at https://console.groq.com/settings/billing', 'type': 'tokens', 'code': 'rate_limit_exceeded'}}\n",
      "[Attempt 2] Error: Error code: 429 - {'error': {'message': 'Rate limit reached for model `llama3-70b-8192` in organization `org_01k1gtn3fcfkw95b53fvs24h2z` service tier `on_demand` on tokens per day (TPD): Limit 500000, Used 499920, Requested 630. Please try again in 1m34.9754s. Need more tokens? Upgrade to Dev Tier today at https://console.groq.com/settings/billing', 'type': 'tokens', 'code': 'rate_limit_exceeded'}}\n",
      "[Attempt 3] Error: Error code: 429 - {'error': {'message': 'Rate limit reached for model `llama3-70b-8192` in organization `org_01k1gtn3fcfkw95b53fvs24h2z` service tier `on_demand` on tokens per day (TPD): Limit 500000, Used 499913, Requested 630. Please try again in 1m33.7814s. Need more tokens? Upgrade to Dev Tier today at https://console.groq.com/settings/billing', 'type': 'tokens', 'code': 'rate_limit_exceeded'}}\n",
      "[Attempt 1] Error: Error code: 429 - {'error': {'message': 'Rate limit reached for model `llama3-70b-8192` in organization `org_01k1gtn3fcfkw95b53fvs24h2z` service tier `on_demand` on tokens per day (TPD): Limit 500000, Used 499906, Requested 630. Please try again in 1m32.589399999s. Need more tokens? Upgrade to Dev Tier today at https://console.groq.com/settings/billing', 'type': 'tokens', 'code': 'rate_limit_exceeded'}}\n",
      "[Attempt 2] Error: Error code: 429 - {'error': {'message': 'Rate limit reached for model `llama3-70b-8192` in organization `org_01k1gtn3fcfkw95b53fvs24h2z` service tier `on_demand` on tokens per day (TPD): Limit 500000, Used 499899, Requested 630. Please try again in 1m31.349399999s. Need more tokens? Upgrade to Dev Tier today at https://console.groq.com/settings/billing', 'type': 'tokens', 'code': 'rate_limit_exceeded'}}\n",
      "[Attempt 3] Error: Error code: 429 - {'error': {'message': 'Rate limit reached for model `llama3-70b-8192` in organization `org_01k1gtn3fcfkw95b53fvs24h2z` service tier `on_demand` on tokens per day (TPD): Limit 500000, Used 499892, Requested 630. Please try again in 1m30.1574s. Need more tokens? Upgrade to Dev Tier today at https://console.groq.com/settings/billing', 'type': 'tokens', 'code': 'rate_limit_exceeded'}}\n",
      "[Attempt 1] Error: Error code: 429 - {'error': {'message': 'Rate limit reached for model `llama3-70b-8192` in organization `org_01k1gtn3fcfkw95b53fvs24h2z` service tier `on_demand` on tokens per day (TPD): Limit 500000, Used 499885, Requested 630. Please try again in 1m28.9184s. Need more tokens? Upgrade to Dev Tier today at https://console.groq.com/settings/billing', 'type': 'tokens', 'code': 'rate_limit_exceeded'}}\n",
      "[Attempt 2] Error: Error code: 429 - {'error': {'message': 'Rate limit reached for model `llama3-70b-8192` in organization `org_01k1gtn3fcfkw95b53fvs24h2z` service tier `on_demand` on tokens per day (TPD): Limit 500000, Used 499878, Requested 630. Please try again in 1m27.6984s. Need more tokens? Upgrade to Dev Tier today at https://console.groq.com/settings/billing', 'type': 'tokens', 'code': 'rate_limit_exceeded'}}\n",
      "[Attempt 3] Error: Error code: 429 - {'error': {'message': 'Rate limit reached for model `llama3-70b-8192` in organization `org_01k1gtn3fcfkw95b53fvs24h2z` service tier `on_demand` on tokens per day (TPD): Limit 500000, Used 499871, Requested 630. Please try again in 1m26.4474s. Need more tokens? Upgrade to Dev Tier today at https://console.groq.com/settings/billing', 'type': 'tokens', 'code': 'rate_limit_exceeded'}}\n"
     ]
    },
    {
     "name": "stderr",
     "output_type": "stream",
     "text": [
      " 42%|████▏     | 21/50 [11:37<12:22, 25.59s/it]"
     ]
    },
    {
     "name": "stdout",
     "output_type": "stream",
     "text": [
      "\n",
      "[20] GT: 15 | Votes: [] | Majority: N/A\n",
      "[Attempt 1] Error: Error code: 429 - {'error': {'message': 'Rate limit reached for model `llama3-70b-8192` in organization `org_01k1gtn3fcfkw95b53fvs24h2z` service tier `on_demand` on tokens per day (TPD): Limit 500000, Used 499864, Requested 614. Please try again in 1m22.4876s. Need more tokens? Upgrade to Dev Tier today at https://console.groq.com/settings/billing', 'type': 'tokens', 'code': 'rate_limit_exceeded'}}\n",
      "[Attempt 2] Error: Error code: 429 - {'error': {'message': 'Rate limit reached for model `llama3-70b-8192` in organization `org_01k1gtn3fcfkw95b53fvs24h2z` service tier `on_demand` on tokens per day (TPD): Limit 500000, Used 499857, Requested 614. Please try again in 1m21.2956s. Need more tokens? Upgrade to Dev Tier today at https://console.groq.com/settings/billing', 'type': 'tokens', 'code': 'rate_limit_exceeded'}}\n",
      "[Attempt 3] Error: Error code: 429 - {'error': {'message': 'Rate limit reached for model `llama3-70b-8192` in organization `org_01k1gtn3fcfkw95b53fvs24h2z` service tier `on_demand` on tokens per day (TPD): Limit 500000, Used 499850, Requested 614. Please try again in 1m20.0966s. Need more tokens? Upgrade to Dev Tier today at https://console.groq.com/settings/billing', 'type': 'tokens', 'code': 'rate_limit_exceeded'}}\n",
      "[Attempt 1] Error: Error code: 429 - {'error': {'message': 'Rate limit reached for model `llama3-70b-8192` in organization `org_01k1gtn3fcfkw95b53fvs24h2z` service tier `on_demand` on tokens per day (TPD): Limit 500000, Used 499843, Requested 614. Please try again in 1m18.884599999s. Need more tokens? Upgrade to Dev Tier today at https://console.groq.com/settings/billing', 'type': 'tokens', 'code': 'rate_limit_exceeded'}}\n",
      "[Attempt 2] Error: Error code: 429 - {'error': {'message': 'Rate limit reached for model `llama3-70b-8192` in organization `org_01k1gtn3fcfkw95b53fvs24h2z` service tier `on_demand` on tokens per day (TPD): Limit 500000, Used 499835, Requested 614. Please try again in 1m17.5836s. Need more tokens? Upgrade to Dev Tier today at https://console.groq.com/settings/billing', 'type': 'tokens', 'code': 'rate_limit_exceeded'}}\n",
      "[Attempt 3] Error: Error code: 429 - {'error': {'message': 'Rate limit reached for model `llama3-70b-8192` in organization `org_01k1gtn3fcfkw95b53fvs24h2z` service tier `on_demand` on tokens per day (TPD): Limit 500000, Used 499828, Requested 614. Please try again in 1m16.3506s. Need more tokens? Upgrade to Dev Tier today at https://console.groq.com/settings/billing', 'type': 'tokens', 'code': 'rate_limit_exceeded'}}\n",
      "[Attempt 1] Error: Error code: 429 - {'error': {'message': 'Rate limit reached for model `llama3-70b-8192` in organization `org_01k1gtn3fcfkw95b53fvs24h2z` service tier `on_demand` on tokens per day (TPD): Limit 500000, Used 499821, Requested 614. Please try again in 1m15.125599999s. Need more tokens? Upgrade to Dev Tier today at https://console.groq.com/settings/billing', 'type': 'tokens', 'code': 'rate_limit_exceeded'}}\n",
      "[Attempt 2] Error: Error code: 429 - {'error': {'message': 'Rate limit reached for model `llama3-70b-8192` in organization `org_01k1gtn3fcfkw95b53fvs24h2z` service tier `on_demand` on tokens per day (TPD): Limit 500000, Used 499814, Requested 614. Please try again in 1m13.9006s. Need more tokens? Upgrade to Dev Tier today at https://console.groq.com/settings/billing', 'type': 'tokens', 'code': 'rate_limit_exceeded'}}\n",
      "[Attempt 3] Error: Error code: 429 - {'error': {'message': 'Rate limit reached for model `llama3-70b-8192` in organization `org_01k1gtn3fcfkw95b53fvs24h2z` service tier `on_demand` on tokens per day (TPD): Limit 500000, Used 499807, Requested 614. Please try again in 1m12.6686s. Need more tokens? Upgrade to Dev Tier today at https://console.groq.com/settings/billing', 'type': 'tokens', 'code': 'rate_limit_exceeded'}}\n",
      "[Attempt 1] Error: Error code: 429 - {'error': {'message': 'Rate limit reached for model `llama3-70b-8192` in organization `org_01k1gtn3fcfkw95b53fvs24h2z` service tier `on_demand` on tokens per day (TPD): Limit 500000, Used 499800, Requested 614. Please try again in 1m11.4736s. Need more tokens? Upgrade to Dev Tier today at https://console.groq.com/settings/billing', 'type': 'tokens', 'code': 'rate_limit_exceeded'}}\n",
      "[Attempt 2] Error: Error code: 429 - {'error': {'message': 'Rate limit reached for model `llama3-70b-8192` in organization `org_01k1gtn3fcfkw95b53fvs24h2z` service tier `on_demand` on tokens per day (TPD): Limit 500000, Used 499793, Requested 614. Please try again in 1m10.2216s. Need more tokens? Upgrade to Dev Tier today at https://console.groq.com/settings/billing', 'type': 'tokens', 'code': 'rate_limit_exceeded'}}\n",
      "[Attempt 3] Error: Error code: 429 - {'error': {'message': 'Rate limit reached for model `llama3-70b-8192` in organization `org_01k1gtn3fcfkw95b53fvs24h2z` service tier `on_demand` on tokens per day (TPD): Limit 500000, Used 499786, Requested 614. Please try again in 1m8.9726s. Need more tokens? Upgrade to Dev Tier today at https://console.groq.com/settings/billing', 'type': 'tokens', 'code': 'rate_limit_exceeded'}}\n",
      "[Attempt 1] Error: Error code: 429 - {'error': {'message': 'Rate limit reached for model `llama3-70b-8192` in organization `org_01k1gtn3fcfkw95b53fvs24h2z` service tier `on_demand` on tokens per day (TPD): Limit 500000, Used 499779, Requested 614. Please try again in 1m7.745599999s. Need more tokens? Upgrade to Dev Tier today at https://console.groq.com/settings/billing', 'type': 'tokens', 'code': 'rate_limit_exceeded'}}\n",
      "[Attempt 2] Error: Error code: 429 - {'error': {'message': 'Rate limit reached for model `llama3-70b-8192` in organization `org_01k1gtn3fcfkw95b53fvs24h2z` service tier `on_demand` on tokens per day (TPD): Limit 500000, Used 499771, Requested 614. Please try again in 1m6.5216s. Need more tokens? Upgrade to Dev Tier today at https://console.groq.com/settings/billing', 'type': 'tokens', 'code': 'rate_limit_exceeded'}}\n",
      "[Attempt 3] Error: Error code: 429 - {'error': {'message': 'Rate limit reached for model `llama3-70b-8192` in organization `org_01k1gtn3fcfkw95b53fvs24h2z` service tier `on_demand` on tokens per day (TPD): Limit 500000, Used 499765, Requested 614. Please try again in 1m5.318599999s. Need more tokens? Upgrade to Dev Tier today at https://console.groq.com/settings/billing', 'type': 'tokens', 'code': 'rate_limit_exceeded'}}\n"
     ]
    },
    {
     "name": "stderr",
     "output_type": "stream",
     "text": [
      " 44%|████▍     | 22/50 [11:55<10:51, 23.27s/it]"
     ]
    },
    {
     "name": "stdout",
     "output_type": "stream",
     "text": [
      "\n",
      "[21] GT: 14 | Votes: [] | Majority: N/A\n",
      "[Attempt 1] Error: Error code: 429 - {'error': {'message': 'Rate limit reached for model `llama3-70b-8192` in organization `org_01k1gtn3fcfkw95b53fvs24h2z` service tier `on_demand` on tokens per day (TPD): Limit 500000, Used 499757, Requested 622. Please try again in 1m5.391999999s. Need more tokens? Upgrade to Dev Tier today at https://console.groq.com/settings/billing', 'type': 'tokens', 'code': 'rate_limit_exceeded'}}\n",
      "[Attempt 2] Error: Error code: 429 - {'error': {'message': 'Rate limit reached for model `llama3-70b-8192` in organization `org_01k1gtn3fcfkw95b53fvs24h2z` service tier `on_demand` on tokens per day (TPD): Limit 500000, Used 499750, Requested 622. Please try again in 1m4.188999999s. Need more tokens? Upgrade to Dev Tier today at https://console.groq.com/settings/billing', 'type': 'tokens', 'code': 'rate_limit_exceeded'}}\n",
      "[Attempt 3] Error: Error code: 429 - {'error': {'message': 'Rate limit reached for model `llama3-70b-8192` in organization `org_01k1gtn3fcfkw95b53fvs24h2z` service tier `on_demand` on tokens per day (TPD): Limit 500000, Used 499743, Requested 622. Please try again in 1m2.947999999s. Need more tokens? Upgrade to Dev Tier today at https://console.groq.com/settings/billing', 'type': 'tokens', 'code': 'rate_limit_exceeded'}}\n",
      "[Attempt 1] Error: Error code: 429 - {'error': {'message': 'Rate limit reached for model `llama3-70b-8192` in organization `org_01k1gtn3fcfkw95b53fvs24h2z` service tier `on_demand` on tokens per day (TPD): Limit 500000, Used 499736, Requested 622. Please try again in 1m1.697999999s. Need more tokens? Upgrade to Dev Tier today at https://console.groq.com/settings/billing', 'type': 'tokens', 'code': 'rate_limit_exceeded'}}\n",
      "[Attempt 2] Error: Error code: 429 - {'error': {'message': 'Rate limit reached for model `llama3-70b-8192` in organization `org_01k1gtn3fcfkw95b53fvs24h2z` service tier `on_demand` on tokens per day (TPD): Limit 500000, Used 499728, Requested 622. Please try again in 1m0.425999999s. Need more tokens? Upgrade to Dev Tier today at https://console.groq.com/settings/billing', 'type': 'tokens', 'code': 'rate_limit_exceeded'}}\n",
      "[Attempt 1] Error: Error code: 429 - {'error': {'message': 'Rate limit reached for model `llama3-70b-8192` in organization `org_01k1gtn3fcfkw95b53fvs24h2z` service tier `on_demand` on tokens per day (TPD): Limit 500000, Used 500235, Requested 622. Please try again in 2m28.1692s. Need more tokens? Upgrade to Dev Tier today at https://console.groq.com/settings/billing', 'type': 'tokens', 'code': 'rate_limit_exceeded'}}\n",
      "[Attempt 2] Error: Error code: 429 - {'error': {'message': 'Rate limit reached for model `llama3-70b-8192` in organization `org_01k1gtn3fcfkw95b53fvs24h2z` service tier `on_demand` on tokens per day (TPD): Limit 500000, Used 500228, Requested 622. Please try again in 2m26.9302s. Need more tokens? Upgrade to Dev Tier today at https://console.groq.com/settings/billing', 'type': 'tokens', 'code': 'rate_limit_exceeded'}}\n",
      "[Attempt 3] Error: Error code: 429 - {'error': {'message': 'Rate limit reached for model `llama3-70b-8192` in organization `org_01k1gtn3fcfkw95b53fvs24h2z` service tier `on_demand` on tokens per day (TPD): Limit 500000, Used 500221, Requested 622. Please try again in 2m25.703199999s. Need more tokens? Upgrade to Dev Tier today at https://console.groq.com/settings/billing', 'type': 'tokens', 'code': 'rate_limit_exceeded'}}\n",
      "[Attempt 1] Error: Error code: 429 - {'error': {'message': 'Rate limit reached for model `llama3-70b-8192` in organization `org_01k1gtn3fcfkw95b53fvs24h2z` service tier `on_demand` on tokens per day (TPD): Limit 500000, Used 500214, Requested 622. Please try again in 2m24.5012s. Need more tokens? Upgrade to Dev Tier today at https://console.groq.com/settings/billing', 'type': 'tokens', 'code': 'rate_limit_exceeded'}}\n",
      "[Attempt 2] Error: Error code: 429 - {'error': {'message': 'Rate limit reached for model `llama3-70b-8192` in organization `org_01k1gtn3fcfkw95b53fvs24h2z` service tier `on_demand` on tokens per day (TPD): Limit 500000, Used 500206, Requested 622. Please try again in 2m23.2462s. Need more tokens? Upgrade to Dev Tier today at https://console.groq.com/settings/billing', 'type': 'tokens', 'code': 'rate_limit_exceeded'}}\n",
      "[Attempt 3] Error: Error code: 429 - {'error': {'message': 'Rate limit reached for model `llama3-70b-8192` in organization `org_01k1gtn3fcfkw95b53fvs24h2z` service tier `on_demand` on tokens per day (TPD): Limit 500000, Used 500200, Requested 622. Please try again in 2m22.0512s. Need more tokens? Upgrade to Dev Tier today at https://console.groq.com/settings/billing', 'type': 'tokens', 'code': 'rate_limit_exceeded'}}\n",
      "[Attempt 1] Error: Error code: 429 - {'error': {'message': 'Rate limit reached for model `llama3-70b-8192` in organization `org_01k1gtn3fcfkw95b53fvs24h2z` service tier `on_demand` on tokens per day (TPD): Limit 500000, Used 500193, Requested 622. Please try again in 2m20.8532s. Need more tokens? Upgrade to Dev Tier today at https://console.groq.com/settings/billing', 'type': 'tokens', 'code': 'rate_limit_exceeded'}}\n",
      "[Attempt 2] Error: Error code: 429 - {'error': {'message': 'Rate limit reached for model `llama3-70b-8192` in organization `org_01k1gtn3fcfkw95b53fvs24h2z` service tier `on_demand` on tokens per day (TPD): Limit 500000, Used 500185, Requested 622. Please try again in 2m19.5522s. Need more tokens? Upgrade to Dev Tier today at https://console.groq.com/settings/billing', 'type': 'tokens', 'code': 'rate_limit_exceeded'}}\n",
      "[Attempt 3] Error: Error code: 429 - {'error': {'message': 'Rate limit reached for model `llama3-70b-8192` in organization `org_01k1gtn3fcfkw95b53fvs24h2z` service tier `on_demand` on tokens per day (TPD): Limit 500000, Used 500178, Requested 622. Please try again in 2m18.3482s. Need more tokens? Upgrade to Dev Tier today at https://console.groq.com/settings/billing', 'type': 'tokens', 'code': 'rate_limit_exceeded'}}\n"
     ]
    },
    {
     "name": "stderr",
     "output_type": "stream",
     "text": [
      " 46%|████▌     | 23/50 [13:16<18:13, 40.51s/it]"
     ]
    },
    {
     "name": "stdout",
     "output_type": "stream",
     "text": [
      "\n",
      "[22] GT: 7 | Votes: ['7'] | Majority: 7\n",
      "[Attempt 1] Error: Error code: 429 - {'error': {'message': 'Rate limit reached for model `llama3-70b-8192` in organization `org_01k1gtn3fcfkw95b53fvs24h2z` service tier `on_demand` on tokens per day (TPD): Limit 500000, Used 500171, Requested 605. Please try again in 2m14.1796s. Need more tokens? Upgrade to Dev Tier today at https://console.groq.com/settings/billing', 'type': 'tokens', 'code': 'rate_limit_exceeded'}}\n",
      "[Attempt 2] Error: Error code: 429 - {'error': {'message': 'Rate limit reached for model `llama3-70b-8192` in organization `org_01k1gtn3fcfkw95b53fvs24h2z` service tier `on_demand` on tokens per day (TPD): Limit 500000, Used 500164, Requested 605. Please try again in 2m12.9276s. Need more tokens? Upgrade to Dev Tier today at https://console.groq.com/settings/billing', 'type': 'tokens', 'code': 'rate_limit_exceeded'}}\n",
      "[Attempt 3] Error: Error code: 429 - {'error': {'message': 'Rate limit reached for model `llama3-70b-8192` in organization `org_01k1gtn3fcfkw95b53fvs24h2z` service tier `on_demand` on tokens per day (TPD): Limit 500000, Used 500157, Requested 605. Please try again in 2m11.7396s. Need more tokens? Upgrade to Dev Tier today at https://console.groq.com/settings/billing', 'type': 'tokens', 'code': 'rate_limit_exceeded'}}\n",
      "[Attempt 1] Error: Error code: 429 - {'error': {'message': 'Rate limit reached for model `llama3-70b-8192` in organization `org_01k1gtn3fcfkw95b53fvs24h2z` service tier `on_demand` on tokens per day (TPD): Limit 500000, Used 500150, Requested 605. Please try again in 2m10.5396s. Need more tokens? Upgrade to Dev Tier today at https://console.groq.com/settings/billing', 'type': 'tokens', 'code': 'rate_limit_exceeded'}}\n",
      "[Attempt 2] Error: Error code: 429 - {'error': {'message': 'Rate limit reached for model `llama3-70b-8192` in organization `org_01k1gtn3fcfkw95b53fvs24h2z` service tier `on_demand` on tokens per day (TPD): Limit 500000, Used 500143, Requested 605. Please try again in 2m9.3446s. Need more tokens? Upgrade to Dev Tier today at https://console.groq.com/settings/billing', 'type': 'tokens', 'code': 'rate_limit_exceeded'}}\n",
      "[Attempt 3] Error: Error code: 429 - {'error': {'message': 'Rate limit reached for model `llama3-70b-8192` in organization `org_01k1gtn3fcfkw95b53fvs24h2z` service tier `on_demand` on tokens per day (TPD): Limit 500000, Used 500136, Requested 605. Please try again in 2m8.135599999s. Need more tokens? Upgrade to Dev Tier today at https://console.groq.com/settings/billing', 'type': 'tokens', 'code': 'rate_limit_exceeded'}}\n",
      "[Attempt 1] Error: Error code: 429 - {'error': {'message': 'Rate limit reached for model `llama3-70b-8192` in organization `org_01k1gtn3fcfkw95b53fvs24h2z` service tier `on_demand` on tokens per day (TPD): Limit 500000, Used 500129, Requested 605. Please try again in 2m6.890599999s. Need more tokens? Upgrade to Dev Tier today at https://console.groq.com/settings/billing', 'type': 'tokens', 'code': 'rate_limit_exceeded'}}\n",
      "[Attempt 2] Error: Error code: 429 - {'error': {'message': 'Rate limit reached for model `llama3-70b-8192` in organization `org_01k1gtn3fcfkw95b53fvs24h2z` service tier `on_demand` on tokens per day (TPD): Limit 500000, Used 500122, Requested 605. Please try again in 2m5.663599999s. Need more tokens? Upgrade to Dev Tier today at https://console.groq.com/settings/billing', 'type': 'tokens', 'code': 'rate_limit_exceeded'}}\n",
      "[Attempt 3] Error: Error code: 429 - {'error': {'message': 'Rate limit reached for model `llama3-70b-8192` in organization `org_01k1gtn3fcfkw95b53fvs24h2z` service tier `on_demand` on tokens per day (TPD): Limit 500000, Used 500115, Requested 605. Please try again in 2m4.4446s. Need more tokens? Upgrade to Dev Tier today at https://console.groq.com/settings/billing', 'type': 'tokens', 'code': 'rate_limit_exceeded'}}\n",
      "[Attempt 1] Error: Error code: 429 - {'error': {'message': 'Rate limit reached for model `llama3-70b-8192` in organization `org_01k1gtn3fcfkw95b53fvs24h2z` service tier `on_demand` on tokens per day (TPD): Limit 500000, Used 500108, Requested 605. Please try again in 2m3.2116s. Need more tokens? Upgrade to Dev Tier today at https://console.groq.com/settings/billing', 'type': 'tokens', 'code': 'rate_limit_exceeded'}}\n",
      "[Attempt 2] Error: Error code: 429 - {'error': {'message': 'Rate limit reached for model `llama3-70b-8192` in organization `org_01k1gtn3fcfkw95b53fvs24h2z` service tier `on_demand` on tokens per day (TPD): Limit 500000, Used 500100, Requested 605. Please try again in 2m1.871599999s. Need more tokens? Upgrade to Dev Tier today at https://console.groq.com/settings/billing', 'type': 'tokens', 'code': 'rate_limit_exceeded'}}\n",
      "[Attempt 3] Error: Error code: 429 - {'error': {'message': 'Rate limit reached for model `llama3-70b-8192` in organization `org_01k1gtn3fcfkw95b53fvs24h2z` service tier `on_demand` on tokens per day (TPD): Limit 500000, Used 500093, Requested 605. Please try again in 2m0.6406s. Need more tokens? Upgrade to Dev Tier today at https://console.groq.com/settings/billing', 'type': 'tokens', 'code': 'rate_limit_exceeded'}}\n",
      "[Attempt 1] Error: Error code: 429 - {'error': {'message': 'Rate limit reached for model `llama3-70b-8192` in organization `org_01k1gtn3fcfkw95b53fvs24h2z` service tier `on_demand` on tokens per day (TPD): Limit 500000, Used 500086, Requested 605. Please try again in 1m59.4176s. Need more tokens? Upgrade to Dev Tier today at https://console.groq.com/settings/billing', 'type': 'tokens', 'code': 'rate_limit_exceeded'}}\n",
      "[Attempt 2] Error: Error code: 429 - {'error': {'message': 'Rate limit reached for model `llama3-70b-8192` in organization `org_01k1gtn3fcfkw95b53fvs24h2z` service tier `on_demand` on tokens per day (TPD): Limit 500000, Used 500078, Requested 605. Please try again in 1m58.1916s. Need more tokens? Upgrade to Dev Tier today at https://console.groq.com/settings/billing', 'type': 'tokens', 'code': 'rate_limit_exceeded'}}\n",
      "[Attempt 3] Error: Error code: 429 - {'error': {'message': 'Rate limit reached for model `llama3-70b-8192` in organization `org_01k1gtn3fcfkw95b53fvs24h2z` service tier `on_demand` on tokens per day (TPD): Limit 500000, Used 500071, Requested 605. Please try again in 1m56.9746s. Need more tokens? Upgrade to Dev Tier today at https://console.groq.com/settings/billing', 'type': 'tokens', 'code': 'rate_limit_exceeded'}}\n"
     ]
    },
    {
     "name": "stderr",
     "output_type": "stream",
     "text": [
      " 48%|████▊     | 24/50 [13:34<14:36, 33.70s/it]"
     ]
    },
    {
     "name": "stdout",
     "output_type": "stream",
     "text": [
      "\n",
      "[23] GT: 8 | Votes: [] | Majority: N/A\n",
      "[Attempt 1] Error: Error code: 429 - {'error': {'message': 'Rate limit reached for model `llama3-70b-8192` in organization `org_01k1gtn3fcfkw95b53fvs24h2z` service tier `on_demand` on tokens per day (TPD): Limit 500000, Used 500064, Requested 606. Please try again in 1m55.9174s. Need more tokens? Upgrade to Dev Tier today at https://console.groq.com/settings/billing', 'type': 'tokens', 'code': 'rate_limit_exceeded'}}\n",
      "[Attempt 2] Error: Error code: 429 - {'error': {'message': 'Rate limit reached for model `llama3-70b-8192` in organization `org_01k1gtn3fcfkw95b53fvs24h2z` service tier `on_demand` on tokens per day (TPD): Limit 500000, Used 500057, Requested 606. Please try again in 1m54.673399999s. Need more tokens? Upgrade to Dev Tier today at https://console.groq.com/settings/billing', 'type': 'tokens', 'code': 'rate_limit_exceeded'}}\n",
      "[Attempt 3] Error: Error code: 429 - {'error': {'message': 'Rate limit reached for model `llama3-70b-8192` in organization `org_01k1gtn3fcfkw95b53fvs24h2z` service tier `on_demand` on tokens per day (TPD): Limit 500000, Used 500050, Requested 606. Please try again in 1m53.368399999s. Need more tokens? Upgrade to Dev Tier today at https://console.groq.com/settings/billing', 'type': 'tokens', 'code': 'rate_limit_exceeded'}}\n",
      "[Attempt 1] Error: Error code: 429 - {'error': {'message': 'Rate limit reached for model `llama3-70b-8192` in organization `org_01k1gtn3fcfkw95b53fvs24h2z` service tier `on_demand` on tokens per day (TPD): Limit 500000, Used 500043, Requested 606. Please try again in 1m52.1764s. Need more tokens? Upgrade to Dev Tier today at https://console.groq.com/settings/billing', 'type': 'tokens', 'code': 'rate_limit_exceeded'}}\n",
      "[Attempt 2] Error: Error code: 429 - {'error': {'message': 'Rate limit reached for model `llama3-70b-8192` in organization `org_01k1gtn3fcfkw95b53fvs24h2z` service tier `on_demand` on tokens per day (TPD): Limit 500000, Used 500035, Requested 606. Please try again in 1m50.9334s. Need more tokens? Upgrade to Dev Tier today at https://console.groq.com/settings/billing', 'type': 'tokens', 'code': 'rate_limit_exceeded'}}\n",
      "[Attempt 3] Error: Error code: 429 - {'error': {'message': 'Rate limit reached for model `llama3-70b-8192` in organization `org_01k1gtn3fcfkw95b53fvs24h2z` service tier `on_demand` on tokens per day (TPD): Limit 500000, Used 500028, Requested 606. Please try again in 1m49.698399999s. Need more tokens? Upgrade to Dev Tier today at https://console.groq.com/settings/billing', 'type': 'tokens', 'code': 'rate_limit_exceeded'}}\n",
      "[Attempt 1] Error: Error code: 429 - {'error': {'message': 'Rate limit reached for model `llama3-70b-8192` in organization `org_01k1gtn3fcfkw95b53fvs24h2z` service tier `on_demand` on tokens per day (TPD): Limit 500000, Used 500021, Requested 606. Please try again in 1m48.4154s. Need more tokens? Upgrade to Dev Tier today at https://console.groq.com/settings/billing', 'type': 'tokens', 'code': 'rate_limit_exceeded'}}\n",
      "[Attempt 2] Error: Error code: 429 - {'error': {'message': 'Rate limit reached for model `llama3-70b-8192` in organization `org_01k1gtn3fcfkw95b53fvs24h2z` service tier `on_demand` on tokens per day (TPD): Limit 500000, Used 500014, Requested 606. Please try again in 1m47.1994s. Need more tokens? Upgrade to Dev Tier today at https://console.groq.com/settings/billing', 'type': 'tokens', 'code': 'rate_limit_exceeded'}}\n",
      "[Attempt 3] Error: Error code: 429 - {'error': {'message': 'Rate limit reached for model `llama3-70b-8192` in organization `org_01k1gtn3fcfkw95b53fvs24h2z` service tier `on_demand` on tokens per day (TPD): Limit 500000, Used 500007, Requested 606. Please try again in 1m45.970399999s. Need more tokens? Upgrade to Dev Tier today at https://console.groq.com/settings/billing', 'type': 'tokens', 'code': 'rate_limit_exceeded'}}\n",
      "[Attempt 1] Error: Error code: 429 - {'error': {'message': 'Rate limit reached for model `llama3-70b-8192` in organization `org_01k1gtn3fcfkw95b53fvs24h2z` service tier `on_demand` on tokens per day (TPD): Limit 500000, Used 500000, Requested 606. Please try again in 1m44.7414s. Need more tokens? Upgrade to Dev Tier today at https://console.groq.com/settings/billing', 'type': 'tokens', 'code': 'rate_limit_exceeded'}}\n",
      "[Attempt 2] Error: Error code: 429 - {'error': {'message': 'Rate limit reached for model `llama3-70b-8192` in organization `org_01k1gtn3fcfkw95b53fvs24h2z` service tier `on_demand` on tokens per day (TPD): Limit 500000, Used 499994, Requested 606. Please try again in 1m43.5114s. Need more tokens? Upgrade to Dev Tier today at https://console.groq.com/settings/billing', 'type': 'tokens', 'code': 'rate_limit_exceeded'}}\n",
      "[Attempt 3] Error: Error code: 429 - {'error': {'message': 'Rate limit reached for model `llama3-70b-8192` in organization `org_01k1gtn3fcfkw95b53fvs24h2z` service tier `on_demand` on tokens per day (TPD): Limit 500000, Used 499986, Requested 606. Please try again in 1m42.280399999s. Need more tokens? Upgrade to Dev Tier today at https://console.groq.com/settings/billing', 'type': 'tokens', 'code': 'rate_limit_exceeded'}}\n",
      "[Attempt 1] Error: Error code: 429 - {'error': {'message': 'Rate limit reached for model `llama3-70b-8192` in organization `org_01k1gtn3fcfkw95b53fvs24h2z` service tier `on_demand` on tokens per day (TPD): Limit 500000, Used 499979, Requested 606. Please try again in 1m40.965399999s. Need more tokens? Upgrade to Dev Tier today at https://console.groq.com/settings/billing', 'type': 'tokens', 'code': 'rate_limit_exceeded'}}\n",
      "[Attempt 2] Error: Error code: 429 - {'error': {'message': 'Rate limit reached for model `llama3-70b-8192` in organization `org_01k1gtn3fcfkw95b53fvs24h2z` service tier `on_demand` on tokens per day (TPD): Limit 500000, Used 499972, Requested 606. Please try again in 1m39.7614s. Need more tokens? Upgrade to Dev Tier today at https://console.groq.com/settings/billing', 'type': 'tokens', 'code': 'rate_limit_exceeded'}}\n",
      "[Attempt 3] Error: Error code: 429 - {'error': {'message': 'Rate limit reached for model `llama3-70b-8192` in organization `org_01k1gtn3fcfkw95b53fvs24h2z` service tier `on_demand` on tokens per day (TPD): Limit 500000, Used 499965, Requested 606. Please try again in 1m38.504399999s. Need more tokens? Upgrade to Dev Tier today at https://console.groq.com/settings/billing', 'type': 'tokens', 'code': 'rate_limit_exceeded'}}\n"
     ]
    },
    {
     "name": "stderr",
     "output_type": "stream",
     "text": [
      " 50%|█████     | 25/50 [13:53<12:12, 29.31s/it]"
     ]
    },
    {
     "name": "stdout",
     "output_type": "stream",
     "text": [
      "\n",
      "[24] GT: 26 | Votes: [] | Majority: N/A\n",
      "[Attempt 1] Error: Error code: 429 - {'error': {'message': 'Rate limit reached for model `llama3-70b-8192` in organization `org_01k1gtn3fcfkw95b53fvs24h2z` service tier `on_demand` on tokens per day (TPD): Limit 500000, Used 499957, Requested 627. Please try again in 1m40.8742s. Need more tokens? Upgrade to Dev Tier today at https://console.groq.com/settings/billing', 'type': 'tokens', 'code': 'rate_limit_exceeded'}}\n",
      "[Attempt 2] Error: Error code: 429 - {'error': {'message': 'Rate limit reached for model `llama3-70b-8192` in organization `org_01k1gtn3fcfkw95b53fvs24h2z` service tier `on_demand` on tokens per day (TPD): Limit 500000, Used 499950, Requested 627. Please try again in 1m39.606199999s. Need more tokens? Upgrade to Dev Tier today at https://console.groq.com/settings/billing', 'type': 'tokens', 'code': 'rate_limit_exceeded'}}\n",
      "[Attempt 3] Error: Error code: 429 - {'error': {'message': 'Rate limit reached for model `llama3-70b-8192` in organization `org_01k1gtn3fcfkw95b53fvs24h2z` service tier `on_demand` on tokens per day (TPD): Limit 500000, Used 499943, Requested 627. Please try again in 1m38.4112s. Need more tokens? Upgrade to Dev Tier today at https://console.groq.com/settings/billing', 'type': 'tokens', 'code': 'rate_limit_exceeded'}}\n",
      "[Attempt 1] Error: Error code: 429 - {'error': {'message': 'Rate limit reached for model `llama3-70b-8192` in organization `org_01k1gtn3fcfkw95b53fvs24h2z` service tier `on_demand` on tokens per day (TPD): Limit 500000, Used 499935, Requested 627. Please try again in 1m37.1122s. Need more tokens? Upgrade to Dev Tier today at https://console.groq.com/settings/billing', 'type': 'tokens', 'code': 'rate_limit_exceeded'}}\n",
      "[Attempt 2] Error: Error code: 429 - {'error': {'message': 'Rate limit reached for model `llama3-70b-8192` in organization `org_01k1gtn3fcfkw95b53fvs24h2z` service tier `on_demand` on tokens per day (TPD): Limit 500000, Used 499929, Requested 627. Please try again in 1m35.9162s. Need more tokens? Upgrade to Dev Tier today at https://console.groq.com/settings/billing', 'type': 'tokens', 'code': 'rate_limit_exceeded'}}\n",
      "[Attempt 3] Error: Error code: 429 - {'error': {'message': 'Rate limit reached for model `llama3-70b-8192` in organization `org_01k1gtn3fcfkw95b53fvs24h2z` service tier `on_demand` on tokens per day (TPD): Limit 500000, Used 499922, Requested 627. Please try again in 1m34.719199999s. Need more tokens? Upgrade to Dev Tier today at https://console.groq.com/settings/billing', 'type': 'tokens', 'code': 'rate_limit_exceeded'}}\n",
      "[Attempt 1] Error: Error code: 429 - {'error': {'message': 'Rate limit reached for model `llama3-70b-8192` in organization `org_01k1gtn3fcfkw95b53fvs24h2z` service tier `on_demand` on tokens per day (TPD): Limit 500000, Used 499915, Requested 627. Please try again in 1m33.520199999s. Need more tokens? Upgrade to Dev Tier today at https://console.groq.com/settings/billing', 'type': 'tokens', 'code': 'rate_limit_exceeded'}}\n",
      "[Attempt 2] Error: Error code: 429 - {'error': {'message': 'Rate limit reached for model `llama3-70b-8192` in organization `org_01k1gtn3fcfkw95b53fvs24h2z` service tier `on_demand` on tokens per day (TPD): Limit 500000, Used 499908, Requested 627. Please try again in 1m32.3022s. Need more tokens? Upgrade to Dev Tier today at https://console.groq.com/settings/billing', 'type': 'tokens', 'code': 'rate_limit_exceeded'}}\n",
      "[Attempt 3] Error: Error code: 429 - {'error': {'message': 'Rate limit reached for model `llama3-70b-8192` in organization `org_01k1gtn3fcfkw95b53fvs24h2z` service tier `on_demand` on tokens per day (TPD): Limit 500000, Used 499901, Requested 627. Please try again in 1m31.096199999s. Need more tokens? Upgrade to Dev Tier today at https://console.groq.com/settings/billing', 'type': 'tokens', 'code': 'rate_limit_exceeded'}}\n",
      "[Attempt 1] Error: Error code: 429 - {'error': {'message': 'Rate limit reached for model `llama3-70b-8192` in organization `org_01k1gtn3fcfkw95b53fvs24h2z` service tier `on_demand` on tokens per day (TPD): Limit 500000, Used 499894, Requested 627. Please try again in 1m29.8852s. Need more tokens? Upgrade to Dev Tier today at https://console.groq.com/settings/billing', 'type': 'tokens', 'code': 'rate_limit_exceeded'}}\n",
      "[Attempt 2] Error: Error code: 429 - {'error': {'message': 'Rate limit reached for model `llama3-70b-8192` in organization `org_01k1gtn3fcfkw95b53fvs24h2z` service tier `on_demand` on tokens per day (TPD): Limit 500000, Used 499887, Requested 627. Please try again in 1m28.690199999s. Need more tokens? Upgrade to Dev Tier today at https://console.groq.com/settings/billing', 'type': 'tokens', 'code': 'rate_limit_exceeded'}}\n",
      "[Attempt 3] Error: Error code: 429 - {'error': {'message': 'Rate limit reached for model `llama3-70b-8192` in organization `org_01k1gtn3fcfkw95b53fvs24h2z` service tier `on_demand` on tokens per day (TPD): Limit 500000, Used 499880, Requested 627. Please try again in 1m27.4802s. Need more tokens? Upgrade to Dev Tier today at https://console.groq.com/settings/billing', 'type': 'tokens', 'code': 'rate_limit_exceeded'}}\n",
      "[Attempt 1] Error: Error code: 429 - {'error': {'message': 'Rate limit reached for model `llama3-70b-8192` in organization `org_01k1gtn3fcfkw95b53fvs24h2z` service tier `on_demand` on tokens per day (TPD): Limit 500000, Used 499873, Requested 627. Please try again in 1m26.282199999s. Need more tokens? Upgrade to Dev Tier today at https://console.groq.com/settings/billing', 'type': 'tokens', 'code': 'rate_limit_exceeded'}}\n",
      "[Attempt 2] Error: Error code: 429 - {'error': {'message': 'Rate limit reached for model `llama3-70b-8192` in organization `org_01k1gtn3fcfkw95b53fvs24h2z` service tier `on_demand` on tokens per day (TPD): Limit 500000, Used 499866, Requested 627. Please try again in 1m25.0742s. Need more tokens? Upgrade to Dev Tier today at https://console.groq.com/settings/billing', 'type': 'tokens', 'code': 'rate_limit_exceeded'}}\n",
      "[Attempt 3] Error: Error code: 429 - {'error': {'message': 'Rate limit reached for model `llama3-70b-8192` in organization `org_01k1gtn3fcfkw95b53fvs24h2z` service tier `on_demand` on tokens per day (TPD): Limit 500000, Used 499859, Requested 627. Please try again in 1m23.8692s. Need more tokens? Upgrade to Dev Tier today at https://console.groq.com/settings/billing', 'type': 'tokens', 'code': 'rate_limit_exceeded'}}\n"
     ]
    },
    {
     "name": "stderr",
     "output_type": "stream",
     "text": [
      " 52%|█████▏    | 26/50 [14:11<10:26, 26.11s/it]"
     ]
    },
    {
     "name": "stdout",
     "output_type": "stream",
     "text": [
      "\n",
      "[25] GT: 2 | Votes: [] | Majority: N/A\n",
      "[Attempt 1] Error: Error code: 429 - {'error': {'message': 'Rate limit reached for model `llama3-70b-8192` in organization `org_01k1gtn3fcfkw95b53fvs24h2z` service tier `on_demand` on tokens per day (TPD): Limit 500000, Used 499852, Requested 627. Please try again in 1m22.672199999s. Need more tokens? Upgrade to Dev Tier today at https://console.groq.com/settings/billing', 'type': 'tokens', 'code': 'rate_limit_exceeded'}}\n",
      "[Attempt 2] Error: Error code: 429 - {'error': {'message': 'Rate limit reached for model `llama3-70b-8192` in organization `org_01k1gtn3fcfkw95b53fvs24h2z` service tier `on_demand` on tokens per day (TPD): Limit 500000, Used 499845, Requested 627. Please try again in 1m21.4372s. Need more tokens? Upgrade to Dev Tier today at https://console.groq.com/settings/billing', 'type': 'tokens', 'code': 'rate_limit_exceeded'}}\n",
      "[Attempt 3] Error: Error code: 429 - {'error': {'message': 'Rate limit reached for model `llama3-70b-8192` in organization `org_01k1gtn3fcfkw95b53fvs24h2z` service tier `on_demand` on tokens per day (TPD): Limit 500000, Used 499838, Requested 627. Please try again in 1m20.2422s. Need more tokens? Upgrade to Dev Tier today at https://console.groq.com/settings/billing', 'type': 'tokens', 'code': 'rate_limit_exceeded'}}\n",
      "[Attempt 1] Error: Error code: 429 - {'error': {'message': 'Rate limit reached for model `llama3-70b-8192` in organization `org_01k1gtn3fcfkw95b53fvs24h2z` service tier `on_demand` on tokens per day (TPD): Limit 500000, Used 499831, Requested 627. Please try again in 1m19.0442s. Need more tokens? Upgrade to Dev Tier today at https://console.groq.com/settings/billing', 'type': 'tokens', 'code': 'rate_limit_exceeded'}}\n",
      "[Attempt 2] Error: Error code: 429 - {'error': {'message': 'Rate limit reached for model `llama3-70b-8192` in organization `org_01k1gtn3fcfkw95b53fvs24h2z` service tier `on_demand` on tokens per day (TPD): Limit 500000, Used 499824, Requested 627. Please try again in 1m17.7632s. Need more tokens? Upgrade to Dev Tier today at https://console.groq.com/settings/billing', 'type': 'tokens', 'code': 'rate_limit_exceeded'}}\n",
      "[Attempt 3] Error: Error code: 429 - {'error': {'message': 'Rate limit reached for model `llama3-70b-8192` in organization `org_01k1gtn3fcfkw95b53fvs24h2z` service tier `on_demand` on tokens per day (TPD): Limit 500000, Used 499816, Requested 627. Please try again in 1m16.5302s. Need more tokens? Upgrade to Dev Tier today at https://console.groq.com/settings/billing', 'type': 'tokens', 'code': 'rate_limit_exceeded'}}\n",
      "[Attempt 1] Error: Error code: 429 - {'error': {'message': 'Rate limit reached for model `llama3-70b-8192` in organization `org_01k1gtn3fcfkw95b53fvs24h2z` service tier `on_demand` on tokens per day (TPD): Limit 500000, Used 499809, Requested 627. Please try again in 1m15.3022s. Need more tokens? Upgrade to Dev Tier today at https://console.groq.com/settings/billing', 'type': 'tokens', 'code': 'rate_limit_exceeded'}}\n",
      "[Attempt 2] Error: Error code: 429 - {'error': {'message': 'Rate limit reached for model `llama3-70b-8192` in organization `org_01k1gtn3fcfkw95b53fvs24h2z` service tier `on_demand` on tokens per day (TPD): Limit 500000, Used 499802, Requested 627. Please try again in 1m14.0702s. Need more tokens? Upgrade to Dev Tier today at https://console.groq.com/settings/billing', 'type': 'tokens', 'code': 'rate_limit_exceeded'}}\n",
      "[Attempt 3] Error: Error code: 429 - {'error': {'message': 'Rate limit reached for model `llama3-70b-8192` in organization `org_01k1gtn3fcfkw95b53fvs24h2z` service tier `on_demand` on tokens per day (TPD): Limit 500000, Used 499795, Requested 627. Please try again in 1m12.8732s. Need more tokens? Upgrade to Dev Tier today at https://console.groq.com/settings/billing', 'type': 'tokens', 'code': 'rate_limit_exceeded'}}\n",
      "[Attempt 1] Error: Error code: 429 - {'error': {'message': 'Rate limit reached for model `llama3-70b-8192` in organization `org_01k1gtn3fcfkw95b53fvs24h2z` service tier `on_demand` on tokens per day (TPD): Limit 500000, Used 499788, Requested 627. Please try again in 1m11.6002s. Need more tokens? Upgrade to Dev Tier today at https://console.groq.com/settings/billing', 'type': 'tokens', 'code': 'rate_limit_exceeded'}}\n",
      "[Attempt 2] Error: Error code: 429 - {'error': {'message': 'Rate limit reached for model `llama3-70b-8192` in organization `org_01k1gtn3fcfkw95b53fvs24h2z` service tier `on_demand` on tokens per day (TPD): Limit 500000, Used 499781, Requested 627. Please try again in 1m10.3752s. Need more tokens? Upgrade to Dev Tier today at https://console.groq.com/settings/billing', 'type': 'tokens', 'code': 'rate_limit_exceeded'}}\n",
      "[Attempt 3] Error: Error code: 429 - {'error': {'message': 'Rate limit reached for model `llama3-70b-8192` in organization `org_01k1gtn3fcfkw95b53fvs24h2z` service tier `on_demand` on tokens per day (TPD): Limit 500000, Used 499774, Requested 627. Please try again in 1m9.1562s. Need more tokens? Upgrade to Dev Tier today at https://console.groq.com/settings/billing', 'type': 'tokens', 'code': 'rate_limit_exceeded'}}\n",
      "[Attempt 1] Error: Error code: 429 - {'error': {'message': 'Rate limit reached for model `llama3-70b-8192` in organization `org_01k1gtn3fcfkw95b53fvs24h2z` service tier `on_demand` on tokens per day (TPD): Limit 500000, Used 499767, Requested 627. Please try again in 1m7.917199999s. Need more tokens? Upgrade to Dev Tier today at https://console.groq.com/settings/billing', 'type': 'tokens', 'code': 'rate_limit_exceeded'}}\n",
      "[Attempt 2] Error: Error code: 429 - {'error': {'message': 'Rate limit reached for model `llama3-70b-8192` in organization `org_01k1gtn3fcfkw95b53fvs24h2z` service tier `on_demand` on tokens per day (TPD): Limit 500000, Used 499759, Requested 627. Please try again in 1m6.6892s. Need more tokens? Upgrade to Dev Tier today at https://console.groq.com/settings/billing', 'type': 'tokens', 'code': 'rate_limit_exceeded'}}\n",
      "[Attempt 3] Error: Error code: 429 - {'error': {'message': 'Rate limit reached for model `llama3-70b-8192` in organization `org_01k1gtn3fcfkw95b53fvs24h2z` service tier `on_demand` on tokens per day (TPD): Limit 500000, Used 499752, Requested 627. Please try again in 1m5.440199999s. Need more tokens? Upgrade to Dev Tier today at https://console.groq.com/settings/billing', 'type': 'tokens', 'code': 'rate_limit_exceeded'}}\n"
     ]
    },
    {
     "name": "stderr",
     "output_type": "stream",
     "text": [
      " 54%|█████▍    | 27/50 [14:29<09:04, 23.66s/it]"
     ]
    },
    {
     "name": "stdout",
     "output_type": "stream",
     "text": [
      "\n",
      "[26] GT: 243 | Votes: [] | Majority: N/A\n",
      "[Attempt 1] Error: Error code: 429 - {'error': {'message': 'Rate limit reached for model `llama3-70b-8192` in organization `org_01k1gtn3fcfkw95b53fvs24h2z` service tier `on_demand` on tokens per day (TPD): Limit 500000, Used 499745, Requested 621. Please try again in 1m3.0924s. Need more tokens? Upgrade to Dev Tier today at https://console.groq.com/settings/billing', 'type': 'tokens', 'code': 'rate_limit_exceeded'}}\n",
      "[Attempt 2] Error: Error code: 429 - {'error': {'message': 'Rate limit reached for model `llama3-70b-8192` in organization `org_01k1gtn3fcfkw95b53fvs24h2z` service tier `on_demand` on tokens per day (TPD): Limit 500000, Used 499738, Requested 621. Please try again in 1m1.8684s. Need more tokens? Upgrade to Dev Tier today at https://console.groq.com/settings/billing', 'type': 'tokens', 'code': 'rate_limit_exceeded'}}\n",
      "[Attempt 3] Error: Error code: 429 - {'error': {'message': 'Rate limit reached for model `llama3-70b-8192` in organization `org_01k1gtn3fcfkw95b53fvs24h2z` service tier `on_demand` on tokens per day (TPD): Limit 500000, Used 499731, Requested 621. Please try again in 1m0.6744s. Need more tokens? Upgrade to Dev Tier today at https://console.groq.com/settings/billing', 'type': 'tokens', 'code': 'rate_limit_exceeded'}}\n"
     ]
    },
    {
     "name": "stderr",
     "output_type": "stream",
     "text": [
      " 54%|█████▍    | 27/50 [15:05<12:51, 33.55s/it]\n"
     ]
    },
    {
     "ename": "KeyboardInterrupt",
     "evalue": "",
     "output_type": "error",
     "traceback": [
      "\u001b[31m---------------------------------------------------------------------------\u001b[39m",
      "\u001b[31mHTTPStatusError\u001b[39m                           Traceback (most recent call last)",
      "\u001b[36mFile \u001b[39m\u001b[32m~/miniconda3/envs/myenv/lib/python3.11/site-packages/groq/_base_client.py:1014\u001b[39m, in \u001b[36mSyncAPIClient.request\u001b[39m\u001b[34m(self, cast_to, options, stream, stream_cls)\u001b[39m\n\u001b[32m   1013\u001b[39m \u001b[38;5;28;01mtry\u001b[39;00m:\n\u001b[32m-> \u001b[39m\u001b[32m1014\u001b[39m     response.raise_for_status()\n\u001b[32m   1015\u001b[39m \u001b[38;5;28;01mexcept\u001b[39;00m httpx.HTTPStatusError \u001b[38;5;28;01mas\u001b[39;00m err:  \u001b[38;5;66;03m# thrown on 4xx and 5xx status code\u001b[39;00m\n",
      "\u001b[36mFile \u001b[39m\u001b[32m~/miniconda3/envs/myenv/lib/python3.11/site-packages/httpx/_models.py:829\u001b[39m, in \u001b[36mResponse.raise_for_status\u001b[39m\u001b[34m(self)\u001b[39m\n\u001b[32m    828\u001b[39m message = message.format(\u001b[38;5;28mself\u001b[39m, error_type=error_type)\n\u001b[32m--> \u001b[39m\u001b[32m829\u001b[39m \u001b[38;5;28;01mraise\u001b[39;00m HTTPStatusError(message, request=request, response=\u001b[38;5;28mself\u001b[39m)\n",
      "\u001b[31mHTTPStatusError\u001b[39m: Client error '429 Too Many Requests' for url 'https://api.groq.com/openai/v1/chat/completions'\nFor more information check: https://developer.mozilla.org/en-US/docs/Web/HTTP/Status/429",
      "\nDuring handling of the above exception, another exception occurred:\n",
      "\u001b[31mKeyboardInterrupt\u001b[39m                         Traceback (most recent call last)",
      "\u001b[36mCell\u001b[39m\u001b[36m \u001b[39m\u001b[32mIn[34]\u001b[39m\u001b[32m, line 40\u001b[39m\n\u001b[32m     36\u001b[39m \u001b[38;5;66;03m#5-shot\u001b[39;00m\n\u001b[32m     39\u001b[39m prompt_template = construct_CoT_prompt(\u001b[32m5\u001b[39m)  \u001b[38;5;66;03m# CoT prompt\u001b[39;00m\n\u001b[32m---> \u001b[39m\u001b[32m40\u001b[39m results, acc = run_sc_benchmark_test(\n\u001b[32m     41\u001b[39m     dataset=gsm8k_test,\n\u001b[32m     42\u001b[39m     prompt_template=prompt_template,\n\u001b[32m     43\u001b[39m     num_samples=\u001b[32m50\u001b[39m,\n\u001b[32m     44\u001b[39m     num_generations=\u001b[32m5\u001b[39m,  \u001b[38;5;66;03m# self-consistency 횟수\u001b[39;00m\n\u001b[32m     45\u001b[39m     VERBOSE=\u001b[38;5;28;01mTrue\u001b[39;00m\n\u001b[32m     46\u001b[39m )\n\u001b[32m     47\u001b[39m save_final_result(results, acc, \u001b[33m\"\u001b[39m\u001b[33mmy_prompting_5.txt\u001b[39m\u001b[33m\"\u001b[39m)\n",
      "\u001b[36mCell\u001b[39m\u001b[36m \u001b[39m\u001b[32mIn[32]\u001b[39m\u001b[32m, line 53\u001b[39m, in \u001b[36mrun_sc_benchmark_test\u001b[39m\u001b[34m(dataset, prompt_template, num_samples, num_generations, VERBOSE)\u001b[39m\n\u001b[32m     51\u001b[39m \u001b[38;5;28;01mfor\u001b[39;00m attempt \u001b[38;5;129;01min\u001b[39;00m \u001b[38;5;28mrange\u001b[39m(\u001b[32m3\u001b[39m):\n\u001b[32m     52\u001b[39m     \u001b[38;5;28;01mtry\u001b[39;00m:\n\u001b[32m---> \u001b[39m\u001b[32m53\u001b[39m         response = client.chat.completions.create(\n\u001b[32m     54\u001b[39m             model=\u001b[33m\"\u001b[39m\u001b[33mllama3-70b-8192\u001b[39m\u001b[33m\"\u001b[39m,\n\u001b[32m     55\u001b[39m             messages=[{\u001b[33m\"\u001b[39m\u001b[33mrole\u001b[39m\u001b[33m\"\u001b[39m: \u001b[33m\"\u001b[39m\u001b[33muser\u001b[39m\u001b[33m\"\u001b[39m, \u001b[33m\"\u001b[39m\u001b[33mcontent\u001b[39m\u001b[33m\"\u001b[39m: prompt}],\n\u001b[32m     56\u001b[39m             temperature=\u001b[32m1.0\u001b[39m\n\u001b[32m     57\u001b[39m         )\n\u001b[32m     58\u001b[39m         output = response.choices[\u001b[32m0\u001b[39m].message.content.strip()\n\u001b[32m     59\u001b[39m         generations.append(output)\n",
      "\u001b[36mFile \u001b[39m\u001b[32m~/miniconda3/envs/myenv/lib/python3.11/site-packages/groq/resources/chat/completions.py:368\u001b[39m, in \u001b[36mCompletions.create\u001b[39m\u001b[34m(self, messages, model, exclude_domains, frequency_penalty, function_call, functions, include_domains, logit_bias, logprobs, max_completion_tokens, max_tokens, metadata, n, parallel_tool_calls, presence_penalty, reasoning_effort, reasoning_format, response_format, search_settings, seed, service_tier, stop, store, stream, temperature, tool_choice, tools, top_logprobs, top_p, user, extra_headers, extra_query, extra_body, timeout)\u001b[39m\n\u001b[32m    181\u001b[39m \u001b[38;5;28;01mdef\u001b[39;00m\u001b[38;5;250m \u001b[39m\u001b[34mcreate\u001b[39m(\n\u001b[32m    182\u001b[39m     \u001b[38;5;28mself\u001b[39m,\n\u001b[32m    183\u001b[39m     *,\n\u001b[32m   (...)\u001b[39m\u001b[32m    229\u001b[39m     timeout: \u001b[38;5;28mfloat\u001b[39m | httpx.Timeout | \u001b[38;5;28;01mNone\u001b[39;00m | NotGiven = NOT_GIVEN,\n\u001b[32m    230\u001b[39m ) -> ChatCompletion | Stream[ChatCompletionChunk]:\n\u001b[32m    231\u001b[39m \u001b[38;5;250m    \u001b[39m\u001b[33;03m\"\"\"\u001b[39;00m\n\u001b[32m    232\u001b[39m \u001b[33;03m    Creates a model response for the given chat conversation.\u001b[39;00m\n\u001b[32m    233\u001b[39m \n\u001b[32m   (...)\u001b[39m\u001b[32m    366\u001b[39m \u001b[33;03m      timeout: Override the client-level default timeout for this request, in seconds\u001b[39;00m\n\u001b[32m    367\u001b[39m \u001b[33;03m    \"\"\"\u001b[39;00m\n\u001b[32m--> \u001b[39m\u001b[32m368\u001b[39m     \u001b[38;5;28;01mreturn\u001b[39;00m \u001b[38;5;28mself\u001b[39m._post(\n\u001b[32m    369\u001b[39m         \u001b[33m\"\u001b[39m\u001b[33m/openai/v1/chat/completions\u001b[39m\u001b[33m\"\u001b[39m,\n\u001b[32m    370\u001b[39m         body=maybe_transform(\n\u001b[32m    371\u001b[39m             {\n\u001b[32m    372\u001b[39m                 \u001b[33m\"\u001b[39m\u001b[33mmessages\u001b[39m\u001b[33m\"\u001b[39m: messages,\n\u001b[32m    373\u001b[39m                 \u001b[33m\"\u001b[39m\u001b[33mmodel\u001b[39m\u001b[33m\"\u001b[39m: model,\n\u001b[32m    374\u001b[39m                 \u001b[33m\"\u001b[39m\u001b[33mexclude_domains\u001b[39m\u001b[33m\"\u001b[39m: exclude_domains,\n\u001b[32m    375\u001b[39m                 \u001b[33m\"\u001b[39m\u001b[33mfrequency_penalty\u001b[39m\u001b[33m\"\u001b[39m: frequency_penalty,\n\u001b[32m    376\u001b[39m                 \u001b[33m\"\u001b[39m\u001b[33mfunction_call\u001b[39m\u001b[33m\"\u001b[39m: function_call,\n\u001b[32m    377\u001b[39m                 \u001b[33m\"\u001b[39m\u001b[33mfunctions\u001b[39m\u001b[33m\"\u001b[39m: functions,\n\u001b[32m    378\u001b[39m                 \u001b[33m\"\u001b[39m\u001b[33minclude_domains\u001b[39m\u001b[33m\"\u001b[39m: include_domains,\n\u001b[32m    379\u001b[39m                 \u001b[33m\"\u001b[39m\u001b[33mlogit_bias\u001b[39m\u001b[33m\"\u001b[39m: logit_bias,\n\u001b[32m    380\u001b[39m                 \u001b[33m\"\u001b[39m\u001b[33mlogprobs\u001b[39m\u001b[33m\"\u001b[39m: logprobs,\n\u001b[32m    381\u001b[39m                 \u001b[33m\"\u001b[39m\u001b[33mmax_completion_tokens\u001b[39m\u001b[33m\"\u001b[39m: max_completion_tokens,\n\u001b[32m    382\u001b[39m                 \u001b[33m\"\u001b[39m\u001b[33mmax_tokens\u001b[39m\u001b[33m\"\u001b[39m: max_tokens,\n\u001b[32m    383\u001b[39m                 \u001b[33m\"\u001b[39m\u001b[33mmetadata\u001b[39m\u001b[33m\"\u001b[39m: metadata,\n\u001b[32m    384\u001b[39m                 \u001b[33m\"\u001b[39m\u001b[33mn\u001b[39m\u001b[33m\"\u001b[39m: n,\n\u001b[32m    385\u001b[39m                 \u001b[33m\"\u001b[39m\u001b[33mparallel_tool_calls\u001b[39m\u001b[33m\"\u001b[39m: parallel_tool_calls,\n\u001b[32m    386\u001b[39m                 \u001b[33m\"\u001b[39m\u001b[33mpresence_penalty\u001b[39m\u001b[33m\"\u001b[39m: presence_penalty,\n\u001b[32m    387\u001b[39m                 \u001b[33m\"\u001b[39m\u001b[33mreasoning_effort\u001b[39m\u001b[33m\"\u001b[39m: reasoning_effort,\n\u001b[32m    388\u001b[39m                 \u001b[33m\"\u001b[39m\u001b[33mreasoning_format\u001b[39m\u001b[33m\"\u001b[39m: reasoning_format,\n\u001b[32m    389\u001b[39m                 \u001b[33m\"\u001b[39m\u001b[33mresponse_format\u001b[39m\u001b[33m\"\u001b[39m: response_format,\n\u001b[32m    390\u001b[39m                 \u001b[33m\"\u001b[39m\u001b[33msearch_settings\u001b[39m\u001b[33m\"\u001b[39m: search_settings,\n\u001b[32m    391\u001b[39m                 \u001b[33m\"\u001b[39m\u001b[33mseed\u001b[39m\u001b[33m\"\u001b[39m: seed,\n\u001b[32m    392\u001b[39m                 \u001b[33m\"\u001b[39m\u001b[33mservice_tier\u001b[39m\u001b[33m\"\u001b[39m: service_tier,\n\u001b[32m    393\u001b[39m                 \u001b[33m\"\u001b[39m\u001b[33mstop\u001b[39m\u001b[33m\"\u001b[39m: stop,\n\u001b[32m    394\u001b[39m                 \u001b[33m\"\u001b[39m\u001b[33mstore\u001b[39m\u001b[33m\"\u001b[39m: store,\n\u001b[32m    395\u001b[39m                 \u001b[33m\"\u001b[39m\u001b[33mstream\u001b[39m\u001b[33m\"\u001b[39m: stream,\n\u001b[32m    396\u001b[39m                 \u001b[33m\"\u001b[39m\u001b[33mtemperature\u001b[39m\u001b[33m\"\u001b[39m: temperature,\n\u001b[32m    397\u001b[39m                 \u001b[33m\"\u001b[39m\u001b[33mtool_choice\u001b[39m\u001b[33m\"\u001b[39m: tool_choice,\n\u001b[32m    398\u001b[39m                 \u001b[33m\"\u001b[39m\u001b[33mtools\u001b[39m\u001b[33m\"\u001b[39m: tools,\n\u001b[32m    399\u001b[39m                 \u001b[33m\"\u001b[39m\u001b[33mtop_logprobs\u001b[39m\u001b[33m\"\u001b[39m: top_logprobs,\n\u001b[32m    400\u001b[39m                 \u001b[33m\"\u001b[39m\u001b[33mtop_p\u001b[39m\u001b[33m\"\u001b[39m: top_p,\n\u001b[32m    401\u001b[39m                 \u001b[33m\"\u001b[39m\u001b[33muser\u001b[39m\u001b[33m\"\u001b[39m: user,\n\u001b[32m    402\u001b[39m             },\n\u001b[32m    403\u001b[39m             completion_create_params.CompletionCreateParams,\n\u001b[32m    404\u001b[39m         ),\n\u001b[32m    405\u001b[39m         options=make_request_options(\n\u001b[32m    406\u001b[39m             extra_headers=extra_headers, extra_query=extra_query, extra_body=extra_body, timeout=timeout\n\u001b[32m    407\u001b[39m         ),\n\u001b[32m    408\u001b[39m         cast_to=ChatCompletion,\n\u001b[32m    409\u001b[39m         stream=stream \u001b[38;5;129;01mor\u001b[39;00m \u001b[38;5;28;01mFalse\u001b[39;00m,\n\u001b[32m    410\u001b[39m         stream_cls=Stream[ChatCompletionChunk],\n\u001b[32m    411\u001b[39m     )\n",
      "\u001b[36mFile \u001b[39m\u001b[32m~/miniconda3/envs/myenv/lib/python3.11/site-packages/groq/_base_client.py:1232\u001b[39m, in \u001b[36mSyncAPIClient.post\u001b[39m\u001b[34m(self, path, cast_to, body, options, files, stream, stream_cls)\u001b[39m\n\u001b[32m   1218\u001b[39m \u001b[38;5;28;01mdef\u001b[39;00m\u001b[38;5;250m \u001b[39m\u001b[34mpost\u001b[39m(\n\u001b[32m   1219\u001b[39m     \u001b[38;5;28mself\u001b[39m,\n\u001b[32m   1220\u001b[39m     path: \u001b[38;5;28mstr\u001b[39m,\n\u001b[32m   (...)\u001b[39m\u001b[32m   1227\u001b[39m     stream_cls: \u001b[38;5;28mtype\u001b[39m[_StreamT] | \u001b[38;5;28;01mNone\u001b[39;00m = \u001b[38;5;28;01mNone\u001b[39;00m,\n\u001b[32m   1228\u001b[39m ) -> ResponseT | _StreamT:\n\u001b[32m   1229\u001b[39m     opts = FinalRequestOptions.construct(\n\u001b[32m   1230\u001b[39m         method=\u001b[33m\"\u001b[39m\u001b[33mpost\u001b[39m\u001b[33m\"\u001b[39m, url=path, json_data=body, files=to_httpx_files(files), **options\n\u001b[32m   1231\u001b[39m     )\n\u001b[32m-> \u001b[39m\u001b[32m1232\u001b[39m     \u001b[38;5;28;01mreturn\u001b[39;00m cast(ResponseT, \u001b[38;5;28mself\u001b[39m.request(cast_to, opts, stream=stream, stream_cls=stream_cls))\n",
      "\u001b[36mFile \u001b[39m\u001b[32m~/miniconda3/envs/myenv/lib/python3.11/site-packages/groq/_base_client.py:1020\u001b[39m, in \u001b[36mSyncAPIClient.request\u001b[39m\u001b[34m(self, cast_to, options, stream, stream_cls)\u001b[39m\n\u001b[32m   1018\u001b[39m \u001b[38;5;28;01mif\u001b[39;00m remaining_retries > \u001b[32m0\u001b[39m \u001b[38;5;129;01mand\u001b[39;00m \u001b[38;5;28mself\u001b[39m._should_retry(err.response):\n\u001b[32m   1019\u001b[39m     err.response.close()\n\u001b[32m-> \u001b[39m\u001b[32m1020\u001b[39m     \u001b[38;5;28mself\u001b[39m._sleep_for_retry(\n\u001b[32m   1021\u001b[39m         retries_taken=retries_taken,\n\u001b[32m   1022\u001b[39m         max_retries=max_retries,\n\u001b[32m   1023\u001b[39m         options=input_options,\n\u001b[32m   1024\u001b[39m         response=response,\n\u001b[32m   1025\u001b[39m     )\n\u001b[32m   1026\u001b[39m     \u001b[38;5;28;01mcontinue\u001b[39;00m\n\u001b[32m   1028\u001b[39m \u001b[38;5;66;03m# If the response is streamed then we need to explicitly read the response\u001b[39;00m\n\u001b[32m   1029\u001b[39m \u001b[38;5;66;03m# to completion before attempting to access the response text.\u001b[39;00m\n",
      "\u001b[36mFile \u001b[39m\u001b[32m~/miniconda3/envs/myenv/lib/python3.11/site-packages/groq/_base_client.py:1060\u001b[39m, in \u001b[36mSyncAPIClient._sleep_for_retry\u001b[39m\u001b[34m(self, retries_taken, max_retries, options, response)\u001b[39m\n\u001b[32m   1057\u001b[39m timeout = \u001b[38;5;28mself\u001b[39m._calculate_retry_timeout(remaining_retries, options, response.headers \u001b[38;5;28;01mif\u001b[39;00m response \u001b[38;5;28;01melse\u001b[39;00m \u001b[38;5;28;01mNone\u001b[39;00m)\n\u001b[32m   1058\u001b[39m log.info(\u001b[33m\"\u001b[39m\u001b[33mRetrying request to \u001b[39m\u001b[38;5;132;01m%s\u001b[39;00m\u001b[33m in \u001b[39m\u001b[38;5;132;01m%f\u001b[39;00m\u001b[33m seconds\u001b[39m\u001b[33m\"\u001b[39m, options.url, timeout)\n\u001b[32m-> \u001b[39m\u001b[32m1060\u001b[39m time.sleep(timeout)\n",
      "\u001b[31mKeyboardInterrupt\u001b[39m: "
     ]
    }
   ],
   "source": [
    "# TODO: 만든 0 shot, 3 shot, 5 shot example과 프롬프트를 통해 벤치마크 테스트를 한 후, 각각 My_prompting_{shot: int}.txt로 저장해주세요!\n",
    "# 예시: shot이 5인 경우 My_prompting_5.txt\n",
    "# 항상 num_samples=50 입니다!\n",
    "\n",
    "\n",
    "#0-shot\n",
    "\n",
    "\n",
    "prompt_template = construct_CoT_prompt(0)  # 0CoT prompt\n",
    "results, acc = run_sc_benchmark_test(\n",
    "    dataset=gsm8k_test,\n",
    "    prompt_template=prompt_template,\n",
    "    num_samples=50,\n",
    "    num_generations=5,  # self-consistency 횟수\n",
    "    VERBOSE=True\n",
    ")\n",
    "save_final_result(results, acc, \"my_prompting_0.txt\")\n",
    "\n"
   ]
  },
  {
   "cell_type": "code",
   "execution_count": null,
   "id": "962b5a9e",
   "metadata": {},
   "outputs": [],
   "source": [
    "\n",
    "#3-shot\n",
    "\n",
    "\n",
    "\n",
    "prompt_template = construct_CoT_prompt(3)  # 0CoT prompt\n",
    "results, acc = run_sc_benchmark_test(\n",
    "    dataset=gsm8k_test,\n",
    "    prompt_template=prompt_template,\n",
    "    num_samples=50,\n",
    "    num_generations=5,  # self-consistency 횟수\n",
    "    VERBOSE=True\n",
    ")\n",
    "save_final_result(results, acc, \"my_prompting_3.txt\")\n",
    "\n"
   ]
  },
  {
   "cell_type": "code",
   "execution_count": 13,
   "id": "5cb79403",
   "metadata": {},
   "outputs": [
    {
     "name": "stderr",
     "output_type": "stream",
     "text": [
      "  2%|▏         | 1/50 [00:07<06:23,  7.82s/it]"
     ]
    },
    {
     "name": "stdout",
     "output_type": "stream",
     "text": [
      "\n",
      "[0] GT: 18 | Votes: ['18', '18', '18', '18', '18'] | Majority: 18\n"
     ]
    },
    {
     "name": "stderr",
     "output_type": "stream",
     "text": [
      "  4%|▍         | 2/50 [01:15<34:24, 43.01s/it]"
     ]
    },
    {
     "name": "stdout",
     "output_type": "stream",
     "text": [
      "\n",
      "[1] GT: 3 | Votes: ['3', '3', '3', '3', '3'] | Majority: 3\n"
     ]
    },
    {
     "name": "stderr",
     "output_type": "stream",
     "text": [
      "  6%|▌         | 3/50 [02:26<43:37, 55.69s/it]"
     ]
    },
    {
     "name": "stdout",
     "output_type": "stream",
     "text": [
      "\n",
      "[2] GT: 70000 | Votes: ['70000', '70000', '70000', '70000', '70000'] | Majority: 70000\n"
     ]
    },
    {
     "name": "stderr",
     "output_type": "stream",
     "text": [
      "  8%|▊         | 4/50 [03:35<46:46, 61.01s/it]"
     ]
    },
    {
     "name": "stdout",
     "output_type": "stream",
     "text": [
      "\n",
      "[3] GT: 540 | Votes: ['540', '540', '540', '540', '540'] | Majority: 540\n"
     ]
    },
    {
     "name": "stderr",
     "output_type": "stream",
     "text": [
      " 10%|█         | 5/50 [04:49<49:14, 65.65s/it]"
     ]
    },
    {
     "name": "stdout",
     "output_type": "stream",
     "text": [
      "\n",
      "[4] GT: 20 | Votes: ['20', '20', '20', '20', '20'] | Majority: 20\n"
     ]
    },
    {
     "name": "stderr",
     "output_type": "stream",
     "text": [
      " 12%|█▏        | 6/50 [06:01<49:49, 67.94s/it]"
     ]
    },
    {
     "name": "stdout",
     "output_type": "stream",
     "text": [
      "\n",
      "[5] GT: 64 | Votes: ['50', '64', '64', '92', '64'] | Majority: 64\n"
     ]
    },
    {
     "name": "stderr",
     "output_type": "stream",
     "text": [
      " 14%|█▍        | 7/50 [07:10<49:00, 68.38s/it]"
     ]
    },
    {
     "name": "stdout",
     "output_type": "stream",
     "text": [
      "\n",
      "[6] GT: 260 | Votes: ['260', '260', '260', '260', '260'] | Majority: 260\n"
     ]
    },
    {
     "name": "stderr",
     "output_type": "stream",
     "text": [
      " 16%|█▌        | 8/50 [08:25<49:17, 70.41s/it]"
     ]
    },
    {
     "name": "stdout",
     "output_type": "stream",
     "text": [
      "\n",
      "[7] GT: 160 | Votes: ['160', '120', '120', '160', '120'] | Majority: 120\n"
     ]
    },
    {
     "name": "stderr",
     "output_type": "stream",
     "text": [
      " 18%|█▊        | 9/50 [09:46<50:17, 73.59s/it]"
     ]
    },
    {
     "name": "stdout",
     "output_type": "stream",
     "text": [
      "\n",
      "[8] GT: 45 | Votes: ['45', '45', '45', '45', '45'] | Majority: 45\n"
     ]
    },
    {
     "name": "stderr",
     "output_type": "stream",
     "text": [
      " 20%|██        | 10/50 [10:57<48:39, 73.00s/it]"
     ]
    },
    {
     "name": "stdout",
     "output_type": "stream",
     "text": [
      "\n",
      "[9] GT: 460 | Votes: ['460', '460', '460', '460', '460'] | Majority: 460\n"
     ]
    },
    {
     "name": "stderr",
     "output_type": "stream",
     "text": [
      " 22%|██▏       | 11/50 [12:08<46:57, 72.24s/it]"
     ]
    },
    {
     "name": "stdout",
     "output_type": "stream",
     "text": [
      "\n",
      "[10] GT: 366 | Votes: ['366', '366', '366', '366', '366'] | Majority: 366\n"
     ]
    },
    {
     "name": "stderr",
     "output_type": "stream",
     "text": [
      " 24%|██▍       | 12/50 [13:20<45:40, 72.12s/it]"
     ]
    },
    {
     "name": "stdout",
     "output_type": "stream",
     "text": [
      "\n",
      "[11] GT: 694 | Votes: ['694', '694', '694', '694', '694'] | Majority: 694\n"
     ]
    },
    {
     "name": "stderr",
     "output_type": "stream",
     "text": [
      " 26%|██▌       | 13/50 [14:38<45:34, 73.91s/it]"
     ]
    },
    {
     "name": "stdout",
     "output_type": "stream",
     "text": [
      "\n",
      "[12] GT: 13 | Votes: ['12', '12', '12', '13', '12'] | Majority: 12\n"
     ]
    },
    {
     "name": "stderr",
     "output_type": "stream",
     "text": [
      " 28%|██▊       | 14/50 [15:52<44:25, 74.04s/it]"
     ]
    },
    {
     "name": "stdout",
     "output_type": "stream",
     "text": [
      "\n",
      "[13] GT: 18 | Votes: ['18', '18', '36', '18', '18'] | Majority: 18\n"
     ]
    },
    {
     "name": "stderr",
     "output_type": "stream",
     "text": [
      " 30%|███       | 15/50 [17:06<43:07, 73.94s/it]"
     ]
    },
    {
     "name": "stdout",
     "output_type": "stream",
     "text": [
      "\n",
      "[14] GT: 60 | Votes: ['60', '60', '60', '60', '60'] | Majority: 60\n"
     ]
    },
    {
     "name": "stderr",
     "output_type": "stream",
     "text": [
      " 32%|███▏      | 16/50 [18:22<42:11, 74.45s/it]"
     ]
    },
    {
     "name": "stdout",
     "output_type": "stream",
     "text": [
      "\n",
      "[15] GT: 125 | Votes: ['125', '96', '125', '125', '125'] | Majority: 125\n"
     ]
    },
    {
     "name": "stderr",
     "output_type": "stream",
     "text": [
      " 34%|███▍      | 17/50 [19:32<40:13, 73.14s/it]"
     ]
    },
    {
     "name": "stdout",
     "output_type": "stream",
     "text": [
      "\n",
      "[16] GT: 230 | Votes: ['230', '230', '230', '230', '230'] | Majority: 230\n"
     ]
    },
    {
     "name": "stderr",
     "output_type": "stream",
     "text": [
      " 36%|███▌      | 18/50 [20:44<38:49, 72.80s/it]"
     ]
    },
    {
     "name": "stdout",
     "output_type": "stream",
     "text": [
      "\n",
      "[17] GT: 57500 | Votes: ['57500', '57500', '57500', '57500', '57500'] | Majority: 57500\n"
     ]
    },
    {
     "name": "stderr",
     "output_type": "stream",
     "text": [
      " 38%|███▊      | 19/50 [21:53<37:01, 71.66s/it]"
     ]
    },
    {
     "name": "stdout",
     "output_type": "stream",
     "text": [
      "\n",
      "[18] GT: 7 | Votes: ['7', '7', '7', '7', '7'] | Majority: 7\n"
     ]
    },
    {
     "name": "stderr",
     "output_type": "stream",
     "text": [
      " 40%|████      | 20/50 [23:08<36:26, 72.89s/it]"
     ]
    },
    {
     "name": "stdout",
     "output_type": "stream",
     "text": [
      "\n",
      "[19] GT: 6 | Votes: ['6', '6', '6', '6', '4'] | Majority: 6\n"
     ]
    },
    {
     "name": "stderr",
     "output_type": "stream",
     "text": [
      " 42%|████▏     | 21/50 [24:28<36:09, 74.80s/it]"
     ]
    },
    {
     "name": "stdout",
     "output_type": "stream",
     "text": [
      "\n",
      "[20] GT: 15 | Votes: ['15', '15', '15', '15', '15'] | Majority: 15\n"
     ]
    },
    {
     "name": "stderr",
     "output_type": "stream",
     "text": [
      " 44%|████▍     | 22/50 [25:38<34:17, 73.49s/it]"
     ]
    },
    {
     "name": "stdout",
     "output_type": "stream",
     "text": [
      "\n",
      "[21] GT: 14 | Votes: ['14', '14', '14', '14', '14'] | Majority: 14\n"
     ]
    },
    {
     "name": "stderr",
     "output_type": "stream",
     "text": [
      " 46%|████▌     | 23/50 [26:46<32:20, 71.87s/it]"
     ]
    },
    {
     "name": "stdout",
     "output_type": "stream",
     "text": [
      "\n",
      "[22] GT: 7 | Votes: ['7', '7', '7', '7', '7'] | Majority: 7\n"
     ]
    },
    {
     "name": "stderr",
     "output_type": "stream",
     "text": [
      " 48%|████▊     | 24/50 [27:53<30:25, 70.23s/it]"
     ]
    },
    {
     "name": "stdout",
     "output_type": "stream",
     "text": [
      "\n",
      "[23] GT: 8 | Votes: ['8', '8', '8', '8', '8'] | Majority: 8\n"
     ]
    },
    {
     "name": "stderr",
     "output_type": "stream",
     "text": [
      " 50%|█████     | 25/50 [29:02<29:09, 69.98s/it]"
     ]
    },
    {
     "name": "stdout",
     "output_type": "stream",
     "text": [
      "\n",
      "[24] GT: 26 | Votes: ['26', '26', '26', '26', '26'] | Majority: 26\n"
     ]
    },
    {
     "name": "stderr",
     "output_type": "stream",
     "text": [
      " 52%|█████▏    | 26/50 [30:18<28:44, 71.85s/it]"
     ]
    },
    {
     "name": "stdout",
     "output_type": "stream",
     "text": [
      "\n",
      "[25] GT: 2 | Votes: ['2', '2', '2', '2', '2'] | Majority: 2\n"
     ]
    },
    {
     "name": "stderr",
     "output_type": "stream",
     "text": [
      " 54%|█████▍    | 27/50 [31:30<27:35, 71.96s/it]"
     ]
    },
    {
     "name": "stdout",
     "output_type": "stream",
     "text": [
      "\n",
      "[26] GT: 243 | Votes: ['243', '243', '243', '243', '243'] | Majority: 243\n"
     ]
    },
    {
     "name": "stderr",
     "output_type": "stream",
     "text": [
      " 56%|█████▌    | 28/50 [32:40<26:10, 71.38s/it]"
     ]
    },
    {
     "name": "stdout",
     "output_type": "stream",
     "text": [
      "\n",
      "[27] GT: 16 | Votes: ['16', '16', '16', '16', '16'] | Majority: 16\n"
     ]
    },
    {
     "name": "stderr",
     "output_type": "stream",
     "text": [
      " 58%|█████▊    | 29/50 [33:51<24:53, 71.10s/it]"
     ]
    },
    {
     "name": "stdout",
     "output_type": "stream",
     "text": [
      "\n",
      "[28] GT: 25 | Votes: ['25', '25', '25', '25', '25'] | Majority: 25\n"
     ]
    },
    {
     "name": "stderr",
     "output_type": "stream",
     "text": [
      " 60%|██████    | 30/50 [35:02<23:40, 71.03s/it]"
     ]
    },
    {
     "name": "stdout",
     "output_type": "stream",
     "text": [
      "\n",
      "[29] GT: 104 | Votes: ['104', '104', '104', '104', '104'] | Majority: 104\n"
     ]
    },
    {
     "name": "stderr",
     "output_type": "stream",
     "text": [
      " 62%|██████▏   | 31/50 [36:13<22:30, 71.10s/it]"
     ]
    },
    {
     "name": "stdout",
     "output_type": "stream",
     "text": [
      "\n",
      "[30] GT: 109 | Votes: ['109', '109', '109', '109', '109'] | Majority: 109\n"
     ]
    },
    {
     "name": "stderr",
     "output_type": "stream",
     "text": [
      " 64%|██████▍   | 32/50 [37:25<21:25, 71.43s/it]"
     ]
    },
    {
     "name": "stdout",
     "output_type": "stream",
     "text": [
      "\n",
      "[31] GT: 80 | Votes: ['80', '80', '80', '80', '80'] | Majority: 80\n"
     ]
    },
    {
     "name": "stderr",
     "output_type": "stream",
     "text": [
      " 66%|██████▌   | 33/50 [38:34<20:00, 70.60s/it]"
     ]
    },
    {
     "name": "stdout",
     "output_type": "stream",
     "text": [
      "\n",
      "[32] GT: 35 | Votes: ['35', '35', '35', '35', '35'] | Majority: 35\n"
     ]
    },
    {
     "name": "stderr",
     "output_type": "stream",
     "text": [
      " 68%|██████▊   | 34/50 [39:42<18:39, 69.99s/it]"
     ]
    },
    {
     "name": "stdout",
     "output_type": "stream",
     "text": [
      "\n",
      "[33] GT: 70 | Votes: ['70', '70', '70', '70', '70'] | Majority: 70\n"
     ]
    },
    {
     "name": "stderr",
     "output_type": "stream",
     "text": [
      " 70%|███████   | 35/50 [40:51<17:24, 69.61s/it]"
     ]
    },
    {
     "name": "stdout",
     "output_type": "stream",
     "text": [
      "\n",
      "[34] GT: 23 | Votes: ['23', '23', '23', '23', '23'] | Majority: 23\n"
     ]
    },
    {
     "name": "stderr",
     "output_type": "stream",
     "text": [
      " 72%|███████▏  | 36/50 [42:02<16:19, 69.99s/it]"
     ]
    },
    {
     "name": "stdout",
     "output_type": "stream",
     "text": [
      "\n",
      "[35] GT: 40 | Votes: ['9', '9', '9', '9', '9'] | Majority: 9\n"
     ]
    },
    {
     "name": "stderr",
     "output_type": "stream",
     "text": [
      " 74%|███████▍  | 37/50 [43:12<15:10, 70.05s/it]"
     ]
    },
    {
     "name": "stdout",
     "output_type": "stream",
     "text": [
      "\n",
      "[36] GT: 75 | Votes: ['75', '75', '75', '75', '75'] | Majority: 75\n"
     ]
    },
    {
     "name": "stderr",
     "output_type": "stream",
     "text": [
      " 76%|███████▌  | 38/50 [44:25<14:11, 70.98s/it]"
     ]
    },
    {
     "name": "stdout",
     "output_type": "stream",
     "text": [
      "\n",
      "[37] GT: 2 | Votes: ['0', '2', '2', '2', '11'] | Majority: 2\n"
     ]
    },
    {
     "name": "stderr",
     "output_type": "stream",
     "text": [
      " 78%|███████▊  | 39/50 [45:36<13:00, 70.95s/it]"
     ]
    },
    {
     "name": "stdout",
     "output_type": "stream",
     "text": [
      "\n",
      "[38] GT: 10 | Votes: ['10', '10', '10', '10', '10'] | Majority: 10\n"
     ]
    },
    {
     "name": "stderr",
     "output_type": "stream",
     "text": [
      " 80%|████████  | 40/50 [46:53<12:07, 72.75s/it]"
     ]
    },
    {
     "name": "stdout",
     "output_type": "stream",
     "text": [
      "\n",
      "[39] GT: 18 | Votes: ['18', '18', '18', '18', '18'] | Majority: 18\n"
     ]
    },
    {
     "name": "stderr",
     "output_type": "stream",
     "text": [
      " 82%|████████▏ | 41/50 [48:02<10:43, 71.46s/it]"
     ]
    },
    {
     "name": "stdout",
     "output_type": "stream",
     "text": [
      "\n",
      "[40] GT: 8 | Votes: ['8', '8', '8', '8', '8'] | Majority: 8\n"
     ]
    },
    {
     "name": "stderr",
     "output_type": "stream",
     "text": [
      " 84%|████████▍ | 42/50 [49:15<09:36, 72.01s/it]"
     ]
    },
    {
     "name": "stdout",
     "output_type": "stream",
     "text": [
      "\n",
      "[41] GT: 200 | Votes: ['600', '200', '200', '200', '200'] | Majority: 200\n"
     ]
    },
    {
     "name": "stderr",
     "output_type": "stream",
     "text": [
      " 86%|████████▌ | 43/50 [50:25<08:20, 71.57s/it]"
     ]
    },
    {
     "name": "stdout",
     "output_type": "stream",
     "text": [
      "\n",
      "[42] GT: 26 | Votes: ['26', '26', '26', '26', '26'] | Majority: 26\n"
     ]
    },
    {
     "name": "stderr",
     "output_type": "stream",
     "text": [
      " 88%|████████▊ | 44/50 [51:38<07:11, 71.99s/it]"
     ]
    },
    {
     "name": "stdout",
     "output_type": "stream",
     "text": [
      "\n",
      "[43] GT: 48 | Votes: ['48', '48', '48', '48', '47'] | Majority: 48\n"
     ]
    },
    {
     "name": "stderr",
     "output_type": "stream",
     "text": [
      " 90%|█████████ | 45/50 [52:51<06:01, 72.28s/it]"
     ]
    },
    {
     "name": "stdout",
     "output_type": "stream",
     "text": [
      "\n",
      "[44] GT: 20 | Votes: ['20', '20', '20', '20', '20'] | Majority: 20\n"
     ]
    },
    {
     "name": "stderr",
     "output_type": "stream",
     "text": [
      " 92%|█████████▏| 46/50 [54:06<04:51, 72.99s/it]"
     ]
    },
    {
     "name": "stdout",
     "output_type": "stream",
     "text": [
      "\n",
      "[45] GT: 104 | Votes: ['104', '104', '104', '104', '104'] | Majority: 104\n"
     ]
    },
    {
     "name": "stderr",
     "output_type": "stream",
     "text": [
      " 94%|█████████▍| 47/50 [55:19<03:38, 72.91s/it]"
     ]
    },
    {
     "name": "stdout",
     "output_type": "stream",
     "text": [
      "\n",
      "[46] GT: 163 | Votes: ['163', '163', '163', '163', '163'] | Majority: 163\n"
     ]
    },
    {
     "name": "stderr",
     "output_type": "stream",
     "text": [
      " 96%|█████████▌| 48/50 [56:30<02:24, 72.44s/it]"
     ]
    },
    {
     "name": "stdout",
     "output_type": "stream",
     "text": [
      "\n",
      "[47] GT: 800 | Votes: ['800', '800', '800', '800', '800'] | Majority: 800\n"
     ]
    },
    {
     "name": "stderr",
     "output_type": "stream",
     "text": [
      " 98%|█████████▊| 49/50 [57:39<01:11, 71.50s/it]"
     ]
    },
    {
     "name": "stdout",
     "output_type": "stream",
     "text": [
      "\n",
      "[48] GT: 8 | Votes: ['8', '8', '8', '8', '8'] | Majority: 8\n"
     ]
    },
    {
     "name": "stderr",
     "output_type": "stream",
     "text": [
      "100%|██████████| 50/50 [58:50<00:00, 70.61s/it]"
     ]
    },
    {
     "name": "stdout",
     "output_type": "stream",
     "text": [
      "\n",
      "[49] GT: 30 | Votes: ['30', '30', '30', '30', '30'] | Majority: 30\n"
     ]
    },
    {
     "name": "stderr",
     "output_type": "stream",
     "text": [
      "\n"
     ]
    }
   ],
   "source": [
    "\n",
    "\n",
    "#5-shot\n",
    "\n",
    "\n",
    "prompt_template = construct_CoT_prompt(5)  # CoT prompt\n",
    "results, acc = run_sc_benchmark_test(\n",
    "    dataset=gsm8k_test,\n",
    "    prompt_template=prompt_template,\n",
    "    num_samples=50,\n",
    "    num_generations=5,  # self-consistency 횟수\n",
    "    VERBOSE=True\n",
    ")\n",
    "save_final_result(results, acc, \"my_prompting_5.txt\")\n",
    "\n",
    "\n",
    "\n",
    "\n",
    "\n",
    "\n"
   ]
  },
  {
   "cell_type": "markdown",
   "id": "ecd837d7",
   "metadata": {},
   "source": [
    "### 보고서 작성하기\n",
    "#### 아래의 내용이 포함되면 됩니다!\n",
    "\n",
    "1. Direct Prompting, CoT Prompting, My Prompting을 0 shot, 3 shot, 5 shot 정답률을 표로 보여주세요!\n",
    "2. CoT Prompting이 Direct Prompting에 비해 왜 좋을 수 있는지에 대해서 서술해주세요!\n",
    "3. 본인이 작성한 프롬프트 기법이 CoT에 비해서 왜 더 좋을 수 있는지에 대해서 설명해주세요!\n",
    "4. 최종적으로, `PROMPTING.md`에 보고서를 작성해주세요!"
   ]
  }
 ],
 "metadata": {
  "kernelspec": {
   "display_name": "myenv",
   "language": "python",
   "name": "python3"
  },
  "language_info": {
   "codemirror_mode": {
    "name": "ipython",
    "version": 3
   },
   "file_extension": ".py",
   "mimetype": "text/x-python",
   "name": "python",
   "nbconvert_exporter": "python",
   "pygments_lexer": "ipython3",
   "version": "3.11.13"
  }
 },
 "nbformat": 4,
 "nbformat_minor": 5
}
